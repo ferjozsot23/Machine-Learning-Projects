{
  "cells": [
    {
      "cell_type": "markdown",
      "metadata": {
        "id": "view-in-github",
        "colab_type": "text"
      },
      "source": [
        "<a href=\"https://colab.research.google.com/github/ferjozsot23/Machine-Learning-Projects/blob/main/K_MEANS.ipynb\" target=\"_parent\"><img src=\"https://colab.research.google.com/assets/colab-badge.svg\" alt=\"Open In Colab\"/></a>"
      ]
    },
    {
      "cell_type": "markdown",
      "metadata": {
        "id": "4pJyj2z0LtHA"
      },
      "source": [
        "Fernando José Soto Jácome"
      ]
    },
    {
      "cell_type": "markdown",
      "metadata": {
        "id": "-oyfvDWyLtHD"
      },
      "source": [
        "# Objetivos\n",
        "1. Comprender las diferencias de clasificación supervisada y no supervisada para aplicar los correctos algoritmos\n",
        "1. Aplicar K-means a una tarea de clasificación no supervisada con diferentes valores de K.\n",
        "2. Graficar los clusters de las observaciones y sus respectivos centroids"
      ]
    },
    {
      "cell_type": "markdown",
      "metadata": {
        "id": "YbJNNa_2LtHE"
      },
      "source": [
        "# Introducción\n",
        "Los algoritmos de aprendizaje automático se pueden clasificar generalmente en dos categorías: aprendizaje supervisado y no supervisado. La diferencia entre ellos ocurre debido a la presencia de la variable target. En el aprendizaje no supervisado, no hay una variable objetivo. El conjunto de datos solo tiene variables de entrada que describen los datos. Esto se llama aprendizaje no supervisado.\n",
        "\n",
        "K-Means es el algoritmo de aprendizaje no supervisado más popular. Se utiliza cuando tenemos datos sin etiquetar que son datos sin categorías o grupos definidos. El algoritmo sigue una forma fácil de clasificar un conjunto de datos dado a través de un cierto número de clústeres, fijados de manera intencional. El algoritmo K-Means funciona de forma iterativa para asignar cada punto de datos a uno de los K grupos en función de las características que se proporcionan. Los puntos de datos se agrupan en función de la similitud de características.\n",
        "\n",
        "En este informe se realizará una tarea de clasificación no supervisado mediante el algoritmo de K-means utilizando un dataset de clientes de un supermercado.\n"
      ]
    },
    {
      "cell_type": "markdown",
      "metadata": {
        "id": "Y44rCWcKLtHF"
      },
      "source": [
        "# Ejercicios presentados"
      ]
    },
    {
      "cell_type": "markdown",
      "metadata": {
        "id": "Bj0PoWEKLtHF"
      },
      "source": [
        "# Ejercicios Python"
      ]
    },
    {
      "cell_type": "code",
      "execution_count": null,
      "metadata": {
        "id": "Y46lL3PjLtHG"
      },
      "outputs": [],
      "source": [
        "import numpy as np\n",
        "import pandas as pd\n",
        "import matplotlib.pyplot as plt\n",
        "from sklearn.cluster import KMeans\n",
        "from sklearn import metrics\n"
      ]
    },
    {
      "cell_type": "markdown",
      "metadata": {
        "id": "k2BH-XYjLtHI"
      },
      "source": [
        "# K-MEANS"
      ]
    },
    {
      "cell_type": "markdown",
      "metadata": {
        "id": "dx5Ea9nmLtHI"
      },
      "source": [
        "Dataset obtenido de https://www.kaggle.com/code/kushal1996/customer-segmentation-k-means-analysis/data"
      ]
    },
    {
      "cell_type": "markdown",
      "metadata": {
        "id": "al70OL_eLtHI"
      },
      "source": [
        "Dataset que contiene información de clientes de un mall determinado"
      ]
    },
    {
      "cell_type": "code",
      "execution_count": null,
      "metadata": {
        "id": "e6p8HCVRLtHJ"
      },
      "outputs": [],
      "source": [
        "cust_df = pd.read_csv('Mall_Customers.csv')\n",
        "cust_df.set_index('CustomerID', inplace=True)"
      ]
    },
    {
      "cell_type": "code",
      "execution_count": null,
      "metadata": {
        "id": "lyIRC-9iLtHK",
        "outputId": "b314ffc1-1c7c-478e-e60d-6e054e6bc647"
      },
      "outputs": [
        {
          "data": {
            "text/html": [
              "<div>\n",
              "<style scoped>\n",
              "    .dataframe tbody tr th:only-of-type {\n",
              "        vertical-align: middle;\n",
              "    }\n",
              "\n",
              "    .dataframe tbody tr th {\n",
              "        vertical-align: top;\n",
              "    }\n",
              "\n",
              "    .dataframe thead th {\n",
              "        text-align: right;\n",
              "    }\n",
              "</style>\n",
              "<table border=\"1\" class=\"dataframe\">\n",
              "  <thead>\n",
              "    <tr style=\"text-align: right;\">\n",
              "      <th></th>\n",
              "      <th>Gender</th>\n",
              "      <th>Age</th>\n",
              "      <th>Annual Income (k$)</th>\n",
              "      <th>Spending Score (1-100)</th>\n",
              "    </tr>\n",
              "    <tr>\n",
              "      <th>CustomerID</th>\n",
              "      <th></th>\n",
              "      <th></th>\n",
              "      <th></th>\n",
              "      <th></th>\n",
              "    </tr>\n",
              "  </thead>\n",
              "  <tbody>\n",
              "    <tr>\n",
              "      <th>1</th>\n",
              "      <td>Male</td>\n",
              "      <td>19</td>\n",
              "      <td>15</td>\n",
              "      <td>39</td>\n",
              "    </tr>\n",
              "    <tr>\n",
              "      <th>2</th>\n",
              "      <td>Male</td>\n",
              "      <td>21</td>\n",
              "      <td>15</td>\n",
              "      <td>81</td>\n",
              "    </tr>\n",
              "    <tr>\n",
              "      <th>3</th>\n",
              "      <td>Female</td>\n",
              "      <td>20</td>\n",
              "      <td>16</td>\n",
              "      <td>6</td>\n",
              "    </tr>\n",
              "  </tbody>\n",
              "</table>\n",
              "</div>"
            ],
            "text/plain": [
              "            Gender  Age  Annual Income (k$)  Spending Score (1-100)\n",
              "CustomerID                                                         \n",
              "1             Male   19                  15                      39\n",
              "2             Male   21                  15                      81\n",
              "3           Female   20                  16                       6"
            ]
          },
          "execution_count": 4,
          "metadata": {},
          "output_type": "execute_result"
        }
      ],
      "source": [
        "cust_df.head(3)"
      ]
    },
    {
      "cell_type": "code",
      "execution_count": null,
      "metadata": {
        "id": "zG3AbpGRLtHL",
        "outputId": "b082ab03-8aca-48ef-8906-b039675edfd2"
      },
      "outputs": [
        {
          "data": {
            "text/plain": [
              "Gender                    object\n",
              "Age                        int64\n",
              "Annual Income (k$)         int64\n",
              "Spending Score (1-100)     int64\n",
              "dtype: object"
            ]
          },
          "execution_count": 5,
          "metadata": {},
          "output_type": "execute_result"
        }
      ],
      "source": [
        "cust_df.dtypes"
      ]
    },
    {
      "cell_type": "code",
      "execution_count": null,
      "metadata": {
        "id": "XJ9So0GSLtHM"
      },
      "outputs": [],
      "source": [
        "X = cust_df.iloc[:,2:4]"
      ]
    },
    {
      "cell_type": "code",
      "execution_count": null,
      "metadata": {
        "id": "D17N8Fv4LtHM",
        "outputId": "7fa65c1a-f85a-49b0-f3cc-9c8f6c4e4b06"
      },
      "outputs": [
        {
          "data": {
            "text/html": [
              "<div>\n",
              "<style scoped>\n",
              "    .dataframe tbody tr th:only-of-type {\n",
              "        vertical-align: middle;\n",
              "    }\n",
              "\n",
              "    .dataframe tbody tr th {\n",
              "        vertical-align: top;\n",
              "    }\n",
              "\n",
              "    .dataframe thead th {\n",
              "        text-align: right;\n",
              "    }\n",
              "</style>\n",
              "<table border=\"1\" class=\"dataframe\">\n",
              "  <thead>\n",
              "    <tr style=\"text-align: right;\">\n",
              "      <th></th>\n",
              "      <th>Annual Income (k$)</th>\n",
              "      <th>Spending Score (1-100)</th>\n",
              "    </tr>\n",
              "    <tr>\n",
              "      <th>CustomerID</th>\n",
              "      <th></th>\n",
              "      <th></th>\n",
              "    </tr>\n",
              "  </thead>\n",
              "  <tbody>\n",
              "    <tr>\n",
              "      <th>1</th>\n",
              "      <td>15</td>\n",
              "      <td>39</td>\n",
              "    </tr>\n",
              "    <tr>\n",
              "      <th>2</th>\n",
              "      <td>15</td>\n",
              "      <td>81</td>\n",
              "    </tr>\n",
              "    <tr>\n",
              "      <th>3</th>\n",
              "      <td>16</td>\n",
              "      <td>6</td>\n",
              "    </tr>\n",
              "  </tbody>\n",
              "</table>\n",
              "</div>"
            ],
            "text/plain": [
              "            Annual Income (k$)  Spending Score (1-100)\n",
              "CustomerID                                            \n",
              "1                           15                      39\n",
              "2                           15                      81\n",
              "3                           16                       6"
            ]
          },
          "execution_count": 7,
          "metadata": {},
          "output_type": "execute_result"
        }
      ],
      "source": [
        "# FEATURES: Annual Income (k$) - Spending Score (1-100)\n",
        "X.head(3)"
      ]
    },
    {
      "cell_type": "code",
      "execution_count": null,
      "metadata": {
        "id": "p84n-GecLtHN"
      },
      "outputs": [],
      "source": [
        "X = np.array(X)"
      ]
    },
    {
      "cell_type": "code",
      "execution_count": null,
      "metadata": {
        "id": "wBpQ5snHLtHN",
        "outputId": "bf680b7f-bf17-4841-c088-f7e9e4a93b37"
      },
      "outputs": [
        {
          "data": {
            "text/plain": [
              "([], [])"
            ]
          },
          "execution_count": 9,
          "metadata": {},
          "output_type": "execute_result"
        },
        {
          "data": {
            "image/png": "[encoded data removed]",
            "text/plain": [
              "<Figure size 432x288 with 1 Axes>"
            ]
          },
          "metadata": {},
          "output_type": "display_data"
        }
      ],
      "source": [
        "plt.figure()\n",
        "plt.scatter(X[:,0], X[:,1], marker='o', facecolors='none', edgecolors='black', s=80)\n",
        "x_min, x_max = X[:, 0].min() - 1, X[:, 0].max() + 1\n",
        "y_min, y_max = X[:, 1].min() - 1, X[:, 1].max() + 1\n",
        "plt.title('Stock prices')\n",
        "plt.xlim(x_min, x_max)\n",
        "plt.ylim(y_min, y_max)\n",
        "plt.xticks(())\n",
        "plt.yticks(())"
      ]
    },
    {
      "cell_type": "markdown",
      "metadata": {
        "id": "pDHZeq7OLtHN"
      },
      "source": [
        "Se puede distinguir un aproximado de 5 clusters"
      ]
    },
    {
      "cell_type": "markdown",
      "metadata": {
        "id": "r-GC9powLtHO"
      },
      "source": [
        "# Creación del objeto kmeans"
      ]
    },
    {
      "cell_type": "markdown",
      "metadata": {
        "id": "ODQEK6fOLtHO"
      },
      "source": [
        "# K = 3"
      ]
    },
    {
      "cell_type": "code",
      "execution_count": null,
      "metadata": {
        "id": "o6gfz4_XLtHP"
      },
      "outputs": [],
      "source": [
        "num_clusters = 3"
      ]
    },
    {
      "cell_type": "code",
      "execution_count": null,
      "metadata": {
        "id": "9lp6xySkLtHP"
      },
      "outputs": [],
      "source": [
        "# Create KMeans object\n",
        "kmeans = KMeans(init='k-means++', n_clusters=num_clusters, n_init=10)\n",
        "#n_init int, predeterminado=10\n",
        "#Número de veces que se ejecutará el algoritmo k-means con semillas de centroide diferentes.\n",
        "#Los resultados finales serán la mejor salida de n_init ejecuciones consecutivas."
      ]
    },
    {
      "cell_type": "code",
      "execution_count": null,
      "metadata": {
        "id": "ZjSjWW31LtHQ",
        "outputId": "3a343029-ba18-4fd9-b64f-f6925551e5b6"
      },
      "outputs": [
        {
          "data": {
            "text/plain": [
              "(200, 2)"
            ]
          },
          "execution_count": 12,
          "metadata": {},
          "output_type": "execute_result"
        }
      ],
      "source": [
        "X.shape"
      ]
    },
    {
      "cell_type": "code",
      "execution_count": null,
      "metadata": {
        "id": "h8ryMiQ-LtHQ",
        "outputId": "198c96c5-19e3-4e98-9748-0c042d9db780"
      },
      "outputs": [
        {
          "data": {
            "text/plain": [
              "KMeans(n_clusters=3)"
            ]
          },
          "execution_count": 13,
          "metadata": {},
          "output_type": "execute_result"
        }
      ],
      "source": [
        "kmeans.fit(X)"
      ]
    },
    {
      "cell_type": "code",
      "execution_count": null,
      "metadata": {
        "id": "P5oWcEyWLtHQ",
        "outputId": "d172fcf5-a4bd-4927-d3ba-7c18f49da413"
      },
      "outputs": [
        {
          "data": {
            "text/plain": [
              "array([0, 0, 0, 0, 0, 0, 0, 0, 0, 0, 0, 0, 0, 0, 0, 0, 0, 0, 0, 0, 0, 0,\n",
              "       0, 0, 0, 0, 0, 0, 0, 0, 0, 0, 0, 0, 0, 0, 0, 0, 0, 0, 0, 0, 0, 0,\n",
              "       0, 0, 0, 0, 0, 0, 0, 0, 0, 0, 0, 0, 0, 0, 0, 0, 0, 0, 0, 0, 0, 0,\n",
              "       0, 0, 0, 0, 0, 0, 0, 0, 0, 0, 0, 0, 0, 0, 0, 0, 0, 0, 0, 0, 0, 0,\n",
              "       0, 0, 0, 0, 0, 0, 0, 0, 0, 0, 0, 0, 0, 0, 0, 0, 0, 0, 0, 0, 0, 0,\n",
              "       0, 0, 0, 0, 0, 0, 0, 0, 0, 0, 0, 0, 0, 1, 2, 1, 2, 1, 2, 1, 2, 1,\n",
              "       2, 1, 2, 1, 2, 1, 2, 1, 2, 1, 2, 1, 2, 1, 2, 1, 2, 1, 2, 1, 2, 1,\n",
              "       2, 1, 2, 1, 2, 1, 2, 1, 2, 1, 2, 1, 2, 1, 2, 1, 2, 1, 2, 1, 2, 1,\n",
              "       2, 1, 2, 1, 2, 1, 2, 1, 2, 1, 2, 1, 2, 1, 2, 1, 2, 1, 2, 1, 2, 1,\n",
              "       2, 1])"
            ]
          },
          "execution_count": 14,
          "metadata": {},
          "output_type": "execute_result"
        }
      ],
      "source": [
        "kmeans.labels_"
      ]
    },
    {
      "cell_type": "code",
      "execution_count": null,
      "metadata": {
        "id": "DZKJuGl-LtHR",
        "outputId": "7e6c2b04-a40e-4967-c1af-3eb0a9c38875"
      },
      "outputs": [
        {
          "data": {
            "text/plain": [
              "array([[44.15447154, 49.82926829],\n",
              "       [86.53846154, 82.12820513],\n",
              "       [87.        , 18.63157895]])"
            ]
          },
          "execution_count": 15,
          "metadata": {},
          "output_type": "execute_result"
        }
      ],
      "source": [
        "kmeans.cluster_centers_"
      ]
    },
    {
      "cell_type": "markdown",
      "metadata": {
        "id": "-J1VfwDiLtHR"
      },
      "source": [
        "#### Se desea saber a qué clusters pertenecen las siguientes observaciones"
      ]
    },
    {
      "cell_type": "code",
      "execution_count": null,
      "metadata": {
        "id": "pb_NkrTRLtHR",
        "outputId": "4af664ce-1d51-4131-9d21-dfb320ca1977"
      },
      "outputs": [
        {
          "data": {
            "text/plain": [
              "array([0, 0])"
            ]
          },
          "execution_count": 23,
          "metadata": {},
          "output_type": "execute_result"
        }
      ],
      "source": [
        "kmeans.predict([[15, 39],[15,81]])"
      ]
    },
    {
      "cell_type": "markdown",
      "metadata": {
        "id": "ZtNK0YHiLtHR"
      },
      "source": [
        "Se añadirá cada observación al cluster que pertenece"
      ]
    },
    {
      "cell_type": "code",
      "execution_count": null,
      "metadata": {
        "id": "g9NCshBULtHS"
      },
      "outputs": [],
      "source": [
        "\n",
        "labels = kmeans.labels_\n",
        "clusters = {}\n",
        "n = 0\n",
        "for item in labels:\n",
        "    if item in clusters:\n",
        "        clusters[item].append(X[n])\n",
        "    else:\n",
        "        clusters[item] = [X[n]]\n",
        "    n +=1"
      ]
    },
    {
      "cell_type": "markdown",
      "metadata": {
        "id": "rN6I0FChLtHS"
      },
      "source": [
        "Se imprime cada cluster con sus observaciones pertenecientes"
      ]
    },
    {
      "cell_type": "markdown",
      "metadata": {
        "id": "qg4AwHCdLtHS"
      },
      "source": [
        "### Gráfico de los clusters"
      ]
    },
    {
      "cell_type": "code",
      "execution_count": null,
      "metadata": {
        "id": "brqDFbZqLtHS"
      },
      "outputs": [],
      "source": [
        "# Se define el tamaño de paso de la malla\n",
        "step_size = 0.01\n",
        "\n",
        "# Se define la cuadrícula de puntos para trazar los límites\n",
        "x_min, x_max = X[:, 0].min() - 1, X[:, 0].max() + 1\n",
        "y_min, y_max = X[:, 1].min() - 1, X[:, 1].max() + 1\n",
        "x_vals, y_vals = np.meshgrid(np.arange(x_min, x_max, step_size),\n",
        "        np.arange(y_min, y_max, step_size))"
      ]
    },
    {
      "cell_type": "code",
      "execution_count": null,
      "metadata": {
        "id": "NoSknzF7LtHS",
        "outputId": "5342a03c-d882-4d07-8eb3-20aa6667e78c"
      },
      "outputs": [
        {
          "data": {
            "text/plain": [
              "array([[ 14.  ,  14.01,  14.02, ..., 137.97, 137.98, 137.99],\n",
              "       [ 14.  ,  14.01,  14.02, ..., 137.97, 137.98, 137.99],\n",
              "       [ 14.  ,  14.01,  14.02, ..., 137.97, 137.98, 137.99],\n",
              "       ...,\n",
              "       [ 14.  ,  14.01,  14.02, ..., 137.97, 137.98, 137.99],\n",
              "       [ 14.  ,  14.01,  14.02, ..., 137.97, 137.98, 137.99],\n",
              "       [ 14.  ,  14.01,  14.02, ..., 137.97, 137.98, 137.99]])"
            ]
          },
          "execution_count": 18,
          "metadata": {},
          "output_type": "execute_result"
        }
      ],
      "source": [
        "x_vals"
      ]
    },
    {
      "cell_type": "code",
      "execution_count": null,
      "metadata": {
        "id": "zvNCVMurLtHT"
      },
      "outputs": [],
      "source": [
        "output = kmeans.predict(np.c_[x_vals.ravel(), y_vals.ravel()])"
      ]
    },
    {
      "cell_type": "code",
      "execution_count": null,
      "metadata": {
        "id": "9sogTV0_LtHT",
        "outputId": "1a176e90-7574-4176-be35-163a4004ef93"
      },
      "outputs": [
        {
          "data": {
            "image/png": "[encoded data removed]",
            "text/plain": [
              "<Figure size 432x288 with 1 Axes>"
            ]
          },
          "metadata": {},
          "output_type": "display_data"
        }
      ],
      "source": [
        "# Plot different regions and color them\n",
        "output = output.reshape(x_vals.shape)\n",
        "plt.figure()\n",
        "plt.clf()\n",
        "plt.imshow(output, interpolation='nearest',\n",
        "           extent=(x_vals.min(), x_vals.max(),\n",
        "               y_vals.min(), y_vals.max()),\n",
        "           cmap=plt.cm.Paired,\n",
        "           aspect='auto',\n",
        "           origin='lower')\n",
        "\n",
        "# Overlay input points\n",
        "plt.scatter(X[:,0], X[:,1], marker='o', facecolors='none',\n",
        "        edgecolors='black', s=80)\n",
        "\n",
        "# Plot the centers of clusters\n",
        "cluster_centers = kmeans.cluster_centers_\n",
        "plt.scatter(cluster_centers[:,0], cluster_centers[:,1],\n",
        "        marker='o', s=300, linewidths=2, color='white',\n",
        "        zorder=12, facecolors='white')\n",
        "\n",
        "x_min, x_max = X[:, 0].min() - 1, X[:, 0].max() + 1\n",
        "y_min, y_max = X[:, 1].min() - 1, X[:, 1].max() + 1\n",
        "plt.title('Boundaries of clusters')\n",
        "plt.xlim(x_min, x_max)\n",
        "plt.ylim(y_min, y_max)\n",
        "plt.xticks(())\n",
        "plt.yticks(())\n",
        "plt.show()"
      ]
    },
    {
      "cell_type": "markdown",
      "metadata": {
        "id": "Yhrz4SVtLtHT"
      },
      "source": [
        "# K = 5"
      ]
    },
    {
      "cell_type": "code",
      "execution_count": null,
      "metadata": {
        "id": "h0gwCM1gLtHT"
      },
      "outputs": [],
      "source": [
        "num_clusters = 5"
      ]
    },
    {
      "cell_type": "code",
      "execution_count": null,
      "metadata": {
        "id": "96Y7em3HLtHU"
      },
      "outputs": [],
      "source": [
        "# Create KMeans object\n",
        "kmeans = KMeans(init='k-means++', n_clusters=num_clusters, n_init=10)\n",
        "#n_init int, predeterminado=10\n",
        "#Número de veces que se ejecutará el algoritmo k-means con semillas de centroide diferentes.\n",
        "#Los resultados finales serán la mejor salida de n_init ejecuciones consecutivas."
      ]
    },
    {
      "cell_type": "code",
      "execution_count": null,
      "metadata": {
        "id": "z9Z93rj4LtHU",
        "outputId": "88e4733f-65f5-4ccc-aa3e-0bdbe046b81f"
      },
      "outputs": [
        {
          "data": {
            "text/plain": [
              "KMeans(n_clusters=5)"
            ]
          },
          "execution_count": 12,
          "metadata": {},
          "output_type": "execute_result"
        }
      ],
      "source": [
        "# Se le entrena\n",
        "kmeans.fit(X)"
      ]
    },
    {
      "cell_type": "code",
      "execution_count": null,
      "metadata": {
        "id": "OKb6DY5-LtHa",
        "outputId": "54febcab-4c07-4c38-ae76-83fad38ea9cb"
      },
      "outputs": [
        {
          "data": {
            "text/plain": [
              "array([4, 1, 4, 1, 4, 1, 4, 1, 4, 1, 4, 1, 4, 1, 4, 1, 4, 1, 4, 1, 4, 1,\n",
              "       4, 1, 4, 1, 4, 1, 4, 1, 4, 1, 4, 1, 4, 1, 4, 1, 4, 1, 4, 1, 4, 0,\n",
              "       4, 1, 0, 0, 0, 0, 0, 0, 0, 0, 0, 0, 0, 0, 0, 0, 0, 0, 0, 0, 0, 0,\n",
              "       0, 0, 0, 0, 0, 0, 0, 0, 0, 0, 0, 0, 0, 0, 0, 0, 0, 0, 0, 0, 0, 0,\n",
              "       0, 0, 0, 0, 0, 0, 0, 0, 0, 0, 0, 0, 0, 0, 0, 0, 0, 0, 0, 0, 0, 0,\n",
              "       0, 0, 0, 0, 0, 0, 0, 0, 0, 0, 0, 0, 0, 3, 2, 3, 0, 3, 2, 3, 2, 3,\n",
              "       0, 3, 2, 3, 2, 3, 2, 3, 2, 3, 0, 3, 2, 3, 2, 3, 2, 3, 2, 3, 2, 3,\n",
              "       2, 3, 2, 3, 2, 3, 2, 3, 2, 3, 2, 3, 2, 3, 2, 3, 2, 3, 2, 3, 2, 3,\n",
              "       2, 3, 2, 3, 2, 3, 2, 3, 2, 3, 2, 3, 2, 3, 2, 3, 2, 3, 2, 3, 2, 3,\n",
              "       2, 3])"
            ]
          },
          "execution_count": 13,
          "metadata": {},
          "output_type": "execute_result"
        }
      ],
      "source": [
        "kmeans.labels_"
      ]
    },
    {
      "cell_type": "code",
      "execution_count": null,
      "metadata": {
        "id": "PjTrN3x1LtHb",
        "outputId": "6f415023-81de-4364-c694-7adbc1df291d"
      },
      "outputs": [
        {
          "data": {
            "text/plain": [
              "array([[55.2962963 , 49.51851852],\n",
              "       [25.72727273, 79.36363636],\n",
              "       [88.2       , 17.11428571],\n",
              "       [86.53846154, 82.12820513],\n",
              "       [26.30434783, 20.91304348]])"
            ]
          },
          "execution_count": 14,
          "metadata": {},
          "output_type": "execute_result"
        }
      ],
      "source": [
        "kmeans.cluster_centers_"
      ]
    },
    {
      "cell_type": "markdown",
      "metadata": {
        "id": "F9uWpj6wLtHb"
      },
      "source": [
        "#### Se desea saber a qué clusters pertenecen las siguientes observaciones"
      ]
    },
    {
      "cell_type": "code",
      "execution_count": null,
      "metadata": {
        "id": "NswXGMODLtHb",
        "outputId": "fae91343-e914-4e16-9471-32b7ed0c299c"
      },
      "outputs": [
        {
          "data": {
            "text/plain": [
              "array([4, 1])"
            ]
          },
          "execution_count": 15,
          "metadata": {},
          "output_type": "execute_result"
        }
      ],
      "source": [
        "kmeans.predict([[15, 39],[15,81]])"
      ]
    },
    {
      "cell_type": "markdown",
      "metadata": {
        "id": "r32r3Y4_LtHb"
      },
      "source": [
        "Se añadirá cada observación al cluster que pertenece"
      ]
    },
    {
      "cell_type": "code",
      "execution_count": null,
      "metadata": {
        "id": "Z5rXuA_RLtHb"
      },
      "outputs": [],
      "source": [
        "\n",
        "labels = kmeans.labels_\n",
        "clusters = {}\n",
        "n = 0\n",
        "for item in labels:\n",
        "    if item in clusters:\n",
        "        clusters[item].append(X[n])\n",
        "    else:\n",
        "        clusters[item] = [X[n]]\n",
        "    n +=1"
      ]
    },
    {
      "cell_type": "markdown",
      "metadata": {
        "id": "W6oK-V0qLtHc"
      },
      "source": [
        "Se imprime cada cluster con sus observaciones pertenecientes"
      ]
    },
    {
      "cell_type": "markdown",
      "metadata": {
        "id": "0M21qF77LtHc"
      },
      "source": [
        "### Gráfico de los clusters"
      ]
    },
    {
      "cell_type": "code",
      "execution_count": null,
      "metadata": {
        "id": "4g3vB_fpLtHc"
      },
      "outputs": [],
      "source": [
        "# Se define el tamaño de paso de la malla\n",
        "step_size = 0.01\n",
        "\n",
        "# Se define la cuadrícula de puntos para trazar los límites\n",
        "x_min, x_max = X[:, 0].min() - 1, X[:, 0].max() + 1\n",
        "y_min, y_max = X[:, 1].min() - 1, X[:, 1].max() + 1\n",
        "x_vals, y_vals = np.meshgrid(np.arange(x_min, x_max, step_size),\n",
        "        np.arange(y_min, y_max, step_size))"
      ]
    },
    {
      "cell_type": "code",
      "execution_count": null,
      "metadata": {
        "id": "MEkMFsTgLtHc",
        "outputId": "b68537ed-fce4-4c11-f883-5eb8053592d3"
      },
      "outputs": [
        {
          "data": {
            "text/plain": [
              "array([[ 14.  ,  14.01,  14.02, ..., 137.97, 137.98, 137.99],\n",
              "       [ 14.  ,  14.01,  14.02, ..., 137.97, 137.98, 137.99],\n",
              "       [ 14.  ,  14.01,  14.02, ..., 137.97, 137.98, 137.99],\n",
              "       ...,\n",
              "       [ 14.  ,  14.01,  14.02, ..., 137.97, 137.98, 137.99],\n",
              "       [ 14.  ,  14.01,  14.02, ..., 137.97, 137.98, 137.99],\n",
              "       [ 14.  ,  14.01,  14.02, ..., 137.97, 137.98, 137.99]])"
            ]
          },
          "execution_count": 22,
          "metadata": {},
          "output_type": "execute_result"
        }
      ],
      "source": [
        "x_vals"
      ]
    },
    {
      "cell_type": "code",
      "execution_count": null,
      "metadata": {
        "id": "md3Shqo_LtHc",
        "outputId": "925a697b-b4bb-4acd-e339-178303cc4a51"
      },
      "outputs": [
        {
          "data": {
            "text/plain": [
              "(10000, 12400)"
            ]
          },
          "execution_count": 23,
          "metadata": {},
          "output_type": "execute_result"
        }
      ],
      "source": [
        "x_vals.shape"
      ]
    },
    {
      "cell_type": "code",
      "execution_count": null,
      "metadata": {
        "id": "tAtW1dYRLtHd",
        "outputId": "973934c2-5fab-44af-e244-794583ec659b"
      },
      "outputs": [
        {
          "data": {
            "text/plain": [
              "(10000, 12400)"
            ]
          },
          "execution_count": 26,
          "metadata": {},
          "output_type": "execute_result"
        }
      ],
      "source": [
        "y_vals.shape"
      ]
    },
    {
      "cell_type": "code",
      "execution_count": null,
      "metadata": {
        "id": "SLom86QVLtHd"
      },
      "outputs": [],
      "source": [
        "output = kmeans.predict(np.c_[x_vals.ravel(), y_vals.ravel()])"
      ]
    },
    {
      "cell_type": "code",
      "execution_count": null,
      "metadata": {
        "id": "Cue2CtcBLtHd",
        "outputId": "5d23893b-5068-4782-d2cb-0ffb852c2d17"
      },
      "outputs": [
        {
          "data": {
            "image/png": "[encoded data removed]",
            "text/plain": [
              "<Figure size 432x288 with 1 Axes>"
            ]
          },
          "metadata": {},
          "output_type": "display_data"
        }
      ],
      "source": [
        "# Plot different regions and color them\n",
        "output = output.reshape(x_vals.shape)\n",
        "plt.figure()\n",
        "plt.clf()\n",
        "plt.imshow(output, interpolation='nearest',\n",
        "           extent=(x_vals.min(), x_vals.max(),\n",
        "               y_vals.min(), y_vals.max()),\n",
        "           cmap=plt.cm.Paired,\n",
        "           aspect='auto',\n",
        "           origin='lower')\n",
        "\n",
        "# Overlay input points\n",
        "plt.scatter(X[:,0], X[:,1], marker='o', facecolors='none',\n",
        "        edgecolors='black', s=80)\n",
        "\n",
        "# Plot the centers of clusters\n",
        "cluster_centers = kmeans.cluster_centers_\n",
        "plt.scatter(cluster_centers[:,0], cluster_centers[:,1],\n",
        "        marker='o', s=300, linewidths=2, color='white',\n",
        "        zorder=12, facecolors='white')\n",
        "\n",
        "x_min, x_max = X[:, 0].min() - 1, X[:, 0].max() + 1\n",
        "y_min, y_max = X[:, 1].min() - 1, X[:, 1].max() + 1\n",
        "plt.title('Boundaries of clusters')\n",
        "plt.xlim(x_min, x_max)\n",
        "plt.ylim(y_min, y_max)\n",
        "plt.xticks(())\n",
        "plt.yticks(())\n",
        "plt.show()"
      ]
    },
    {
      "cell_type": "markdown",
      "metadata": {
        "id": "8VrcHwXJLtHe"
      },
      "source": [
        "# K = 7"
      ]
    },
    {
      "cell_type": "code",
      "execution_count": null,
      "metadata": {
        "id": "eA9TN5JKLtHf"
      },
      "outputs": [],
      "source": [
        "num_clusters = 7"
      ]
    },
    {
      "cell_type": "code",
      "execution_count": null,
      "metadata": {
        "id": "M-Pb6VRhLtHf"
      },
      "outputs": [],
      "source": [
        "# Create KMeans object\n",
        "kmeans = KMeans(init='k-means++', n_clusters=num_clusters, n_init=10)\n",
        "#n_init int, predeterminado=10\n",
        "#Número de veces que se ejecutará el algoritmo k-means con semillas de centroide diferentes.\n",
        "#Los resultados finales serán la mejor salida de n_init ejecuciones consecutivas."
      ]
    },
    {
      "cell_type": "code",
      "execution_count": null,
      "metadata": {
        "id": "xp1YHTxHLtHg",
        "outputId": "bec1c58f-469d-46a6-9844-47c81d79bca4"
      },
      "outputs": [
        {
          "data": {
            "text/plain": [
              "(200, 2)"
            ]
          },
          "execution_count": 26,
          "metadata": {},
          "output_type": "execute_result"
        }
      ],
      "source": [
        "X.shape"
      ]
    },
    {
      "cell_type": "code",
      "execution_count": null,
      "metadata": {
        "id": "yhKARemZLtHg",
        "outputId": "79441d1c-c69b-4f10-ffad-7c915f90c0a5"
      },
      "outputs": [
        {
          "data": {
            "text/plain": [
              "KMeans(n_clusters=7)"
            ]
          },
          "execution_count": 27,
          "metadata": {},
          "output_type": "execute_result"
        }
      ],
      "source": [
        "kmeans.fit(X)"
      ]
    },
    {
      "cell_type": "code",
      "execution_count": null,
      "metadata": {
        "id": "TNx6536pLtHg",
        "outputId": "22f0b71a-37b4-4d03-bc1d-2218b5e3e642"
      },
      "outputs": [
        {
          "data": {
            "text/plain": [
              "array([3, 1, 3, 1, 3, 1, 3, 1, 3, 1, 3, 1, 3, 1, 3, 1, 3, 1, 3, 1, 3, 1,\n",
              "       3, 1, 3, 1, 3, 5, 3, 1, 3, 1, 3, 1, 3, 1, 3, 1, 3, 1, 5, 1, 5, 5,\n",
              "       3, 5, 5, 5, 5, 5, 5, 5, 5, 5, 5, 5, 5, 5, 5, 5, 5, 5, 5, 5, 5, 5,\n",
              "       5, 5, 5, 5, 5, 5, 5, 5, 0, 5, 5, 0, 5, 0, 5, 5, 0, 0, 5, 0, 0, 0,\n",
              "       0, 0, 0, 0, 0, 0, 0, 0, 0, 0, 0, 0, 0, 0, 0, 0, 0, 0, 0, 0, 0, 0,\n",
              "       0, 0, 0, 0, 0, 0, 0, 0, 0, 0, 0, 0, 0, 2, 0, 2, 0, 2, 4, 2, 4, 2,\n",
              "       0, 2, 4, 2, 4, 2, 4, 2, 4, 2, 0, 2, 4, 2, 0, 2, 4, 2, 4, 2, 4, 2,\n",
              "       4, 2, 4, 2, 4, 2, 0, 2, 4, 2, 4, 2, 4, 2, 4, 2, 4, 2, 4, 2, 4, 2,\n",
              "       4, 2, 4, 6, 4, 6, 4, 6, 4, 6, 4, 6, 4, 6, 4, 6, 4, 6, 4, 6, 4, 6,\n",
              "       4, 6])"
            ]
          },
          "execution_count": 28,
          "metadata": {},
          "output_type": "execute_result"
        }
      ],
      "source": [
        "kmeans.labels_"
      ]
    },
    {
      "cell_type": "code",
      "execution_count": null,
      "metadata": {
        "id": "PDSxBEqbLtHg",
        "outputId": "602f6060-60d5-41d4-f907-deca951367d4"
      },
      "outputs": [
        {
          "data": {
            "text/plain": [
              "array([[ 62.73469388,  46.91836735],\n",
              "       [ 24.95      ,  81.        ],\n",
              "       [ 78.03571429,  81.89285714],\n",
              "       [ 25.14285714,  19.52380952],\n",
              "       [ 89.40625   ,  15.59375   ],\n",
              "       [ 45.51282051,  51.51282051],\n",
              "       [108.18181818,  82.72727273]])"
            ]
          },
          "execution_count": 29,
          "metadata": {},
          "output_type": "execute_result"
        }
      ],
      "source": [
        "kmeans.cluster_centers_"
      ]
    },
    {
      "cell_type": "markdown",
      "metadata": {
        "id": "pXjlUMXvLtHh"
      },
      "source": [
        "#### Se desea saber a qué clusters pertenecen las siguientes observaciones"
      ]
    },
    {
      "cell_type": "code",
      "execution_count": null,
      "metadata": {
        "id": "AGO8lodzLtHh",
        "outputId": "166ea55b-6374-4167-b0e3-7c2afa89f6d7"
      },
      "outputs": [
        {
          "data": {
            "text/plain": [
              "array([3, 1])"
            ]
          },
          "execution_count": 30,
          "metadata": {},
          "output_type": "execute_result"
        }
      ],
      "source": [
        "kmeans.predict([[15, 39],[15,81]])"
      ]
    },
    {
      "cell_type": "markdown",
      "metadata": {
        "id": "Kl9ZSf0uLtHh"
      },
      "source": [
        "Se añadirá cada observación al cluster que pertenece"
      ]
    },
    {
      "cell_type": "code",
      "execution_count": null,
      "metadata": {
        "id": "EI7YgYLLLtHh"
      },
      "outputs": [],
      "source": [
        "\n",
        "labels = kmeans.labels_\n",
        "clusters = {}\n",
        "n = 0\n",
        "for item in labels:\n",
        "    if item in clusters:\n",
        "        clusters[item].append(X[n])\n",
        "    else:\n",
        "        clusters[item] = [X[n]]\n",
        "    n +=1"
      ]
    },
    {
      "cell_type": "markdown",
      "metadata": {
        "id": "jpMCMmptLtHi"
      },
      "source": [
        "Se imprime cada cluster con sus observaciones pertenecientes"
      ]
    },
    {
      "cell_type": "markdown",
      "metadata": {
        "id": "E9AAXKifLtHi"
      },
      "source": [
        "### Gráfico de los clusters"
      ]
    },
    {
      "cell_type": "code",
      "execution_count": null,
      "metadata": {
        "id": "5Z3Crpd2LtHi"
      },
      "outputs": [],
      "source": [
        "# Se define el tamaño de paso de la malla\n",
        "step_size = 0.01\n",
        "\n",
        "# Se define la cuadrícula de puntos para trazar los límites\n",
        "x_min, x_max = X[:, 0].min() - 1, X[:, 0].max() + 1\n",
        "y_min, y_max = X[:, 1].min() - 1, X[:, 1].max() + 1\n",
        "x_vals, y_vals = np.meshgrid(np.arange(x_min, x_max, step_size),\n",
        "        np.arange(y_min, y_max, step_size))"
      ]
    },
    {
      "cell_type": "code",
      "execution_count": null,
      "metadata": {
        "id": "PrEkdvfyLtHi",
        "outputId": "0cba250f-bb6f-4ecd-9c16-351e3ad13eca"
      },
      "outputs": [
        {
          "data": {
            "text/plain": [
              "array([[ 14.  ,  14.01,  14.02, ..., 137.97, 137.98, 137.99],\n",
              "       [ 14.  ,  14.01,  14.02, ..., 137.97, 137.98, 137.99],\n",
              "       [ 14.  ,  14.01,  14.02, ..., 137.97, 137.98, 137.99],\n",
              "       ...,\n",
              "       [ 14.  ,  14.01,  14.02, ..., 137.97, 137.98, 137.99],\n",
              "       [ 14.  ,  14.01,  14.02, ..., 137.97, 137.98, 137.99],\n",
              "       [ 14.  ,  14.01,  14.02, ..., 137.97, 137.98, 137.99]])"
            ]
          },
          "execution_count": 33,
          "metadata": {},
          "output_type": "execute_result"
        }
      ],
      "source": [
        "x_vals"
      ]
    },
    {
      "cell_type": "code",
      "execution_count": null,
      "metadata": {
        "id": "SrK8Jd4ELtHj"
      },
      "outputs": [],
      "source": [
        "x"
      ]
    },
    {
      "cell_type": "code",
      "execution_count": null,
      "metadata": {
        "id": "XLAm8wsELtHj",
        "outputId": "3af26f05-d0f1-46c5-8273-d2b72302fa86"
      },
      "outputs": [
        {
          "data": {
            "image/png": "[encoded data removed]",
            "text/plain": [
              "<Figure size 432x288 with 1 Axes>"
            ]
          },
          "metadata": {},
          "output_type": "display_data"
        }
      ],
      "source": [
        "# Plot different regions and color them\n",
        "output = output.reshape(x_vals.shape)\n",
        "plt.figure()\n",
        "plt.clf()\n",
        "plt.imshow(output, interpolation='nearest',\n",
        "           extent=(x_vals.min(), x_vals.max(),\n",
        "               y_vals.min(), y_vals.max()),\n",
        "           cmap=plt.cm.Paired,\n",
        "           aspect='auto',\n",
        "           origin='lower')\n",
        "\n",
        "# Overlay input points\n",
        "plt.scatter(X[:,0], X[:,1], marker='o', facecolors='none',\n",
        "        edgecolors='black', s=80)\n",
        "\n",
        "# Plot the centers of clusters\n",
        "cluster_centers = kmeans.cluster_centers_\n",
        "plt.scatter(cluster_centers[:,0], cluster_centers[:,1],\n",
        "        marker='o', s=300, linewidths=2, color='white',\n",
        "        zorder=12, facecolors='white')\n",
        "\n",
        "x_min, x_max = X[:, 0].min() - 1, X[:, 0].max() + 1\n",
        "y_min, y_max = X[:, 1].min() - 1, X[:, 1].max() + 1\n",
        "plt.title('Boundaries of clusters')\n",
        "plt.xlim(x_min, x_max)\n",
        "plt.ylim(y_min, y_max)\n",
        "plt.xticks(())\n",
        "plt.yticks(())\n",
        "plt.show()"
      ]
    },
    {
      "cell_type": "markdown",
      "metadata": {
        "id": "Ipd8DgiULtHj"
      },
      "source": [
        "# Conclusiones"
      ]
    },
    {
      "cell_type": "markdown",
      "metadata": {
        "id": "bnyr8j6KLtHk"
      },
      "source": [
        "1. Se determina que K-means es una técnica de clasificación no supervisada que permite de manera iterativa agrupar a observaciones con un número de clusters dado\n",
        "1. Se concluye que la creación de muchos clusters no es necesario, por ello realizar un scatter plot de las observaciones es importante para designar un número aproximado de agrupaciones\n",
        "1. Se concluye que graficar el diccionario clusters permite visualizar de manera rápida y efectiva la diferenciación entre diferentes agrupaciones, así como también su centroid correspondiente"
      ]
    },
    {
      "cell_type": "markdown",
      "metadata": {
        "id": "5JDioFrgLtHk"
      },
      "source": [
        "# Bibliografía"
      ]
    },
    {
      "cell_type": "markdown",
      "metadata": {
        "id": "sAdh4QlKLtHk"
      },
      "source": [
        "1. prashant111. (2020, December 8). K-Means Clustering with Python. Kaggle.com; Kaggle. https://www.kaggle.com/code/prashant111/k-means-clustering-with-python\n",
        "\n",
        "1. Redwan Hossain Arnob. (2020, July 10). MemoryError: Unable to allocate MiB for an array with shape and data type, when using anymodel.fit() in sklearn. Stack Overflow. https://stackoverflow.com/questions/62839068/memoryerror-unable-to-allocate-mib-for-an-array-with-shape-and-data-type-when\n",
        "\n",
        "1. sklearn.cluster.KMeans. (2022). Scikit-Learn. https://scikit-learn.org/stable/modules/generated/sklearn.cluster.KMeans.html\n",
        "\n"
      ]
    }
  ],
  "metadata": {
    "kernelspec": {
      "display_name": "Python 3",
      "language": "python",
      "name": "python3"
    },
    "language_info": {
      "codemirror_mode": {
        "name": "ipython",
        "version": 3
      },
      "file_extension": ".py",
      "mimetype": "text/x-python",
      "name": "python",
      "nbconvert_exporter": "python",
      "pygments_lexer": "ipython3",
      "version": "3.8.5"
    },
    "colab": {
      "provenance": [],
      "include_colab_link": true
    }
  },
  "nbformat": 4,
  "nbformat_minor": 0
}