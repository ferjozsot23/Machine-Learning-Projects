{
  "cells": [
    {
      "cell_type": "markdown",
      "metadata": {
        "id": "view-in-github",
        "colab_type": "text"
      },
      "source": [
        "<a href=\"https://colab.research.google.com/github/ferjozsot23/machine-learning/blob/main/Outliers_and_OneHotEncoding.ipynb\" target=\"_parent\"><img src=\"https://colab.research.google.com/assets/colab-badge.svg\" alt=\"Open In Colab\"/></a>"
      ]
    },
    {
      "cell_type": "markdown",
      "metadata": {
        "id": "MuUqtk9oCTdn"
      },
      "source": [
        "Fernando José Soto Jácome"
      ]
    },
    {
      "cell_type": "markdown",
      "metadata": {
        "id": "js64JGeCCTdt"
      },
      "source": [
        "# Objetivos\n",
        "1. Comprender qué son los valores atípicos y su impacto en el tratamiento de un dataframe\n",
        "1. Eliminar outliers y convertir variables categóricas en numéricas mediante one-hot\n",
        "1. Conocer la importancia del uso de técnicas de normalización o escalamiento de datos."
      ]
    },
    {
      "cell_type": "markdown",
      "metadata": {
        "id": "M7GdmfvACTdu"
      },
      "source": [
        "# Introducción\n",
        "La ingeniería de características es un paso fundamental para el proceso de creación de un modelo de aprendizaje autónomo ya que no solo tiene un gran impacto en el rendimiento del programa, sino que permite lograr predicciones más acertadas basandose en las variables previamente seleccionadas.\n",
        "\n",
        "En este paso, se agregan variables que pueden representar un valor significativo para el modelo. Por ejemplo, convertir variables categóricas a númericas permite, en ciertas ocaciones, un mayor rendimiento para el modelo. Además, reconocer el impacto de valores atípicos es importante dentro de esta fase de creación de un modleo de aprendizaje autónomo."
      ]
    },
    {
      "cell_type": "markdown",
      "metadata": {
        "id": "_o21G1J_CTdu"
      },
      "source": [
        "# Ejercicios presentados"
      ]
    },
    {
      "cell_type": "code",
      "execution_count": null,
      "metadata": {
        "id": "HuFCAYrSCTdv"
      },
      "outputs": [],
      "source": [
        "import pandas as pd\n",
        "from sklearn.ensemble import ExtraTreesRegressor\n",
        "import numpy as np\n",
        "import matplotlib.pyplot as plt"
      ]
    },
    {
      "cell_type": "code",
      "execution_count": null,
      "metadata": {
        "id": "t2VDGIuKCTdv",
        "outputId": "5b321967-8bfe-47b6-9a83-b80c39b699da"
      },
      "outputs": [
        {
          "data": {
            "text/html": [
              "<div>\n",
              "<style scoped>\n",
              "    .dataframe tbody tr th:only-of-type {\n",
              "        vertical-align: middle;\n",
              "    }\n",
              "\n",
              "    .dataframe tbody tr th {\n",
              "        vertical-align: top;\n",
              "    }\n",
              "\n",
              "    .dataframe thead th {\n",
              "        text-align: right;\n",
              "    }\n",
              "</style>\n",
              "<table border=\"1\" class=\"dataframe\">\n",
              "  <thead>\n",
              "    <tr style=\"text-align: right;\">\n",
              "      <th></th>\n",
              "      <th>Category</th>\n",
              "      <th>currency</th>\n",
              "      <th>sellerRating</th>\n",
              "      <th>Duration</th>\n",
              "      <th>endDay</th>\n",
              "      <th>ClosePrice</th>\n",
              "      <th>OpenPrice</th>\n",
              "      <th>Competitive?</th>\n",
              "    </tr>\n",
              "  </thead>\n",
              "  <tbody>\n",
              "    <tr>\n",
              "      <th>0</th>\n",
              "      <td>Music/Movie/Game</td>\n",
              "      <td>US</td>\n",
              "      <td>3249</td>\n",
              "      <td>5</td>\n",
              "      <td>Mon</td>\n",
              "      <td>0.01</td>\n",
              "      <td>0.01</td>\n",
              "      <td>0</td>\n",
              "    </tr>\n",
              "    <tr>\n",
              "      <th>1</th>\n",
              "      <td>Music/Movie/Game</td>\n",
              "      <td>US</td>\n",
              "      <td>3249</td>\n",
              "      <td>5</td>\n",
              "      <td>Mon</td>\n",
              "      <td>0.01</td>\n",
              "      <td>0.01</td>\n",
              "      <td>0</td>\n",
              "    </tr>\n",
              "    <tr>\n",
              "      <th>2</th>\n",
              "      <td>Music/Movie/Game</td>\n",
              "      <td>US</td>\n",
              "      <td>3249</td>\n",
              "      <td>5</td>\n",
              "      <td>Mon</td>\n",
              "      <td>0.01</td>\n",
              "      <td>0.01</td>\n",
              "      <td>0</td>\n",
              "    </tr>\n",
              "    <tr>\n",
              "      <th>3</th>\n",
              "      <td>Music/Movie/Game</td>\n",
              "      <td>US</td>\n",
              "      <td>3249</td>\n",
              "      <td>5</td>\n",
              "      <td>Mon</td>\n",
              "      <td>0.01</td>\n",
              "      <td>0.01</td>\n",
              "      <td>0</td>\n",
              "    </tr>\n",
              "    <tr>\n",
              "      <th>4</th>\n",
              "      <td>Music/Movie/Game</td>\n",
              "      <td>US</td>\n",
              "      <td>3249</td>\n",
              "      <td>5</td>\n",
              "      <td>Mon</td>\n",
              "      <td>0.01</td>\n",
              "      <td>0.01</td>\n",
              "      <td>0</td>\n",
              "    </tr>\n",
              "  </tbody>\n",
              "</table>\n",
              "</div>"
            ],
            "text/plain": [
              "           Category currency  sellerRating  Duration endDay  ClosePrice  \\\n",
              "0  Music/Movie/Game       US          3249         5    Mon        0.01   \n",
              "1  Music/Movie/Game       US          3249         5    Mon        0.01   \n",
              "2  Music/Movie/Game       US          3249         5    Mon        0.01   \n",
              "3  Music/Movie/Game       US          3249         5    Mon        0.01   \n",
              "4  Music/Movie/Game       US          3249         5    Mon        0.01   \n",
              "\n",
              "   OpenPrice  Competitive?  \n",
              "0       0.01             0  \n",
              "1       0.01             0  \n",
              "2       0.01             0  \n",
              "3       0.01             0  \n",
              "4       0.01             0  "
            ]
          },
          "execution_count": 4,
          "metadata": {},
          "output_type": "execute_result"
        }
      ],
      "source": [
        "data = pd.read_csv(\"eBayAuctions.csv\")\n",
        "data.head()"
      ]
    },
    {
      "cell_type": "markdown",
      "metadata": {
        "id": "URZSnoi0CTdv"
      },
      "source": [
        "## 1. BoxPlot - Visualización de variables atípicos"
      ]
    },
    {
      "cell_type": "code",
      "execution_count": null,
      "metadata": {
        "id": "RLHgsppACTdw",
        "outputId": "32bcdcb6-cddc-491c-e301-071716525a0d"
      },
      "outputs": [
        {
          "data": {
            "image/png": "[encoded data removed]",
            "text/plain": [
              "<Figure size 432x288 with 1 Axes>"
            ]
          },
          "metadata": {
            "needs_background": "light"
          },
          "output_type": "display_data"
        }
      ],
      "source": [
        "boxplot=data.boxplot(column=['Duration'])"
      ]
    },
    {
      "cell_type": "code",
      "execution_count": null,
      "metadata": {
        "id": "qOep3P6CCTdw",
        "outputId": "558102c7-a05c-4d99-ed68-17482cd19021"
      },
      "outputs": [
        {
          "data": {
            "text/html": [
              "<div>\n",
              "<style scoped>\n",
              "    .dataframe tbody tr th:only-of-type {\n",
              "        vertical-align: middle;\n",
              "    }\n",
              "\n",
              "    .dataframe tbody tr th {\n",
              "        vertical-align: top;\n",
              "    }\n",
              "\n",
              "    .dataframe thead th {\n",
              "        text-align: right;\n",
              "    }\n",
              "</style>\n",
              "<table border=\"1\" class=\"dataframe\">\n",
              "  <thead>\n",
              "    <tr style=\"text-align: right;\">\n",
              "      <th></th>\n",
              "      <th>sellerRating</th>\n",
              "      <th>Duration</th>\n",
              "      <th>ClosePrice</th>\n",
              "      <th>OpenPrice</th>\n",
              "      <th>Competitive?</th>\n",
              "    </tr>\n",
              "  </thead>\n",
              "  <tbody>\n",
              "    <tr>\n",
              "      <th>count</th>\n",
              "      <td>1972.000000</td>\n",
              "      <td>1972.000000</td>\n",
              "      <td>1972.000000</td>\n",
              "      <td>1972.000000</td>\n",
              "      <td>1972.000000</td>\n",
              "    </tr>\n",
              "    <tr>\n",
              "      <th>mean</th>\n",
              "      <td>3560.238337</td>\n",
              "      <td>6.486308</td>\n",
              "      <td>36.449087</td>\n",
              "      <td>12.926268</td>\n",
              "      <td>0.540568</td>\n",
              "    </tr>\n",
              "    <tr>\n",
              "      <th>std</th>\n",
              "      <td>5973.011033</td>\n",
              "      <td>2.052906</td>\n",
              "      <td>89.493858</td>\n",
              "      <td>38.856149</td>\n",
              "      <td>0.498478</td>\n",
              "    </tr>\n",
              "    <tr>\n",
              "      <th>min</th>\n",
              "      <td>0.000000</td>\n",
              "      <td>1.000000</td>\n",
              "      <td>0.010000</td>\n",
              "      <td>0.010000</td>\n",
              "      <td>0.000000</td>\n",
              "    </tr>\n",
              "    <tr>\n",
              "      <th>25%</th>\n",
              "      <td>595.000000</td>\n",
              "      <td>5.000000</td>\n",
              "      <td>4.907500</td>\n",
              "      <td>1.230000</td>\n",
              "      <td>0.000000</td>\n",
              "    </tr>\n",
              "    <tr>\n",
              "      <th>50%</th>\n",
              "      <td>1853.000000</td>\n",
              "      <td>7.000000</td>\n",
              "      <td>9.995000</td>\n",
              "      <td>4.500000</td>\n",
              "      <td>1.000000</td>\n",
              "    </tr>\n",
              "    <tr>\n",
              "      <th>75%</th>\n",
              "      <td>3380.000000</td>\n",
              "      <td>7.000000</td>\n",
              "      <td>28.000000</td>\n",
              "      <td>9.990000</td>\n",
              "      <td>1.000000</td>\n",
              "    </tr>\n",
              "    <tr>\n",
              "      <th>max</th>\n",
              "      <td>37727.000000</td>\n",
              "      <td>10.000000</td>\n",
              "      <td>999.000000</td>\n",
              "      <td>999.000000</td>\n",
              "      <td>1.000000</td>\n",
              "    </tr>\n",
              "  </tbody>\n",
              "</table>\n",
              "</div>"
            ],
            "text/plain": [
              "       sellerRating     Duration   ClosePrice    OpenPrice  Competitive?\n",
              "count   1972.000000  1972.000000  1972.000000  1972.000000   1972.000000\n",
              "mean    3560.238337     6.486308    36.449087    12.926268      0.540568\n",
              "std     5973.011033     2.052906    89.493858    38.856149      0.498478\n",
              "min        0.000000     1.000000     0.010000     0.010000      0.000000\n",
              "25%      595.000000     5.000000     4.907500     1.230000      0.000000\n",
              "50%     1853.000000     7.000000     9.995000     4.500000      1.000000\n",
              "75%     3380.000000     7.000000    28.000000     9.990000      1.000000\n",
              "max    37727.000000    10.000000   999.000000   999.000000      1.000000"
            ]
          },
          "execution_count": 16,
          "metadata": {},
          "output_type": "execute_result"
        }
      ],
      "source": [
        "data.describe()"
      ]
    },
    {
      "cell_type": "markdown",
      "metadata": {
        "id": "3NsDmI6ECTdw"
      },
      "source": [
        "**En efecto, el diagrama BoxPlot representa de manera adecuada la información presentada por data.describe()**"
      ]
    },
    {
      "cell_type": "markdown",
      "metadata": {
        "id": "pER13bZqCTdx"
      },
      "source": [
        "### Eliminación de outliers con Desviación Estandar"
      ]
    },
    {
      "cell_type": "code",
      "execution_count": null,
      "metadata": {
        "id": "appbn2KsCTdx",
        "outputId": "b001bd82-334d-4ee0-bbed-178b3b4681e7"
      },
      "outputs": [
        {
          "data": {
            "text/plain": [
              "(1972, 8)"
            ]
          },
          "execution_count": 21,
          "metadata": {},
          "output_type": "execute_result"
        }
      ],
      "source": [
        "data.shape ## Veamos cuántos registros posee el dataframe antes de eliminar outliers"
      ]
    },
    {
      "cell_type": "code",
      "execution_count": null,
      "metadata": {
        "id": "NR6dYjXGCTdx",
        "outputId": "cf9b64f7-4b61-4c85-d9b3-81ab1c78c761"
      },
      "outputs": [
        {
          "name": "stdout",
          "output_type": "stream",
          "text": [
            "              Category currency  sellerRating  Duration endDay  ClosePrice  \\\n",
            "0     Music/Movie/Game       US          3249         5    Mon        0.01   \n",
            "1     Music/Movie/Game       US          3249         5    Mon        0.01   \n",
            "2     Music/Movie/Game       US          3249         5    Mon        0.01   \n",
            "3     Music/Movie/Game       US          3249         5    Mon        0.01   \n",
            "4     Music/Movie/Game       US          3249         5    Mon        0.01   \n",
            "...                ...      ...           ...       ...    ...         ...   \n",
            "1967        Automotive       US          2992         5    Sun      359.95   \n",
            "1968        Automotive       US            21         5    Sat      610.00   \n",
            "1969        Automotive       US          1400         5    Mon      549.00   \n",
            "1970        Automotive       US            57         7    Fri      820.00   \n",
            "1971        Automotive       US           145         7    Sat      999.00   \n",
            "\n",
            "      OpenPrice  Competitive?  \n",
            "0          0.01             0  \n",
            "1          0.01             0  \n",
            "2          0.01             0  \n",
            "3          0.01             0  \n",
            "4          0.01             0  \n",
            "...         ...           ...  \n",
            "1967     359.95             0  \n",
            "1968     300.00             1  \n",
            "1969     549.00             0  \n",
            "1970     650.00             1  \n",
            "1971     999.00             0  \n",
            "\n",
            "[1949 rows x 8 columns]\n"
          ]
        }
      ],
      "source": [
        "factor = 2\n",
        "upper_lim = data['Duration'].mean () + data['Duration'].std() * factor\n",
        "lower_lim = data['Duration'].mean () - data['Duration'].std() * factor\n",
        "\n",
        "data_no_outliers = data[(data['Duration'] < upper_lim) & (data['Duration'] > lower_lim)]\n",
        "print(data_no_outliers)"
      ]
    },
    {
      "cell_type": "code",
      "execution_count": null,
      "metadata": {
        "id": "OjG4vV-PCTdy",
        "outputId": "0d3dcadc-6767-4eed-f5cd-a71a5ac9f1cb"
      },
      "outputs": [
        {
          "data": {
            "image/png": "[encoded data removed]",
            "text/plain": [
              "<Figure size 432x288 with 1 Axes>"
            ]
          },
          "metadata": {
            "needs_background": "light"
          },
          "output_type": "display_data"
        }
      ],
      "source": [
        "boxplot=data_no_outliers.boxplot(column=['Duration'])"
      ]
    },
    {
      "cell_type": "code",
      "execution_count": null,
      "metadata": {
        "id": "1nq2KyOfCTdy",
        "outputId": "923af98e-a801-4fa2-c7de-f9123a32f99d"
      },
      "outputs": [
        {
          "data": {
            "text/plain": [
              "(1949, 8)"
            ]
          },
          "execution_count": 54,
          "metadata": {},
          "output_type": "execute_result"
        }
      ],
      "source": [
        "data_no_outliers.shape"
      ]
    },
    {
      "cell_type": "markdown",
      "metadata": {
        "id": "hsQ57MxnCTdy"
      },
      "source": [
        "**Como se puede notar, ya no existe el círculo al principio del boxplot, es decir ya se eliminó el valor atípico**"
      ]
    },
    {
      "cell_type": "markdown",
      "metadata": {
        "id": "RyMLR7hvCTdy"
      },
      "source": [
        "## 2. One-hot encoding usando sklearn"
      ]
    },
    {
      "cell_type": "code",
      "execution_count": null,
      "metadata": {
        "id": "azbxkiC9CTdz"
      },
      "outputs": [],
      "source": [
        "from sklearn.preprocessing import OneHotEncoder"
      ]
    },
    {
      "cell_type": "code",
      "execution_count": null,
      "metadata": {
        "id": "gttyo7pRCTdz",
        "outputId": "7f09f0c5-315c-4314-ceb7-b2ef1b2815af"
      },
      "outputs": [
        {
          "data": {
            "text/html": [
              "<div>\n",
              "<style scoped>\n",
              "    .dataframe tbody tr th:only-of-type {\n",
              "        vertical-align: middle;\n",
              "    }\n",
              "\n",
              "    .dataframe tbody tr th {\n",
              "        vertical-align: top;\n",
              "    }\n",
              "\n",
              "    .dataframe thead th {\n",
              "        text-align: right;\n",
              "    }\n",
              "</style>\n",
              "<table border=\"1\" class=\"dataframe\">\n",
              "  <thead>\n",
              "    <tr style=\"text-align: right;\">\n",
              "      <th></th>\n",
              "      <th>Category</th>\n",
              "      <th>currency</th>\n",
              "      <th>sellerRating</th>\n",
              "      <th>Duration</th>\n",
              "      <th>endDay</th>\n",
              "      <th>ClosePrice</th>\n",
              "      <th>OpenPrice</th>\n",
              "      <th>Competitive?</th>\n",
              "    </tr>\n",
              "  </thead>\n",
              "  <tbody>\n",
              "    <tr>\n",
              "      <th>0</th>\n",
              "      <td>Music/Movie/Game</td>\n",
              "      <td>US</td>\n",
              "      <td>3249</td>\n",
              "      <td>5</td>\n",
              "      <td>Mon</td>\n",
              "      <td>0.01</td>\n",
              "      <td>0.01</td>\n",
              "      <td>0</td>\n",
              "    </tr>\n",
              "    <tr>\n",
              "      <th>1</th>\n",
              "      <td>Music/Movie/Game</td>\n",
              "      <td>US</td>\n",
              "      <td>3249</td>\n",
              "      <td>5</td>\n",
              "      <td>Mon</td>\n",
              "      <td>0.01</td>\n",
              "      <td>0.01</td>\n",
              "      <td>0</td>\n",
              "    </tr>\n",
              "    <tr>\n",
              "      <th>2</th>\n",
              "      <td>Music/Movie/Game</td>\n",
              "      <td>US</td>\n",
              "      <td>3249</td>\n",
              "      <td>5</td>\n",
              "      <td>Mon</td>\n",
              "      <td>0.01</td>\n",
              "      <td>0.01</td>\n",
              "      <td>0</td>\n",
              "    </tr>\n",
              "    <tr>\n",
              "      <th>3</th>\n",
              "      <td>Music/Movie/Game</td>\n",
              "      <td>US</td>\n",
              "      <td>3249</td>\n",
              "      <td>5</td>\n",
              "      <td>Mon</td>\n",
              "      <td>0.01</td>\n",
              "      <td>0.01</td>\n",
              "      <td>0</td>\n",
              "    </tr>\n",
              "    <tr>\n",
              "      <th>4</th>\n",
              "      <td>Music/Movie/Game</td>\n",
              "      <td>US</td>\n",
              "      <td>3249</td>\n",
              "      <td>5</td>\n",
              "      <td>Mon</td>\n",
              "      <td>0.01</td>\n",
              "      <td>0.01</td>\n",
              "      <td>0</td>\n",
              "    </tr>\n",
              "  </tbody>\n",
              "</table>\n",
              "</div>"
            ],
            "text/plain": [
              "           Category currency  sellerRating  Duration endDay  ClosePrice  \\\n",
              "0  Music/Movie/Game       US          3249         5    Mon        0.01   \n",
              "1  Music/Movie/Game       US          3249         5    Mon        0.01   \n",
              "2  Music/Movie/Game       US          3249         5    Mon        0.01   \n",
              "3  Music/Movie/Game       US          3249         5    Mon        0.01   \n",
              "4  Music/Movie/Game       US          3249         5    Mon        0.01   \n",
              "\n",
              "   OpenPrice  Competitive?  \n",
              "0       0.01             0  \n",
              "1       0.01             0  \n",
              "2       0.01             0  \n",
              "3       0.01             0  \n",
              "4       0.01             0  "
            ]
          },
          "execution_count": 58,
          "metadata": {},
          "output_type": "execute_result"
        }
      ],
      "source": [
        "data_no_outliers.head()"
      ]
    },
    {
      "cell_type": "code",
      "execution_count": null,
      "metadata": {
        "id": "5syTObvaCTdz",
        "outputId": "d2ca648e-c70f-46e4-d169-7e429968eeda"
      },
      "outputs": [
        {
          "data": {
            "text/plain": [
              "Mon    548\n",
              "Sat    350\n",
              "Sun    338\n",
              "Fri    268\n",
              "Thu    199\n",
              "Tue    171\n",
              "Wed     75\n",
              "Name: endDay, dtype: int64"
            ]
          },
          "execution_count": 61,
          "metadata": {},
          "output_type": "execute_result"
        }
      ],
      "source": [
        "data_no_outliers['endDay'].value_counts()"
      ]
    },
    {
      "cell_type": "code",
      "execution_count": null,
      "metadata": {
        "id": "7WOva6pwCTd0"
      },
      "outputs": [],
      "source": [
        "data_cat = data_no_outliers[['endDay']]"
      ]
    },
    {
      "cell_type": "code",
      "execution_count": null,
      "metadata": {
        "id": "NgDR-KfaCTd0",
        "outputId": "e29a4192-4175-4cb7-e0b1-43419c241c76"
      },
      "outputs": [
        {
          "data": {
            "text/html": [
              "<div>\n",
              "<style scoped>\n",
              "    .dataframe tbody tr th:only-of-type {\n",
              "        vertical-align: middle;\n",
              "    }\n",
              "\n",
              "    .dataframe tbody tr th {\n",
              "        vertical-align: top;\n",
              "    }\n",
              "\n",
              "    .dataframe thead th {\n",
              "        text-align: right;\n",
              "    }\n",
              "</style>\n",
              "<table border=\"1\" class=\"dataframe\">\n",
              "  <thead>\n",
              "    <tr style=\"text-align: right;\">\n",
              "      <th></th>\n",
              "      <th>endDay</th>\n",
              "    </tr>\n",
              "  </thead>\n",
              "  <tbody>\n",
              "    <tr>\n",
              "      <th>0</th>\n",
              "      <td>Mon</td>\n",
              "    </tr>\n",
              "    <tr>\n",
              "      <th>1</th>\n",
              "      <td>Mon</td>\n",
              "    </tr>\n",
              "    <tr>\n",
              "      <th>2</th>\n",
              "      <td>Mon</td>\n",
              "    </tr>\n",
              "    <tr>\n",
              "      <th>3</th>\n",
              "      <td>Mon</td>\n",
              "    </tr>\n",
              "    <tr>\n",
              "      <th>4</th>\n",
              "      <td>Mon</td>\n",
              "    </tr>\n",
              "  </tbody>\n",
              "</table>\n",
              "</div>"
            ],
            "text/plain": [
              "  endDay\n",
              "0    Mon\n",
              "1    Mon\n",
              "2    Mon\n",
              "3    Mon\n",
              "4    Mon"
            ]
          },
          "execution_count": 73,
          "metadata": {},
          "output_type": "execute_result"
        }
      ],
      "source": [
        "data_cat.head()"
      ]
    },
    {
      "cell_type": "code",
      "execution_count": null,
      "metadata": {
        "id": "C6cYnAd-CTd0",
        "outputId": "2fac23b1-6cef-4435-ac50-8ae5e8d76551"
      },
      "outputs": [
        {
          "data": {
            "text/plain": [
              "<1949x7 sparse matrix of type '<class 'numpy.float64'>'\n",
              "\twith 1949 stored elements in Compressed Sparse Row format>"
            ]
          },
          "execution_count": 74,
          "metadata": {},
          "output_type": "execute_result"
        }
      ],
      "source": [
        "cat_encoder = OneHotEncoder()\n",
        "data_cat_1hot = cat_encoder.fit_transform(data_cat)\n",
        "data_cat_1hot"
      ]
    },
    {
      "cell_type": "code",
      "execution_count": null,
      "metadata": {
        "id": "0oaw94B3CTd1",
        "outputId": "488959c5-3527-4726-d784-e71ba51ebd55"
      },
      "outputs": [
        {
          "data": {
            "text/plain": [
              "array([[0., 1., 0., ..., 0., 0., 0.],\n",
              "       [0., 1., 0., ..., 0., 0., 0.],\n",
              "       [0., 1., 0., ..., 0., 0., 0.],\n",
              "       ...,\n",
              "       [0., 1., 0., ..., 0., 0., 0.],\n",
              "       [1., 0., 0., ..., 0., 0., 0.],\n",
              "       [0., 0., 1., ..., 0., 0., 0.]])"
            ]
          },
          "execution_count": 75,
          "metadata": {},
          "output_type": "execute_result"
        }
      ],
      "source": [
        "data_cat_1hot.toarray()"
      ]
    },
    {
      "cell_type": "code",
      "execution_count": null,
      "metadata": {
        "id": "mMn6hrvqCTd1",
        "outputId": "3674d6c7-d2f2-49af-ac45-46cd13108f09"
      },
      "outputs": [
        {
          "data": {
            "text/html": [
              "<div>\n",
              "<style scoped>\n",
              "    .dataframe tbody tr th:only-of-type {\n",
              "        vertical-align: middle;\n",
              "    }\n",
              "\n",
              "    .dataframe tbody tr th {\n",
              "        vertical-align: top;\n",
              "    }\n",
              "\n",
              "    .dataframe thead th {\n",
              "        text-align: right;\n",
              "    }\n",
              "</style>\n",
              "<table border=\"1\" class=\"dataframe\">\n",
              "  <thead>\n",
              "    <tr style=\"text-align: right;\">\n",
              "      <th></th>\n",
              "      <th>Category</th>\n",
              "      <th>currency</th>\n",
              "      <th>sellerRating</th>\n",
              "      <th>Duration</th>\n",
              "      <th>ClosePrice</th>\n",
              "      <th>OpenPrice</th>\n",
              "      <th>Competitive?</th>\n",
              "      <th>x0_Fri</th>\n",
              "      <th>x0_Mon</th>\n",
              "      <th>x0_Sat</th>\n",
              "      <th>x0_Sun</th>\n",
              "      <th>x0_Thu</th>\n",
              "      <th>x0_Tue</th>\n",
              "      <th>x0_Wed</th>\n",
              "    </tr>\n",
              "  </thead>\n",
              "  <tbody>\n",
              "    <tr>\n",
              "      <th>0</th>\n",
              "      <td>Music/Movie/Game</td>\n",
              "      <td>US</td>\n",
              "      <td>3249.0</td>\n",
              "      <td>5.0</td>\n",
              "      <td>0.01</td>\n",
              "      <td>0.01</td>\n",
              "      <td>0.0</td>\n",
              "      <td>0.0</td>\n",
              "      <td>1.0</td>\n",
              "      <td>0.0</td>\n",
              "      <td>0.0</td>\n",
              "      <td>0.0</td>\n",
              "      <td>0.0</td>\n",
              "      <td>0.0</td>\n",
              "    </tr>\n",
              "    <tr>\n",
              "      <th>1</th>\n",
              "      <td>Music/Movie/Game</td>\n",
              "      <td>US</td>\n",
              "      <td>3249.0</td>\n",
              "      <td>5.0</td>\n",
              "      <td>0.01</td>\n",
              "      <td>0.01</td>\n",
              "      <td>0.0</td>\n",
              "      <td>0.0</td>\n",
              "      <td>1.0</td>\n",
              "      <td>0.0</td>\n",
              "      <td>0.0</td>\n",
              "      <td>0.0</td>\n",
              "      <td>0.0</td>\n",
              "      <td>0.0</td>\n",
              "    </tr>\n",
              "    <tr>\n",
              "      <th>2</th>\n",
              "      <td>Music/Movie/Game</td>\n",
              "      <td>US</td>\n",
              "      <td>3249.0</td>\n",
              "      <td>5.0</td>\n",
              "      <td>0.01</td>\n",
              "      <td>0.01</td>\n",
              "      <td>0.0</td>\n",
              "      <td>0.0</td>\n",
              "      <td>1.0</td>\n",
              "      <td>0.0</td>\n",
              "      <td>0.0</td>\n",
              "      <td>0.0</td>\n",
              "      <td>0.0</td>\n",
              "      <td>0.0</td>\n",
              "    </tr>\n",
              "    <tr>\n",
              "      <th>3</th>\n",
              "      <td>Music/Movie/Game</td>\n",
              "      <td>US</td>\n",
              "      <td>3249.0</td>\n",
              "      <td>5.0</td>\n",
              "      <td>0.01</td>\n",
              "      <td>0.01</td>\n",
              "      <td>0.0</td>\n",
              "      <td>0.0</td>\n",
              "      <td>1.0</td>\n",
              "      <td>0.0</td>\n",
              "      <td>0.0</td>\n",
              "      <td>0.0</td>\n",
              "      <td>0.0</td>\n",
              "      <td>0.0</td>\n",
              "    </tr>\n",
              "    <tr>\n",
              "      <th>4</th>\n",
              "      <td>Music/Movie/Game</td>\n",
              "      <td>US</td>\n",
              "      <td>3249.0</td>\n",
              "      <td>5.0</td>\n",
              "      <td>0.01</td>\n",
              "      <td>0.01</td>\n",
              "      <td>0.0</td>\n",
              "      <td>0.0</td>\n",
              "      <td>1.0</td>\n",
              "      <td>0.0</td>\n",
              "      <td>0.0</td>\n",
              "      <td>0.0</td>\n",
              "      <td>0.0</td>\n",
              "      <td>0.0</td>\n",
              "    </tr>\n",
              "    <tr>\n",
              "      <th>5</th>\n",
              "      <td>Music/Movie/Game</td>\n",
              "      <td>US</td>\n",
              "      <td>3249.0</td>\n",
              "      <td>5.0</td>\n",
              "      <td>0.01</td>\n",
              "      <td>0.01</td>\n",
              "      <td>0.0</td>\n",
              "      <td>0.0</td>\n",
              "      <td>1.0</td>\n",
              "      <td>0.0</td>\n",
              "      <td>0.0</td>\n",
              "      <td>0.0</td>\n",
              "      <td>0.0</td>\n",
              "      <td>0.0</td>\n",
              "    </tr>\n",
              "    <tr>\n",
              "      <th>6</th>\n",
              "      <td>Music/Movie/Game</td>\n",
              "      <td>US</td>\n",
              "      <td>3249.0</td>\n",
              "      <td>5.0</td>\n",
              "      <td>0.01</td>\n",
              "      <td>0.01</td>\n",
              "      <td>0.0</td>\n",
              "      <td>0.0</td>\n",
              "      <td>1.0</td>\n",
              "      <td>0.0</td>\n",
              "      <td>0.0</td>\n",
              "      <td>0.0</td>\n",
              "      <td>0.0</td>\n",
              "      <td>0.0</td>\n",
              "    </tr>\n",
              "    <tr>\n",
              "      <th>7</th>\n",
              "      <td>Music/Movie/Game</td>\n",
              "      <td>US</td>\n",
              "      <td>3249.0</td>\n",
              "      <td>5.0</td>\n",
              "      <td>0.01</td>\n",
              "      <td>0.01</td>\n",
              "      <td>0.0</td>\n",
              "      <td>0.0</td>\n",
              "      <td>1.0</td>\n",
              "      <td>0.0</td>\n",
              "      <td>0.0</td>\n",
              "      <td>0.0</td>\n",
              "      <td>0.0</td>\n",
              "      <td>0.0</td>\n",
              "    </tr>\n",
              "    <tr>\n",
              "      <th>8</th>\n",
              "      <td>Music/Movie/Game</td>\n",
              "      <td>US</td>\n",
              "      <td>3249.0</td>\n",
              "      <td>5.0</td>\n",
              "      <td>0.01</td>\n",
              "      <td>0.01</td>\n",
              "      <td>0.0</td>\n",
              "      <td>0.0</td>\n",
              "      <td>1.0</td>\n",
              "      <td>0.0</td>\n",
              "      <td>0.0</td>\n",
              "      <td>0.0</td>\n",
              "      <td>0.0</td>\n",
              "      <td>0.0</td>\n",
              "    </tr>\n",
              "    <tr>\n",
              "      <th>9</th>\n",
              "      <td>Music/Movie/Game</td>\n",
              "      <td>US</td>\n",
              "      <td>3249.0</td>\n",
              "      <td>5.0</td>\n",
              "      <td>0.01</td>\n",
              "      <td>0.01</td>\n",
              "      <td>0.0</td>\n",
              "      <td>0.0</td>\n",
              "      <td>1.0</td>\n",
              "      <td>0.0</td>\n",
              "      <td>0.0</td>\n",
              "      <td>0.0</td>\n",
              "      <td>0.0</td>\n",
              "      <td>0.0</td>\n",
              "    </tr>\n",
              "  </tbody>\n",
              "</table>\n",
              "</div>"
            ],
            "text/plain": [
              "           Category currency  sellerRating  Duration  ClosePrice  OpenPrice  \\\n",
              "0  Music/Movie/Game       US        3249.0       5.0        0.01       0.01   \n",
              "1  Music/Movie/Game       US        3249.0       5.0        0.01       0.01   \n",
              "2  Music/Movie/Game       US        3249.0       5.0        0.01       0.01   \n",
              "3  Music/Movie/Game       US        3249.0       5.0        0.01       0.01   \n",
              "4  Music/Movie/Game       US        3249.0       5.0        0.01       0.01   \n",
              "5  Music/Movie/Game       US        3249.0       5.0        0.01       0.01   \n",
              "6  Music/Movie/Game       US        3249.0       5.0        0.01       0.01   \n",
              "7  Music/Movie/Game       US        3249.0       5.0        0.01       0.01   \n",
              "8  Music/Movie/Game       US        3249.0       5.0        0.01       0.01   \n",
              "9  Music/Movie/Game       US        3249.0       5.0        0.01       0.01   \n",
              "\n",
              "   Competitive?  x0_Fri  x0_Mon  x0_Sat  x0_Sun  x0_Thu  x0_Tue  x0_Wed  \n",
              "0           0.0     0.0     1.0     0.0     0.0     0.0     0.0     0.0  \n",
              "1           0.0     0.0     1.0     0.0     0.0     0.0     0.0     0.0  \n",
              "2           0.0     0.0     1.0     0.0     0.0     0.0     0.0     0.0  \n",
              "3           0.0     0.0     1.0     0.0     0.0     0.0     0.0     0.0  \n",
              "4           0.0     0.0     1.0     0.0     0.0     0.0     0.0     0.0  \n",
              "5           0.0     0.0     1.0     0.0     0.0     0.0     0.0     0.0  \n",
              "6           0.0     0.0     1.0     0.0     0.0     0.0     0.0     0.0  \n",
              "7           0.0     0.0     1.0     0.0     0.0     0.0     0.0     0.0  \n",
              "8           0.0     0.0     1.0     0.0     0.0     0.0     0.0     0.0  \n",
              "9           0.0     0.0     1.0     0.0     0.0     0.0     0.0     0.0  "
            ]
          },
          "execution_count": 76,
          "metadata": {},
          "output_type": "execute_result"
        }
      ],
      "source": [
        "#Create a Pandas DataFrame of the hot encoded column\n",
        "ohe_df = pd.DataFrame(data_cat_1hot.toarray(), columns=cat_encoder.get_feature_names())\n",
        "#concat with original data\n",
        "data_no_outliers = pd.concat([data_no_outliers, ohe_df], axis=1).drop(['endDay'], axis=1)\n",
        "data_no_outliers.head(10)"
      ]
    },
    {
      "cell_type": "markdown",
      "metadata": {
        "id": "WCzeLLq6CTd1"
      },
      "source": [
        "**Como se logra apreciar, la variable endDay, que representa los días de la semana, ha sido convertido a variables numéricas**"
      ]
    },
    {
      "cell_type": "markdown",
      "metadata": {
        "id": "2p0no_7cCTd1"
      },
      "source": [
        "# Conclusiones"
      ]
    },
    {
      "cell_type": "markdown",
      "metadata": {
        "id": "mldmocv5CTd2"
      },
      "source": [
        "1. Se concluye que la ingeniería de caracterísiticas permite establecer nuevas variables dentro de nuestro dataframe las cuales permitan alcanzar un mayor rendimiento para nuestro modelo\n",
        "1. Se determina que one-hot encoding, normalización y scaling con métodos fundamentales dentro de esta fase del proceso pues permite agregar y determinar las variables y sus valores con mayor importancia y relevancia dentro del dataframe"
      ]
    },
    {
      "cell_type": "markdown",
      "metadata": {
        "id": "qpHuJjCCCTd2"
      },
      "source": [
        "# Bibliografía"
      ]
    },
    {
      "cell_type": "markdown",
      "metadata": {
        "id": "0603uSHSCTd2"
      },
      "source": [
        "Pandas. (SN). pandas.DataFrame.boxplot. Obtenido de https://pandas.pydata.org/docs/reference/api/pandas.DataFrame.boxplot.html\n"
      ]
    }
  ],
  "metadata": {
    "kernelspec": {
      "display_name": "Python 3",
      "language": "python",
      "name": "python3"
    },
    "language_info": {
      "codemirror_mode": {
        "name": "ipython",
        "version": 3
      },
      "file_extension": ".py",
      "mimetype": "text/x-python",
      "name": "python",
      "nbconvert_exporter": "python",
      "pygments_lexer": "ipython3",
      "version": "3.8.5"
    },
    "colab": {
      "provenance": [],
      "include_colab_link": true
    }
  },
  "nbformat": 4,
  "nbformat_minor": 0
}