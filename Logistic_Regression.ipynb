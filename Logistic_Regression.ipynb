{
  "cells": [
    {
      "cell_type": "markdown",
      "metadata": {
        "id": "view-in-github",
        "colab_type": "text"
      },
      "source": [
        "<a href=\"https://colab.research.google.com/github/ferjozsot23/machine-learning/blob/main/Logistic_Regression.ipynb\" target=\"_parent\"><img src=\"https://colab.research.google.com/assets/colab-badge.svg\" alt=\"Open In Colab\"/></a>"
      ]
    },
    {
      "cell_type": "markdown",
      "metadata": {
        "id": "lzjXEeMDDHGZ"
      },
      "source": [
        "Fernando José Soto Jácome"
      ]
    },
    {
      "cell_type": "markdown",
      "metadata": {
        "id": "bf2nyfd8DHGe"
      },
      "source": [
        "# Objetivos\n",
        "1. Predecir la clase de un dataset que contenga dos categorías mediante Logistic Regression\n",
        "1. Revisar los métodos de preprocesamiento de datos\n",
        "1. Analizar las predicciones obtenidas mediante Logistic Regression"
      ]
    },
    {
      "cell_type": "markdown",
      "metadata": {
        "id": "9R4NjJFzDHGg"
      },
      "source": [
        "# Introducción\n",
        "Una vez realizado una efectiva selección e ingeniería de características, es importante encontrar las relaciones que existe entre cada una de ellas. Especialmente, explicar cómo las variables independientes tienen una correspondencia con las variables dependientes. Tomar en cuenta la dinámica entre variables, permitirá una correcta predicción a partir de un dataset.\n",
        "\n",
        "La técnica de Logistic Regression permite relacionar las variables y predecir a qué clase pertenecerá un nuevo registro. Esto se realiza a través estimando las probabilidades utilizando una función logística. Esta función es sigmoidea, y es usada en modelos de regresión logística por estar limitada entre 0 y 1, su derivada es fácil de computar, introduce a modelos no lineares.\n",
        "\n",
        "En este informe se utilizará un dataset para indicar si un cliente compró o no un automóvil, mediante variables predictoras involucradas dentro del dataset car_data.csv"
      ]
    },
    {
      "cell_type": "markdown",
      "metadata": {
        "id": "KQhHyyFZDHGh"
      },
      "source": [
        "# Ejercicios presentados"
      ]
    },
    {
      "cell_type": "code",
      "execution_count": null,
      "metadata": {
        "id": "jcWaX9VGDHGi",
        "outputId": "7106c6f8-b643-4bf0-9f70-399fa79ceb31"
      },
      "outputs": [
        {
          "name": "stdout",
          "output_type": "stream",
          "text": [
            "Processing c:\\users\\usuario\\appdata\\local\\pip\\cache\\wheels\\1d\\94\\48\\b3d11f5f91d26bec0c95c6eb9c27c6e427d0b77fb2406d0e0a\\mord-0.6-py3-none-any.whl\n",
            "Installing collected packages: mord\n",
            "Successfully installed mord-0.6\n"
          ]
        }
      ],
      "source": [
        "!pip install mord"
      ]
    },
    {
      "cell_type": "code",
      "execution_count": null,
      "metadata": {
        "id": "_qen9mtdDHGk"
      },
      "outputs": [],
      "source": [
        "from pathlib import Path\n",
        "\n",
        "import numpy as np\n",
        "import pandas as pd\n",
        "from sklearn.linear_model import LogisticRegression, LogisticRegressionCV\n",
        "from sklearn.model_selection import train_test_split\n",
        "import statsmodels.api as sm\n",
        "from mord import LogisticIT\n",
        "import matplotlib.pylab as plt\n",
        "import seaborn as sns\n",
        "from graphs import gainsChart, liftChart\n",
        "from metric import AIC_score, classificationSummary"
      ]
    },
    {
      "cell_type": "markdown",
      "metadata": {
        "id": "kCKoPuvDDHGk"
      },
      "source": [
        "## dataset de decisión de compra, que indica si un cliente compró o no un automóvil obtenido de https://www.kaggle.com/"
      ]
    },
    {
      "cell_type": "code",
      "execution_count": null,
      "metadata": {
        "id": "Zv0s9HTDDHGl"
      },
      "outputs": [],
      "source": [
        "car_df = pd.read_csv(\"car_data.csv\")\n",
        "car_df.head()"
      ]
    },
    {
      "cell_type": "markdown",
      "metadata": {
        "id": "31y1WmjTDHGl"
      },
      "source": [
        "### Future Selection: \"User ID\" and \"Gender\" no son variables relevantes"
      ]
    },
    {
      "cell_type": "code",
      "execution_count": null,
      "metadata": {
        "id": "wxuWmVYvDHGm",
        "outputId": "4a423851-24b8-4712-cb95-b13b1cdd93f9"
      },
      "outputs": [
        {
          "name": "stdout",
          "output_type": "stream",
          "text": [
            "\n"
          ]
        }
      ],
      "source": [
        "car_df.drop(columns=['User ID','Gender'], inplace=True)"
      ]
    },
    {
      "cell_type": "code",
      "execution_count": null,
      "metadata": {
        "id": "DhFGyTj8DHGn",
        "outputId": "7fde7c45-f5ea-4c09-8f0c-aa848ed14c0e"
      },
      "outputs": [
        {
          "name": "stdout",
          "output_type": "stream",
          "text": [
            "Index(['Gender', 'Age', 'AnnualSalary', 'Purchased'], dtype='object')\n"
          ]
        }
      ],
      "source": [
        "print(car_df.columns)"
      ]
    },
    {
      "cell_type": "markdown",
      "metadata": {
        "id": "KizDKykWDHGn"
      },
      "source": [
        "### Transformación de variables predictoras a dommies"
      ]
    },
    {
      "cell_type": "code",
      "execution_count": null,
      "metadata": {
        "id": "H_ZxxjubDHGo",
        "outputId": "96abbe3a-2b11-49d8-d9e7-362e4ef44621"
      },
      "outputs": [
        {
          "data": {
            "text/html": [
              "<div>\n",
              "<style scoped>\n",
              "    .dataframe tbody tr th:only-of-type {\n",
              "        vertical-align: middle;\n",
              "    }\n",
              "\n",
              "    .dataframe tbody tr th {\n",
              "        vertical-align: top;\n",
              "    }\n",
              "\n",
              "    .dataframe thead th {\n",
              "        text-align: right;\n",
              "    }\n",
              "</style>\n",
              "<table border=\"1\" class=\"dataframe\">\n",
              "  <thead>\n",
              "    <tr style=\"text-align: right;\">\n",
              "      <th></th>\n",
              "      <th>Age</th>\n",
              "      <th>AnnualSalary</th>\n",
              "      <th>Purchased</th>\n",
              "      <th>Gender_Male</th>\n",
              "    </tr>\n",
              "  </thead>\n",
              "  <tbody>\n",
              "    <tr>\n",
              "      <th>0</th>\n",
              "      <td>35</td>\n",
              "      <td>20000</td>\n",
              "      <td>0</td>\n",
              "      <td>1</td>\n",
              "    </tr>\n",
              "    <tr>\n",
              "      <th>1</th>\n",
              "      <td>40</td>\n",
              "      <td>43500</td>\n",
              "      <td>0</td>\n",
              "      <td>1</td>\n",
              "    </tr>\n",
              "    <tr>\n",
              "      <th>2</th>\n",
              "      <td>49</td>\n",
              "      <td>74000</td>\n",
              "      <td>0</td>\n",
              "      <td>1</td>\n",
              "    </tr>\n",
              "    <tr>\n",
              "      <th>3</th>\n",
              "      <td>40</td>\n",
              "      <td>107500</td>\n",
              "      <td>1</td>\n",
              "      <td>1</td>\n",
              "    </tr>\n",
              "    <tr>\n",
              "      <th>4</th>\n",
              "      <td>25</td>\n",
              "      <td>79000</td>\n",
              "      <td>0</td>\n",
              "      <td>1</td>\n",
              "    </tr>\n",
              "  </tbody>\n",
              "</table>\n",
              "</div>"
            ],
            "text/plain": [
              "   Age  AnnualSalary  Purchased  Gender_Male\n",
              "0   35         20000          0            1\n",
              "1   40         43500          0            1\n",
              "2   49         74000          0            1\n",
              "3   40        107500          1            1\n",
              "4   25         79000          0            1"
            ]
          },
          "execution_count": 14,
          "metadata": {},
          "output_type": "execute_result"
        }
      ],
      "source": [
        "car_df = pd.get_dummies(car_df, prefix_sep='_', drop_first=True)\n",
        "car_df.head()"
      ]
    },
    {
      "cell_type": "code",
      "execution_count": null,
      "metadata": {
        "id": "gy9FFiV2DHGp",
        "outputId": "a921be9e-93e9-4dcd-c323-6425f5bb93cb"
      },
      "outputs": [
        {
          "name": "stdout",
          "output_type": "stream",
          "text": [
            "<class 'pandas.core.frame.DataFrame'>\n",
            "RangeIndex: 1000 entries, 0 to 999\n",
            "Data columns (total 4 columns):\n",
            " #   Column        Non-Null Count  Dtype\n",
            "---  ------        --------------  -----\n",
            " 0   Age           1000 non-null   int64\n",
            " 1   AnnualSalary  1000 non-null   int64\n",
            " 2   Purchased     1000 non-null   int64\n",
            " 3   Gender_Male   1000 non-null   uint8\n",
            "dtypes: int64(3), uint8(1)\n",
            "memory usage: 24.5 KB\n"
          ]
        }
      ],
      "source": [
        "car_df.info()"
      ]
    },
    {
      "cell_type": "code",
      "execution_count": null,
      "metadata": {
        "id": "__UCpYUnDHGq"
      },
      "outputs": [],
      "source": [
        "y = car_df['Purchased']\n",
        "X = car_df.drop(columns=['Purchased'])"
      ]
    },
    {
      "cell_type": "code",
      "execution_count": null,
      "metadata": {
        "id": "fQAN-otjDHGr",
        "outputId": "a9d27e7a-9f44-46b6-cae1-d93e8bc609c4"
      },
      "outputs": [
        {
          "data": {
            "text/plain": [
              "(1000, 4)"
            ]
          },
          "execution_count": 18,
          "metadata": {},
          "output_type": "execute_result"
        }
      ],
      "source": [
        "car_df.shape"
      ]
    },
    {
      "cell_type": "markdown",
      "metadata": {
        "id": "4QoGCjO1DHGr"
      },
      "source": [
        "### Entrenar el modelo"
      ]
    },
    {
      "cell_type": "code",
      "execution_count": null,
      "metadata": {
        "id": "4PzjqHulDHGs",
        "outputId": "a6dcd206-1b6b-4e57-a0ee-2afcfa75e278"
      },
      "outputs": [
        {
          "data": {
            "text/plain": [
              "LogisticRegression(C=1e+42, solver='liblinear')"
            ]
          },
          "execution_count": 19,
          "metadata": {},
          "output_type": "execute_result"
        }
      ],
      "source": [
        "# partition data\n",
        "train_X, valid_X, train_y, valid_y = train_test_split(X, y, test_size=0.4, random_state=1)\n",
        "\n",
        "# fit a logistic regression (set penalty=l2 and C=1e42 to avoid regularization)\n",
        "logit_reg = LogisticRegression(penalty=\"l2\", C=1e42, solver='liblinear')\n",
        "logit_reg.fit(train_X, train_y)"
      ]
    },
    {
      "cell_type": "code",
      "execution_count": null,
      "metadata": {
        "id": "BlIr2W67DHGs",
        "outputId": "55522442-fae7-4a38-9719-05813e034346"
      },
      "outputs": [
        {
          "name": "stdout",
          "output_type": "stream",
          "text": [
            "intercept  -11.192255898149043\n",
            "            Age  AnnualSalary  Gender_Male\n",
            "coeff  0.209768      0.000026     0.373296\n",
            "\n",
            "AIC 418.31991567880004\n"
          ]
        }
      ],
      "source": [
        "print('intercept ', logit_reg.intercept_[0])\n",
        "print(pd.DataFrame({'coeff': logit_reg.coef_[0]}, index=X.columns).transpose())\n",
        "print()\n",
        "print('AIC', AIC_score(valid_y, logit_reg.predict(valid_X), df = len(train_X.columns) + 1))"
      ]
    },
    {
      "cell_type": "markdown",
      "metadata": {
        "id": "EXixFND5DHGt"
      },
      "source": [
        "### Desplegar las probabilidades de los registros de haber o no comprado el carro con respecto al valor real"
      ]
    },
    {
      "cell_type": "code",
      "execution_count": null,
      "metadata": {
        "id": "gNJkAOoIDHGu",
        "outputId": "d56108fd-e1d5-4fea-d6ef-2384d933490f"
      },
      "outputs": [
        {
          "name": "stdout",
          "output_type": "stream",
          "text": [
            "     actual      p(0)      p(1)  predicted\n",
            "507       0  0.944013  0.055987          0\n",
            "818       1  0.756529  0.243471          0\n",
            "452       0  0.441301  0.558699          1\n",
            "368       0  0.611163  0.388837          0\n",
            "242       1  0.698184  0.301816          0\n",
            "\n"
          ]
        }
      ],
      "source": [
        "logit_reg_pred = logit_reg.predict(valid_X)\n",
        "logit_reg_proba = logit_reg.predict_proba(valid_X)\n",
        "logit_result = pd.DataFrame({'actual': valid_y,\n",
        "                             'p(0)': [p[0] for p in logit_reg_proba],\n",
        "                             'p(1)': [p[1] for p in logit_reg_proba],\n",
        "                             'predicted': logit_reg_pred })\n",
        "\n",
        "print(logit_result.head())\n",
        "print()\n"
      ]
    },
    {
      "cell_type": "code",
      "execution_count": null,
      "metadata": {
        "id": "8FgJ_q0uDHGu",
        "outputId": "ee831522-3e9b-48a3-ea26-6afb2f30217b"
      },
      "outputs": [
        {
          "name": "stdout",
          "output_type": "stream",
          "text": [
            "Confusion Matrix (Accuracy 0.8400)\n",
            "\n",
            "       Prediction\n",
            "Actual   0   1\n",
            "     0 314  37\n",
            "     1  59 190\n",
            "\n",
            "Confusion Matrix (Accuracy 0.8375)\n",
            "\n",
            "       Prediction\n",
            "Actual   0   1\n",
            "     0 222  25\n",
            "     1  40 113\n"
          ]
        }
      ],
      "source": [
        "classificationSummary(train_y, logit_reg.predict(train_X))\n",
        "print()\n",
        "classificationSummary(valid_y, logit_reg.predict(valid_X))"
      ]
    },
    {
      "cell_type": "markdown",
      "metadata": {
        "id": "WVu507Y-DHGv"
      },
      "source": [
        "### Evaluar el nivel de precisión del modelo"
      ]
    },
    {
      "cell_type": "code",
      "execution_count": null,
      "metadata": {
        "id": "r2eidcf9DHGv",
        "outputId": "7ae3be66-4da6-4850-a3b0-18f439931f4e"
      },
      "outputs": [
        {
          "data": {
            "image/png": "[encoded data removed]",
            "text/plain": [
              "<Figure size 720x288 with 2 Axes>"
            ]
          },
          "metadata": {
            "needs_background": "light"
          },
          "output_type": "display_data"
        }
      ],
      "source": [
        "df = logit_result.sort_values(by=['p(1)'], ascending=False)\n",
        "fig, axes = plt.subplots(nrows=1, ncols=2, figsize=(10, 4))\n",
        "\n",
        "gainsChart(df.actual, ax=axes[0], color='r')\n",
        "liftChart(df['p(1)'], title=False, ax=axes[1])\n",
        "\n",
        "plt.tight_layout()\n",
        "plt.show()"
      ]
    },
    {
      "cell_type": "markdown",
      "metadata": {
        "id": "GmcblaALDHGw"
      },
      "source": [
        "#### Mientras más grande sea el área entre la curva y modelo de referencia, el modelo será más preciso"
      ]
    },
    {
      "cell_type": "markdown",
      "metadata": {
        "id": "vdwQXXmpDHGw"
      },
      "source": [
        "## Entrenar el modelo sólo con una variable predictora"
      ]
    },
    {
      "cell_type": "markdown",
      "metadata": {
        "id": "MuN02IKaDHGz"
      },
      "source": [
        "### 1. Se evalúa con Gender"
      ]
    },
    {
      "cell_type": "code",
      "execution_count": null,
      "metadata": {
        "id": "gZ7dgSZXDHG0",
        "outputId": "3609e8d6-6fb9-420f-fa33-7a0f64971f06"
      },
      "outputs": [
        {
          "name": "stdout",
          "output_type": "stream",
          "text": [
            "intercept  -0.3191370216760204\n",
            "             Gender_Male\n",
            "coefficient    -0.051237\n",
            "\n",
            "AIC 756.7401762775194\n"
          ]
        }
      ],
      "source": [
        "predictors = ['Gender_Male']\n",
        "outcome = 'Purchased'\n",
        "\n",
        "y = car_df[outcome]\n",
        "X = car_df[predictors]\n",
        "\n",
        "# partition data\n",
        "train_X, valid_X, train_y, valid_y = train_test_split(X, y, test_size=0.4, random_state=1)\n",
        "\n",
        "# fit a logistic regression (set penalty=l2 and C=1e42 to avoid regularization)\n",
        "logit_reg = LogisticRegression(penalty=\"l2\", C=1e42, solver='liblinear')\n",
        "logit_reg.fit(train_X, train_y)\n",
        "\n",
        "print('intercept ', logit_reg.intercept_[0])\n",
        "print(pd.DataFrame({'coefficient': logit_reg.coef_[0]}, index=X.columns).transpose())\n",
        "print()\n",
        "print('AIC', AIC_score(valid_y, logit_reg.predict(valid_X), df = len(train_X.columns) + 1))"
      ]
    },
    {
      "cell_type": "code",
      "execution_count": null,
      "metadata": {
        "id": "sX11L8GPDHG1",
        "outputId": "559a56e5-a9ef-4334-f6e5-3b3a3501df1a"
      },
      "outputs": [
        {
          "name": "stdout",
          "output_type": "stream",
          "text": [
            "     actual      p(0)      p(1)  predicted\n",
            "507       0  0.579114  0.420886          0\n",
            "818       1  0.579114  0.420886          0\n",
            "452       0  0.591549  0.408451          0\n",
            "368       0  0.579114  0.420886          0\n",
            "242       1  0.591549  0.408451          0\n",
            "\n"
          ]
        }
      ],
      "source": [
        "logit_reg_pred = logit_reg.predict(valid_X)\n",
        "logit_reg_proba = logit_reg.predict_proba(valid_X)\n",
        "logit_result = pd.DataFrame({'actual': valid_y,\n",
        "                             'p(0)': [p[0] for p in logit_reg_proba],\n",
        "                             'p(1)': [p[1] for p in logit_reg_proba],\n",
        "                             'predicted': logit_reg_pred })\n",
        "\n",
        "print(logit_result.head())\n",
        "print()"
      ]
    },
    {
      "cell_type": "code",
      "execution_count": null,
      "metadata": {
        "id": "Tzrga7NFDHG1",
        "outputId": "1d15bfc0-7ac9-419a-a881-f3812362b304"
      },
      "outputs": [
        {
          "name": "stdout",
          "output_type": "stream",
          "text": [
            "Confusion Matrix (Accuracy 0.5850)\n",
            "\n",
            "       Prediction\n",
            "Actual   0   1\n",
            "     0 351   0\n",
            "     1 249   0\n",
            "\n",
            "Confusion Matrix (Accuracy 0.6175)\n",
            "\n",
            "       Prediction\n",
            "Actual   0   1\n",
            "     0 247   0\n",
            "     1 153   0\n"
          ]
        }
      ],
      "source": [
        "classificationSummary(train_y, logit_reg.predict(train_X))\n",
        "print()\n",
        "classificationSummary(valid_y, logit_reg.predict(valid_X))"
      ]
    },
    {
      "cell_type": "code",
      "execution_count": null,
      "metadata": {
        "id": "mhzLLEkjDHG2",
        "outputId": "7ac8060d-2160-4633-b547-67bc3648ff64"
      },
      "outputs": [
        {
          "data": {
            "image/png": "[encoded data removed]",
            "text/plain": [
              "<Figure size 720x288 with 2 Axes>"
            ]
          },
          "metadata": {
            "needs_background": "light"
          },
          "output_type": "display_data"
        }
      ],
      "source": [
        "df = logit_result.sort_values(by=['p(1)'], ascending=False)\n",
        "fig, axes = plt.subplots(nrows=1, ncols=2, figsize=(10, 4))\n",
        "\n",
        "gainsChart(df.actual, ax=axes[0], color='r')\n",
        "liftChart(df['p(1)'], title=False, ax=axes[1])\n",
        "\n",
        "plt.tight_layout()\n",
        "plt.show()"
      ]
    },
    {
      "cell_type": "markdown",
      "metadata": {
        "id": "hMpC5vrfDHG2"
      },
      "source": [
        "### Como se logra apreciar, predecir si el cliente compra o no el vehículo es poco preciso si solamente se toma en cuenta la variable \"Género\""
      ]
    },
    {
      "cell_type": "markdown",
      "metadata": {
        "id": "7LQoYvTSDHG2"
      },
      "source": [
        "### 2. Se evalúa con \"AnnualSalary\""
      ]
    },
    {
      "cell_type": "code",
      "execution_count": null,
      "metadata": {
        "id": "XyDJL38UDHG3",
        "outputId": "0f94f706-51b6-4e14-bb2e-e5ff9a404a9b"
      },
      "outputs": [
        {
          "name": "stdout",
          "output_type": "stream",
          "text": [
            "intercept  -1.7622201903499684\n",
            "             AnnualSalary\n",
            "coefficient      0.000019\n",
            "\n",
            "AIC 497.37566159009793\n"
          ]
        }
      ],
      "source": [
        "predictors = ['AnnualSalary']\n",
        "outcome = 'Purchased'\n",
        "\n",
        "y = car_df[outcome]\n",
        "X = car_df[predictors]\n",
        "\n",
        "# partition data\n",
        "train_X, valid_X, train_y, valid_y = train_test_split(X, y, test_size=0.4, random_state=1)\n",
        "\n",
        "# fit a logistic regression (set penalty=l2 and C=1e42 to avoid regularization)\n",
        "logit_reg = LogisticRegression(penalty=\"l2\", C=1e42, solver='liblinear')\n",
        "logit_reg.fit(train_X, train_y)\n",
        "\n",
        "print('intercept ', logit_reg.intercept_[0])\n",
        "print(pd.DataFrame({'coefficient': logit_reg.coef_[0]}, index=X.columns).transpose())\n",
        "print()\n",
        "print('AIC', AIC_score(valid_y, logit_reg.predict(valid_X), df = len(train_X.columns) + 1))"
      ]
    },
    {
      "cell_type": "code",
      "execution_count": null,
      "metadata": {
        "id": "usyO_181DHG3",
        "outputId": "d8493edb-0c32-4f05-aa48-cae39dc675d5"
      },
      "outputs": [
        {
          "name": "stdout",
          "output_type": "stream",
          "text": [
            "     actual      p(0)      p(1)  predicted\n",
            "507       0  0.561659  0.438341          0\n",
            "818       1  0.559298  0.440702          0\n",
            "452       0  0.568725  0.431275          0\n",
            "368       0  0.587423  0.412577          0\n",
            "242       1  0.497280  0.502720          1\n",
            "\n"
          ]
        }
      ],
      "source": [
        "logit_reg_pred = logit_reg.predict(valid_X)\n",
        "logit_reg_proba = logit_reg.predict_proba(valid_X)\n",
        "logit_result = pd.DataFrame({'actual': valid_y,\n",
        "                             'p(0)': [p[0] for p in logit_reg_proba],\n",
        "                             'p(1)': [p[1] for p in logit_reg_proba],\n",
        "                             'predicted': logit_reg_pred })\n",
        "\n",
        "print(logit_result.head())\n",
        "print()"
      ]
    },
    {
      "cell_type": "code",
      "execution_count": null,
      "metadata": {
        "id": "WSvY8KmzDHG4",
        "outputId": "75db01af-46b9-4f12-c70f-0adf9ef5ebb7"
      },
      "outputs": [
        {
          "name": "stdout",
          "output_type": "stream",
          "text": [
            "Confusion Matrix (Accuracy 0.7483)\n",
            "\n",
            "       Prediction\n",
            "Actual   0   1\n",
            "     0 328  23\n",
            "     1 128 121\n",
            "\n",
            "Confusion Matrix (Accuracy 0.8000)\n",
            "\n",
            "       Prediction\n",
            "Actual   0   1\n",
            "     0 240   7\n",
            "     1  73  80\n"
          ]
        }
      ],
      "source": [
        "classificationSummary(train_y, logit_reg.predict(train_X))\n",
        "print()\n",
        "classificationSummary(valid_y, logit_reg.predict(valid_X))"
      ]
    },
    {
      "cell_type": "code",
      "execution_count": null,
      "metadata": {
        "id": "oSDZhilbDHG4",
        "outputId": "dc08e86e-07f1-45ad-8698-b8cf26d595aa"
      },
      "outputs": [
        {
          "data": {
            "image/png": "[encoded data removed]",
            "text/plain": [
              "<Figure size 720x288 with 2 Axes>"
            ]
          },
          "metadata": {
            "needs_background": "light"
          },
          "output_type": "display_data"
        }
      ],
      "source": [
        "df = logit_result.sort_values(by=['p(1)'], ascending=False)\n",
        "fig, axes = plt.subplots(nrows=1, ncols=2, figsize=(10, 4))\n",
        "\n",
        "gainsChart(df.actual, ax=axes[0], color='r')\n",
        "liftChart(df['p(1)'], title=False, ax=axes[1])\n",
        "\n",
        "plt.tight_layout()\n",
        "plt.show()"
      ]
    },
    {
      "cell_type": "markdown",
      "metadata": {
        "id": "N355XbiUDHG5"
      },
      "source": [
        "### El modelo responde mejor cuando la variable dependiente está relacionada con el dinero, en este caso \"AnnualSalary\", por tanto, es más relevante que \"Género\""
      ]
    },
    {
      "cell_type": "markdown",
      "metadata": {
        "id": "Nsh7ftHSDHG5"
      },
      "source": [
        "# Conclusiones"
      ]
    },
    {
      "cell_type": "markdown",
      "metadata": {
        "id": "hJJQaBPEDHHH"
      },
      "source": [
        "1. Se concluye que  el algoritmo de aprendizaje supervisado Logistic Regression permite predecir la pertenencia de una variable a una clase determinada.\n",
        "\n",
        "1. Se concluye realizar la matriz de confusión es importante para determinar y analizar la precisión del modelo a partir de los datos de entrenamiento. Esta matriz permite comparar los datos de predicción y reales, en escenarios con datos vistos y con no vistos.\n",
        "\n",
        "1. Se concluye que a medida que se utilice una mayor cantidad de variables predictoras, siempre y cuando hayan pasado por el proceso de selección e ingeniería de características, el modelo arrojará mejores niveles de precisión debido a que fue entrenado variables relevantes"
      ]
    },
    {
      "cell_type": "markdown",
      "metadata": {
        "id": "AZvulSnkDHHI"
      },
      "source": [
        "# Bibliografía"
      ]
    },
    {
      "cell_type": "markdown",
      "metadata": {
        "id": "T-g_-4G5DHHI"
      },
      "source": [
        "Susan Li. (Septiembre de 2017). Building A Logistic Regression in Python, Step by Step  Obtenido de https://towardsdatascience.com/building-a-logistic-regression-in-python-step-by-step-becd4d56c9c8\n"
      ]
    }
  ],
  "metadata": {
    "kernelspec": {
      "display_name": "Python 3",
      "language": "python",
      "name": "python3"
    },
    "language_info": {
      "codemirror_mode": {
        "name": "ipython",
        "version": 3
      },
      "file_extension": ".py",
      "mimetype": "text/x-python",
      "name": "python",
      "nbconvert_exporter": "python",
      "pygments_lexer": "ipython3",
      "version": "3.8.5"
    },
    "colab": {
      "provenance": [],
      "include_colab_link": true
    }
  },
  "nbformat": 4,
  "nbformat_minor": 0
}