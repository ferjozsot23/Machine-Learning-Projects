{
  "cells": [
    {
      "cell_type": "markdown",
      "metadata": {
        "id": "view-in-github",
        "colab_type": "text"
      },
      "source": [
        "<a href=\"https://colab.research.google.com/github/ferjozsot23/machine-learning/blob/main/SVM_Classifier_Regressor_and_Linear_Regressor.ipynb\" target=\"_parent\"><img src=\"https://colab.research.google.com/assets/colab-badge.svg\" alt=\"Open In Colab\"/></a>"
      ]
    },
    {
      "cell_type": "markdown",
      "metadata": {
        "id": "jHSKAS4XJecB"
      },
      "source": [
        "Fernando José Soto Jácome"
      ]
    },
    {
      "cell_type": "markdown",
      "metadata": {
        "id": "VIeYnMp5JecN"
      },
      "source": [
        "# Objetivos\n",
        "1. Comprender de manera general cómo trabajan las máquinas de vectores de soporte y aplicarlo para resolver tareas de clasificación.\n",
        "1. Aplicar SVM en un ejemplo de clasificación y mirar su costo computacional.\n",
        "1. Comparar el desempeño de SVM Regressor y Regresión Lineal para una tarea de regresión"
      ]
    },
    {
      "cell_type": "markdown",
      "metadata": {
        "id": "3hYh0X42JecO"
      },
      "source": [
        "# Introducción\n",
        "Una tarea de predicción de clasificación o de regresión permite estimar un resultado dependiendo de sus variables indpendientes. Es así como conocer, analizar y procesar las variables predictoras permiten que el modelo alcance una mayor precisión, independientemente de si se trata de variables categóricas o números reales de valor continuo.\n",
        "\n",
        "Cuando se trata de predecir la categoría de una variable de criterio, se tiene varios métodos, uno de ellos es el de Support Vector Machines\n",
        "(SVM) que se define mediante un hiperplano de separación entre las clases. Si la predicción se basa en una variable dependiente numérica, se puede utilizar Regresión Lineal, que estima la relación entre variables de entrada y de salida. Cuando no es suficiente el método lineal, se utiliza la Regresión Polinomial que proporciona una mayor precisión pero tiende a ser más complejo computacionalmente.\n",
        "\n",
        "En este informe se tratará predicción de clasificación y regresión, por lo que las variables target serán diferentes en ambos casos para entender en mayor medida estos modelos de predicción.\n"
      ]
    },
    {
      "cell_type": "markdown",
      "metadata": {
        "id": "FOmJqhSAJecO"
      },
      "source": [
        "# Ejercicios presentados"
      ]
    },
    {
      "cell_type": "markdown",
      "metadata": {
        "id": "ACrqhz7zJecP"
      },
      "source": [
        "# Ejercicios Python"
      ]
    },
    {
      "cell_type": "code",
      "execution_count": null,
      "metadata": {
        "id": "Qfn3vsbuJecP"
      },
      "outputs": [],
      "source": [
        "import pandas as pd\n",
        "import numpy as np\n",
        "import matplotlib.pyplot as plt\n",
        "from sklearn import preprocessing\n",
        "from sklearn.svm import LinearSVC\n",
        "from sklearn.multiclass import OneVsOneClassifier\n",
        "from sklearn.model_selection import train_test_split, cross_val_score\n"
      ]
    },
    {
      "cell_type": "markdown",
      "metadata": {
        "id": "7LhkHnNBJecQ"
      },
      "source": [
        "# SUPPORT VECTOR MACHINES (SVM) para clasificación"
      ]
    },
    {
      "cell_type": "code",
      "execution_count": null,
      "metadata": {
        "id": "cYR3dxOtJecQ",
        "outputId": "dea05f19-2d4a-44a3-fcf2-9c6684639c4e"
      },
      "outputs": [
        {
          "data": {
            "text/html": [
              "<div>\n",
              "<style scoped>\n",
              "    .dataframe tbody tr th:only-of-type {\n",
              "        vertical-align: middle;\n",
              "    }\n",
              "\n",
              "    .dataframe tbody tr th {\n",
              "        vertical-align: top;\n",
              "    }\n",
              "\n",
              "    .dataframe thead th {\n",
              "        text-align: right;\n",
              "    }\n",
              "</style>\n",
              "<table border=\"1\" class=\"dataframe\">\n",
              "  <thead>\n",
              "    <tr style=\"text-align: right;\">\n",
              "      <th></th>\n",
              "      <th>satisfaction</th>\n",
              "      <th>Gender</th>\n",
              "      <th>Customer Type</th>\n",
              "      <th>Age</th>\n",
              "      <th>Type of Travel</th>\n",
              "      <th>Class</th>\n",
              "      <th>Flight Distance</th>\n",
              "      <th>Seat comfort</th>\n",
              "      <th>Departure/Arrival time convenient</th>\n",
              "      <th>Food and drink</th>\n",
              "      <th>...</th>\n",
              "      <th>Online support</th>\n",
              "      <th>Ease of Online booking</th>\n",
              "      <th>On-board service</th>\n",
              "      <th>Leg room service</th>\n",
              "      <th>Baggage handling</th>\n",
              "      <th>Checkin service</th>\n",
              "      <th>Cleanliness</th>\n",
              "      <th>Online boarding</th>\n",
              "      <th>Departure Delay in Minutes</th>\n",
              "      <th>Arrival Delay in Minutes</th>\n",
              "    </tr>\n",
              "  </thead>\n",
              "  <tbody>\n",
              "    <tr>\n",
              "      <th>0</th>\n",
              "      <td>satisfied</td>\n",
              "      <td>Female</td>\n",
              "      <td>Loyal Customer</td>\n",
              "      <td>65</td>\n",
              "      <td>Personal Travel</td>\n",
              "      <td>Eco</td>\n",
              "      <td>265</td>\n",
              "      <td>0</td>\n",
              "      <td>0</td>\n",
              "      <td>0</td>\n",
              "      <td>...</td>\n",
              "      <td>2</td>\n",
              "      <td>3</td>\n",
              "      <td>3</td>\n",
              "      <td>0</td>\n",
              "      <td>3</td>\n",
              "      <td>5</td>\n",
              "      <td>3</td>\n",
              "      <td>2</td>\n",
              "      <td>0</td>\n",
              "      <td>0.0</td>\n",
              "    </tr>\n",
              "    <tr>\n",
              "      <th>1</th>\n",
              "      <td>satisfied</td>\n",
              "      <td>Male</td>\n",
              "      <td>Loyal Customer</td>\n",
              "      <td>47</td>\n",
              "      <td>Personal Travel</td>\n",
              "      <td>Business</td>\n",
              "      <td>2464</td>\n",
              "      <td>0</td>\n",
              "      <td>0</td>\n",
              "      <td>0</td>\n",
              "      <td>...</td>\n",
              "      <td>2</td>\n",
              "      <td>3</td>\n",
              "      <td>4</td>\n",
              "      <td>4</td>\n",
              "      <td>4</td>\n",
              "      <td>2</td>\n",
              "      <td>3</td>\n",
              "      <td>2</td>\n",
              "      <td>310</td>\n",
              "      <td>305.0</td>\n",
              "    </tr>\n",
              "    <tr>\n",
              "      <th>2</th>\n",
              "      <td>satisfied</td>\n",
              "      <td>Female</td>\n",
              "      <td>Loyal Customer</td>\n",
              "      <td>15</td>\n",
              "      <td>Personal Travel</td>\n",
              "      <td>Eco</td>\n",
              "      <td>2138</td>\n",
              "      <td>0</td>\n",
              "      <td>0</td>\n",
              "      <td>0</td>\n",
              "      <td>...</td>\n",
              "      <td>2</td>\n",
              "      <td>2</td>\n",
              "      <td>3</td>\n",
              "      <td>3</td>\n",
              "      <td>4</td>\n",
              "      <td>4</td>\n",
              "      <td>4</td>\n",
              "      <td>2</td>\n",
              "      <td>0</td>\n",
              "      <td>0.0</td>\n",
              "    </tr>\n",
              "    <tr>\n",
              "      <th>3</th>\n",
              "      <td>satisfied</td>\n",
              "      <td>Female</td>\n",
              "      <td>Loyal Customer</td>\n",
              "      <td>60</td>\n",
              "      <td>Personal Travel</td>\n",
              "      <td>Eco</td>\n",
              "      <td>623</td>\n",
              "      <td>0</td>\n",
              "      <td>0</td>\n",
              "      <td>0</td>\n",
              "      <td>...</td>\n",
              "      <td>3</td>\n",
              "      <td>1</td>\n",
              "      <td>1</td>\n",
              "      <td>0</td>\n",
              "      <td>1</td>\n",
              "      <td>4</td>\n",
              "      <td>1</td>\n",
              "      <td>3</td>\n",
              "      <td>0</td>\n",
              "      <td>0.0</td>\n",
              "    </tr>\n",
              "    <tr>\n",
              "      <th>4</th>\n",
              "      <td>satisfied</td>\n",
              "      <td>Female</td>\n",
              "      <td>Loyal Customer</td>\n",
              "      <td>70</td>\n",
              "      <td>Personal Travel</td>\n",
              "      <td>Eco</td>\n",
              "      <td>354</td>\n",
              "      <td>0</td>\n",
              "      <td>0</td>\n",
              "      <td>0</td>\n",
              "      <td>...</td>\n",
              "      <td>4</td>\n",
              "      <td>2</td>\n",
              "      <td>2</td>\n",
              "      <td>0</td>\n",
              "      <td>2</td>\n",
              "      <td>4</td>\n",
              "      <td>2</td>\n",
              "      <td>5</td>\n",
              "      <td>0</td>\n",
              "      <td>0.0</td>\n",
              "    </tr>\n",
              "  </tbody>\n",
              "</table>\n",
              "<p>5 rows × 23 columns</p>\n",
              "</div>"
            ],
            "text/plain": [
              "  satisfaction  Gender   Customer Type  Age   Type of Travel     Class  \\\n",
              "0    satisfied  Female  Loyal Customer   65  Personal Travel       Eco   \n",
              "1    satisfied    Male  Loyal Customer   47  Personal Travel  Business   \n",
              "2    satisfied  Female  Loyal Customer   15  Personal Travel       Eco   \n",
              "3    satisfied  Female  Loyal Customer   60  Personal Travel       Eco   \n",
              "4    satisfied  Female  Loyal Customer   70  Personal Travel       Eco   \n",
              "\n",
              "   Flight Distance  Seat comfort  Departure/Arrival time convenient  \\\n",
              "0              265             0                                  0   \n",
              "1             2464             0                                  0   \n",
              "2             2138             0                                  0   \n",
              "3              623             0                                  0   \n",
              "4              354             0                                  0   \n",
              "\n",
              "   Food and drink  ...  Online support  Ease of Online booking  \\\n",
              "0               0  ...               2                       3   \n",
              "1               0  ...               2                       3   \n",
              "2               0  ...               2                       2   \n",
              "3               0  ...               3                       1   \n",
              "4               0  ...               4                       2   \n",
              "\n",
              "   On-board service  Leg room service  Baggage handling  Checkin service  \\\n",
              "0                 3                 0                 3                5   \n",
              "1                 4                 4                 4                2   \n",
              "2                 3                 3                 4                4   \n",
              "3                 1                 0                 1                4   \n",
              "4                 2                 0                 2                4   \n",
              "\n",
              "   Cleanliness  Online boarding  Departure Delay in Minutes  \\\n",
              "0            3                2                           0   \n",
              "1            3                2                         310   \n",
              "2            4                2                           0   \n",
              "3            1                3                           0   \n",
              "4            2                5                           0   \n",
              "\n",
              "   Arrival Delay in Minutes  \n",
              "0                       0.0  \n",
              "1                     305.0  \n",
              "2                       0.0  \n",
              "3                       0.0  \n",
              "4                       0.0  \n",
              "\n",
              "[5 rows x 23 columns]"
            ]
          },
          "execution_count": 200,
          "metadata": {},
          "output_type": "execute_result"
        }
      ],
      "source": [
        "fly_df = pd.read_csv('Invistico_Airline.csv')\n",
        "fly_df.head()"
      ]
    },
    {
      "cell_type": "code",
      "execution_count": null,
      "metadata": {
        "id": "9y7RXJQUJecR",
        "outputId": "e9bedde6-4a4a-4f50-8da1-c6ba919706f6"
      },
      "outputs": [
        {
          "data": {
            "text/plain": [
              "satisfaction                         object\n",
              "Gender                               object\n",
              "Customer Type                        object\n",
              "Age                                   int64\n",
              "Type of Travel                       object\n",
              "Class                                object\n",
              "Flight Distance                       int64\n",
              "Seat comfort                          int64\n",
              "Departure/Arrival time convenient     int64\n",
              "Food and drink                        int64\n",
              "Gate location                         int64\n",
              "Inflight wifi service                 int64\n",
              "Inflight entertainment                int64\n",
              "Online support                        int64\n",
              "Ease of Online booking                int64\n",
              "On-board service                      int64\n",
              "Leg room service                      int64\n",
              "Baggage handling                      int64\n",
              "Checkin service                       int64\n",
              "Cleanliness                           int64\n",
              "Online boarding                       int64\n",
              "Departure Delay in Minutes            int64\n",
              "dtype: object"
            ]
          },
          "execution_count": 203,
          "metadata": {},
          "output_type": "execute_result"
        }
      ],
      "source": [
        "fly_df.dtypes"
      ]
    },
    {
      "cell_type": "code",
      "execution_count": null,
      "metadata": {
        "id": "i5o9D0kiJecT"
      },
      "outputs": [],
      "source": [
        "fly_df = np.array(fly_df)"
      ]
    },
    {
      "cell_type": "code",
      "execution_count": null,
      "metadata": {
        "id": "YRzgXDCuJecY",
        "outputId": "53a8e633-cc84-411d-8918-d483348cf109"
      },
      "outputs": [
        {
          "data": {
            "text/plain": [
              "array(['satisfied', 'Female', 'Loyal Customer', 65, 'Personal Travel',\n",
              "       'Eco', 265, 0, 0, 0, 2, 2, 4, 2, 3, 3, 0, 3, 5, 3, 2, 0],\n",
              "      dtype=object)"
            ]
          },
          "execution_count": 243,
          "metadata": {},
          "output_type": "execute_result"
        }
      ],
      "source": [
        "fly_df[0]"
      ]
    },
    {
      "cell_type": "code",
      "execution_count": null,
      "metadata": {
        "id": "jE0jV43hJeca"
      },
      "outputs": [],
      "source": [
        "label_encoder = []\n",
        "X_encoded = np.empty(fly_df.shape)\n",
        "\n",
        "for i,item in enumerate(fly_df[0]):\n",
        "    if str(item).isdigit():\n",
        "        X_encoded[:, i] = fly_df[:, i]\n",
        "    else:\n",
        "        label_encoder.append(preprocessing.LabelEncoder())\n",
        "        X_encoded[:, i] = label_encoder[-1].fit_transform(fly_df[:, i])\n",
        "X = X_encoded[:, 1:].astype(int) #features\n",
        "y = X_encoded[:, 0].astype(int)  # clase"
      ]
    },
    {
      "cell_type": "code",
      "execution_count": null,
      "metadata": {
        "id": "xZoo5-guJecb",
        "outputId": "1bac4a8e-e4c1-4268-a7f1-045aac3da1d9"
      },
      "outputs": [
        {
          "data": {
            "text/plain": [
              "array([  0,   0,  65,   1,   1, 265,   0,   0,   0,   2,   2,   4,   2,\n",
              "         3,   3,   0,   3,   5,   3,   2,   0])"
            ]
          },
          "execution_count": 207,
          "metadata": {},
          "output_type": "execute_result"
        }
      ],
      "source": [
        "X[0]"
      ]
    },
    {
      "cell_type": "code",
      "execution_count": null,
      "metadata": {
        "id": "AS2PgMD-Jecb",
        "outputId": "9c8bb5a3-d287-4e2c-fc51-72f3be2b7924"
      },
      "outputs": [
        {
          "data": {
            "text/plain": [
              "[LabelEncoder(),\n",
              " LabelEncoder(),\n",
              " LabelEncoder(),\n",
              " LabelEncoder(),\n",
              " LabelEncoder()]"
            ]
          },
          "execution_count": 208,
          "metadata": {},
          "output_type": "execute_result"
        }
      ],
      "source": [
        "label_encoder"
      ]
    },
    {
      "cell_type": "code",
      "execution_count": null,
      "metadata": {
        "id": "MwvgxbIlJecd",
        "outputId": "af7c8ec3-7b93-4ecd-968e-171d11321d41"
      },
      "outputs": [
        {
          "data": {
            "text/plain": [
              "1"
            ]
          },
          "execution_count": 209,
          "metadata": {},
          "output_type": "execute_result"
        }
      ],
      "source": [
        "y[0]"
      ]
    },
    {
      "cell_type": "markdown",
      "metadata": {
        "id": "0esfh0u6Jece"
      },
      "source": [
        "### Se importa time para calcular la duración de la ejecución y costo computacional"
      ]
    },
    {
      "cell_type": "code",
      "execution_count": null,
      "metadata": {
        "id": "5K9wPA7_Jecm"
      },
      "outputs": [],
      "source": [
        "import time"
      ]
    },
    {
      "cell_type": "code",
      "execution_count": null,
      "metadata": {
        "id": "nT14NYTrJeco"
      },
      "outputs": [],
      "source": [
        "classifier = OneVsOneClassifier(LinearSVC(random_state=0)) # max_iter=5000 default es 1000"
      ]
    },
    {
      "cell_type": "code",
      "execution_count": null,
      "metadata": {
        "id": "yhXvkl2JJecw",
        "outputId": "b9843a4c-7749-44c1-f5c8-4c027a6b0b85"
      },
      "outputs": [
        {
          "name": "stdout",
          "output_type": "stream",
          "text": [
            "Tiempo de ejecución:  44168.9453125  milisegundos\n"
          ]
        },
        {
          "name": "stderr",
          "output_type": "stream",
          "text": [
            "C:\\ProgramData\\Anaconda3\\lib\\site-packages\\sklearn\\svm\\_base.py:976: ConvergenceWarning: Liblinear failed to converge, increase the number of iterations.\n",
            "  warnings.warn(\"Liblinear failed to converge, increase \"\n"
          ]
        }
      ],
      "source": [
        "begin = time.time()\n",
        "classifier.fit(X, y)\n",
        "finish = time.time()\n",
        "print(\"Tiempo de ejecución: \", (finish-begin)*1000, \" milisegundos\")"
      ]
    },
    {
      "cell_type": "code",
      "execution_count": null,
      "metadata": {
        "id": "pQ6fA7nQJecx"
      },
      "outputs": [],
      "source": [
        "## No se logra converger"
      ]
    },
    {
      "cell_type": "code",
      "execution_count": null,
      "metadata": {
        "id": "W-OYuB4qJecx",
        "outputId": "76098e74-9fc4-4a02-e06c-cc9951abcdc8"
      },
      "outputs": [
        {
          "name": "stdout",
          "output_type": "stream",
          "text": [
            "Tiempo de ejecución:  176127.51817703247  milisegundos\n"
          ]
        },
        {
          "name": "stderr",
          "output_type": "stream",
          "text": [
            "C:\\ProgramData\\Anaconda3\\lib\\site-packages\\sklearn\\svm\\_base.py:976: ConvergenceWarning: Liblinear failed to converge, increase the number of iterations.\n",
            "  warnings.warn(\"Liblinear failed to converge, increase \"\n"
          ]
        }
      ],
      "source": [
        "begin = time.time()\n",
        "\n",
        "X_train, X_test, y_train, y_test = train_test_split(X, y, test_size=0.2, random_state=5)\n",
        "classifier = OneVsOneClassifier(LinearSVC(random_state=0, max_iter=6000))\n",
        "classifier.fit(X_train, y_train)\n",
        "y_test_pred = classifier.predict(X_test)\n",
        "\n",
        "finish = time.time()\n",
        "print(\"Tiempo de ejecución: \", (finish-begin)*1000, \" milisegundos\")"
      ]
    },
    {
      "cell_type": "code",
      "execution_count": null,
      "metadata": {
        "id": "TmdxGu4-Jecy"
      },
      "outputs": [],
      "source": [
        "## No se logra converger"
      ]
    },
    {
      "cell_type": "code",
      "execution_count": null,
      "metadata": {
        "id": "HFFomVdMJecy",
        "outputId": "29fb7619-521a-4e83-cf6f-28c074e91191"
      },
      "outputs": [
        {
          "name": "stderr",
          "output_type": "stream",
          "text": [
            "C:\\ProgramData\\Anaconda3\\lib\\site-packages\\sklearn\\svm\\_base.py:976: ConvergenceWarning: Liblinear failed to converge, increase the number of iterations.\n",
            "  warnings.warn(\"Liblinear failed to converge, increase \"\n",
            "C:\\ProgramData\\Anaconda3\\lib\\site-packages\\sklearn\\svm\\_base.py:976: ConvergenceWarning: Liblinear failed to converge, increase the number of iterations.\n",
            "  warnings.warn(\"Liblinear failed to converge, increase \"\n",
            "C:\\ProgramData\\Anaconda3\\lib\\site-packages\\sklearn\\svm\\_base.py:976: ConvergenceWarning: Liblinear failed to converge, increase the number of iterations.\n",
            "  warnings.warn(\"Liblinear failed to converge, increase \"\n"
          ]
        },
        {
          "name": "stdout",
          "output_type": "stream",
          "text": [
            "F1 score: 43.69%\n",
            "Tiempo de ejecución:  658543.871641159  milisegundos\n"
          ]
        },
        {
          "name": "stderr",
          "output_type": "stream",
          "text": [
            "C:\\ProgramData\\Anaconda3\\lib\\site-packages\\sklearn\\svm\\_base.py:976: ConvergenceWarning: Liblinear failed to converge, increase the number of iterations.\n",
            "  warnings.warn(\"Liblinear failed to converge, increase \"\n"
          ]
        }
      ],
      "source": [
        "# Compute the F1 score of the SVM classifier\n",
        "begin = time.time()\n",
        "\n",
        "f1 = cross_val_score(classifier, X, y, scoring='f1_weighted', cv=4)\n",
        "print(\"F1 score: \" + str(round(100*f1.mean(), 2)) + \"%\")\n",
        "\n",
        "finish = time.time()\n",
        "print(\"Tiempo de ejecución: \", (finish-begin)*1000, \" milisegundos\")"
      ]
    },
    {
      "cell_type": "code",
      "execution_count": null,
      "metadata": {
        "id": "_HSv9R2aJecy"
      },
      "outputs": [],
      "source": [
        "# No se logra converger"
      ]
    },
    {
      "cell_type": "code",
      "execution_count": null,
      "metadata": {
        "id": "3jrr3Y9AJecz"
      },
      "outputs": [],
      "source": [
        "# Tomó 10 MINUTOS en realizar la operación"
      ]
    },
    {
      "cell_type": "markdown",
      "metadata": {
        "id": "txUOwX_tJecz"
      },
      "source": [
        "### Normalización de datos para lograr convergencia"
      ]
    },
    {
      "cell_type": "code",
      "execution_count": null,
      "metadata": {
        "id": "F7OYBsZrJecz",
        "outputId": "41079b31-fc17-4f4f-8fa3-0840555d4081"
      },
      "outputs": [
        {
          "data": {
            "text/plain": [
              "array([0.00000000e+00, 0.00000000e+00, 8.07845631e-05, 1.24283943e-06,\n",
              "       1.24283943e-06, 3.29352450e-04, 0.00000000e+00, 0.00000000e+00,\n",
              "       0.00000000e+00, 2.48567887e-06, 2.48567887e-06, 4.97135773e-06,\n",
              "       2.48567887e-06, 3.72851830e-06, 3.72851830e-06, 0.00000000e+00,\n",
              "       3.72851830e-06, 6.21419716e-06, 3.72851830e-06, 2.48567887e-06,\n",
              "       0.00000000e+00])"
            ]
          },
          "execution_count": 211,
          "metadata": {},
          "output_type": "execute_result"
        }
      ],
      "source": [
        "result = np.linalg.norm(X)\n",
        "\n",
        "X=X/result\n",
        "X[0]"
      ]
    },
    {
      "cell_type": "code",
      "execution_count": null,
      "metadata": {
        "id": "YQ-M1RSsJecz"
      },
      "outputs": [],
      "source": [
        "classifier = OneVsOneClassifier(LinearSVC(random_state=0)) # max_iter=5000 default es 1000"
      ]
    },
    {
      "cell_type": "code",
      "execution_count": null,
      "metadata": {
        "id": "_JMt4mljJec0",
        "outputId": "5f03271a-6629-4396-896a-a8c5a609eb1d"
      },
      "outputs": [
        {
          "name": "stdout",
          "output_type": "stream",
          "text": [
            "Tiempo de ejecución:  1523.8192081451416  milisegundos\n"
          ]
        }
      ],
      "source": [
        "begin = time.time()\n",
        "classifier.fit(X, y)\n",
        "finish = time.time()\n",
        "print(\"Tiempo de ejecución: \", (finish-begin)*1000, \" milisegundos\")"
      ]
    },
    {
      "cell_type": "markdown",
      "metadata": {
        "id": "fkhGhhelJec0"
      },
      "source": [
        "#### No aparece Warning. Es decir si se pudo converger gracias a la normalización"
      ]
    },
    {
      "cell_type": "code",
      "execution_count": null,
      "metadata": {
        "id": "JP8licVzJec0",
        "outputId": "6ca6763c-a0c7-4418-c71a-fd490553acfd"
      },
      "outputs": [
        {
          "name": "stdout",
          "output_type": "stream",
          "text": [
            "Tiempo de ejecución:  1032.6933860778809  milisegundos\n"
          ]
        }
      ],
      "source": [
        "begin = time.time()\n",
        "\n",
        "X_train, X_test, y_train, y_test = train_test_split(X, y, test_size=0.3, random_state=5)\n",
        "classifier = OneVsOneClassifier(LinearSVC(random_state=0, max_iter=6000))\n",
        "classifier.fit(X_train, y_train)\n",
        "y_test_pred = classifier.predict(X_test)\n",
        "\n",
        "finish = time.time()\n",
        "print(\"Tiempo de ejecución: \", (finish-begin)*1000, \" milisegundos\")"
      ]
    },
    {
      "cell_type": "code",
      "execution_count": null,
      "metadata": {
        "id": "As7FN9o0Jec0",
        "outputId": "c66cc2e9-49c7-443e-882c-63908817fd68"
      },
      "outputs": [
        {
          "name": "stdout",
          "output_type": "stream",
          "text": [
            "F1 score: 38.72%\n",
            "Tiempo de ejecución:  4101.139307022095  milisegundos\n"
          ]
        }
      ],
      "source": [
        "# Compute the F1 score of the SVM classifier\n",
        "begin = time.time()\n",
        "\n",
        "f1 = cross_val_score(classifier, X, y, scoring='f1_weighted', cv=4)\n",
        "print(\"F1 score: \" + str(round(100*f1.mean(), 2)) + \"%\")\n",
        "\n",
        "finish = time.time()\n",
        "print(\"Tiempo de ejecución: \", (finish-begin)*1000, \" milisegundos\")"
      ]
    },
    {
      "cell_type": "markdown",
      "metadata": {
        "id": "KVOMMfnmJec1"
      },
      "source": [
        "### Observaciones"
      ]
    },
    {
      "cell_type": "markdown",
      "metadata": {
        "id": "c8BfE4mBJec1"
      },
      "source": [
        "##### Cuando los valores de X son normalizados, el costo computacional se menora drásticamente dado el corto tiempo de la operación."
      ]
    },
    {
      "cell_type": "markdown",
      "metadata": {
        "id": "MG5vkzyeJec1"
      },
      "source": [
        "##### Adicionalmente, se logra converger"
      ]
    },
    {
      "cell_type": "code",
      "execution_count": null,
      "metadata": {
        "id": "52l83nKIJec1"
      },
      "outputs": [],
      "source": [
        "input_data = ['Female', 'Loyal Customer', 65, 'Personal Travel',\n",
        "       'Eco', 65, 0, 0, 0, 2, 2, 4, 2, 3, 3, 0, 3, 5, 3,\n",
        "       2, 0]"
      ]
    },
    {
      "cell_type": "code",
      "execution_count": null,
      "metadata": {
        "id": "VQQ6E6gSJec1",
        "outputId": "6f93859b-2673-4ac0-f41a-5b5951c2f445"
      },
      "outputs": [
        {
          "data": {
            "text/plain": [
              "21"
            ]
          },
          "execution_count": 238,
          "metadata": {},
          "output_type": "execute_result"
        }
      ],
      "source": [
        "len(input_data)"
      ]
    },
    {
      "cell_type": "code",
      "execution_count": null,
      "metadata": {
        "id": "zJiC3sB_Jec2",
        "outputId": "34871698-1ad7-4fcd-be2d-f62a2c91b484"
      },
      "outputs": [
        {
          "data": {
            "text/plain": [
              "(129880, 21)"
            ]
          },
          "execution_count": 239,
          "metadata": {},
          "output_type": "execute_result"
        }
      ],
      "source": [
        "X.shape"
      ]
    },
    {
      "cell_type": "code",
      "execution_count": null,
      "metadata": {
        "id": "1WBv2-IbJec2",
        "outputId": "3a75067a-887d-4bf0-d81c-39844965f3ad"
      },
      "outputs": [
        {
          "data": {
            "text/plain": [
              "[LabelEncoder(),\n",
              " LabelEncoder(),\n",
              " LabelEncoder(),\n",
              " LabelEncoder(),\n",
              " LabelEncoder()]"
            ]
          },
          "execution_count": 240,
          "metadata": {},
          "output_type": "execute_result"
        }
      ],
      "source": [
        "label_encoder"
      ]
    },
    {
      "cell_type": "code",
      "execution_count": null,
      "metadata": {
        "id": "tFuAw8GzJec9",
        "outputId": "b4ee5940-6ba8-4c24-97a9-fed692f32598"
      },
      "outputs": [
        {
          "name": "stdout",
          "output_type": "stream",
          "text": [
            "[-1, -1, -1, -1, -1, -1, -1, -1, -1, -1, -1, -1, -1, -1, -1, -1, -1, -1, -1, -1, -1]\n",
            "[ 0  0 65  1  1 65  0  0  0  2  2  4  2  3  3  0  3  5  3  2  0]\n"
          ]
        }
      ],
      "source": [
        "input_data_encoded = [-1] * len(input_data)\n",
        "print(input_data_encoded)\n",
        "count = 0\n",
        "for i, item in enumerate(input_data):\n",
        "    if str(item).isdigit():\n",
        "        input_data_encoded[i] = int(input_data[i])\n",
        "    else:\n",
        "        input_data_encoded[i] = int(label_encoder[count+1].transform([np.array(input_data[i])]))\n",
        "        count += 1\n",
        "input_data_encoded = np.array(input_data_encoded)\n",
        "print(input_data_encoded)"
      ]
    },
    {
      "cell_type": "code",
      "execution_count": null,
      "metadata": {
        "id": "uPvLe9mfJec-",
        "outputId": "61f8d165-46b5-4ca9-a6fe-f309f83310df"
      },
      "outputs": [
        {
          "name": "stdout",
          "output_type": "stream",
          "text": [
            "Predección con el classifier cuyo F1 = 38.72%\n",
            "[0]\n",
            "['dissatisfied']\n",
            "Decodificar el input codificado\n",
            "['Female']\n"
          ]
        }
      ],
      "source": [
        "print('Predicción con el classifier cuyo F1 = 38.72%')\n",
        "predicted_class = classifier.predict(input_data_encoded.reshape(-1, 21))\n",
        "print(predicted_class)\n",
        "print(label_encoder[0].inverse_transform([np.array(predicted_class)][0]))\n",
        "\n",
        "#Cada encoder en label_encoder lleva inf de la columna codificada\n",
        "print(\"Decodificar el input codificado\")\n",
        "print(label_encoder[1].inverse_transform([np.array(input_data_encoded[1])]))"
      ]
    },
    {
      "cell_type": "markdown",
      "metadata": {
        "id": "q9kBrSH2Jec-"
      },
      "source": [
        "# REGRESIÓN LINEAL"
      ]
    },
    {
      "cell_type": "code",
      "execution_count": null,
      "metadata": {
        "id": "-3KhAvwfJec-"
      },
      "outputs": [],
      "source": [
        "import pickle\n",
        "\n",
        "import numpy as np\n",
        "from sklearn import linear_model\n",
        "import sklearn.metrics as sm\n",
        "import matplotlib.pyplot as plt\n",
        "import pandas as pd"
      ]
    },
    {
      "cell_type": "code",
      "execution_count": null,
      "metadata": {
        "id": "BNsSdsdzJec_"
      },
      "outputs": [],
      "source": [
        "# Input file containing data\n",
        "input_file = 'stock_price.txt'"
      ]
    },
    {
      "cell_type": "code",
      "execution_count": null,
      "metadata": {
        "id": "CjXgYqgtJec_"
      },
      "outputs": [],
      "source": [
        "# Read data\n",
        "stock_df = pd.read_csv(input_file,sep=',')"
      ]
    },
    {
      "cell_type": "code",
      "execution_count": null,
      "metadata": {
        "id": "zoKQCHK0Jec_",
        "outputId": "7c3e4eb7-d9f5-432c-b1e3-b39f2d967364"
      },
      "outputs": [
        {
          "data": {
            "text/html": [
              "<div>\n",
              "<style scoped>\n",
              "    .dataframe tbody tr th:only-of-type {\n",
              "        vertical-align: middle;\n",
              "    }\n",
              "\n",
              "    .dataframe tbody tr th {\n",
              "        vertical-align: top;\n",
              "    }\n",
              "\n",
              "    .dataframe thead th {\n",
              "        text-align: right;\n",
              "    }\n",
              "</style>\n",
              "<table border=\"1\" class=\"dataframe\">\n",
              "  <thead>\n",
              "    <tr style=\"text-align: right;\">\n",
              "      <th></th>\n",
              "      <th>Date</th>\n",
              "      <th>Open</th>\n",
              "      <th>High</th>\n",
              "      <th>Low</th>\n",
              "      <th>Close</th>\n",
              "      <th>Volume</th>\n",
              "      <th>OpenInt</th>\n",
              "    </tr>\n",
              "  </thead>\n",
              "  <tbody>\n",
              "    <tr>\n",
              "      <th>0</th>\n",
              "      <td>2010-07-21</td>\n",
              "      <td>24.333</td>\n",
              "      <td>24.333</td>\n",
              "      <td>23.946</td>\n",
              "      <td>23.946</td>\n",
              "      <td>43321</td>\n",
              "      <td>0</td>\n",
              "    </tr>\n",
              "    <tr>\n",
              "      <th>1</th>\n",
              "      <td>2010-07-22</td>\n",
              "      <td>24.644</td>\n",
              "      <td>24.644</td>\n",
              "      <td>24.362</td>\n",
              "      <td>24.487</td>\n",
              "      <td>18031</td>\n",
              "      <td>0</td>\n",
              "    </tr>\n",
              "    <tr>\n",
              "      <th>2</th>\n",
              "      <td>2010-07-23</td>\n",
              "      <td>24.759</td>\n",
              "      <td>24.759</td>\n",
              "      <td>24.314</td>\n",
              "      <td>24.507</td>\n",
              "      <td>8897</td>\n",
              "      <td>0</td>\n",
              "    </tr>\n",
              "    <tr>\n",
              "      <th>3</th>\n",
              "      <td>2010-07-26</td>\n",
              "      <td>24.624</td>\n",
              "      <td>24.624</td>\n",
              "      <td>24.449</td>\n",
              "      <td>24.595</td>\n",
              "      <td>19443</td>\n",
              "      <td>0</td>\n",
              "    </tr>\n",
              "    <tr>\n",
              "      <th>4</th>\n",
              "      <td>2010-07-27</td>\n",
              "      <td>24.477</td>\n",
              "      <td>24.517</td>\n",
              "      <td>24.431</td>\n",
              "      <td>24.517</td>\n",
              "      <td>8456</td>\n",
              "      <td>0</td>\n",
              "    </tr>\n",
              "  </tbody>\n",
              "</table>\n",
              "</div>"
            ],
            "text/plain": [
              "         Date    Open    High     Low   Close  Volume  OpenInt\n",
              "0  2010-07-21  24.333  24.333  23.946  23.946   43321        0\n",
              "1  2010-07-22  24.644  24.644  24.362  24.487   18031        0\n",
              "2  2010-07-23  24.759  24.759  24.314  24.507    8897        0\n",
              "3  2010-07-26  24.624  24.624  24.449  24.595   19443        0\n",
              "4  2010-07-27  24.477  24.517  24.431  24.517    8456        0"
            ]
          },
          "execution_count": 5,
          "metadata": {},
          "output_type": "execute_result"
        }
      ],
      "source": [
        "stock_df.head()"
      ]
    },
    {
      "cell_type": "code",
      "execution_count": null,
      "metadata": {
        "id": "drfqrHXfJec_"
      },
      "outputs": [],
      "source": [
        "# Eliminación de variables con poca relevancia"
      ]
    },
    {
      "cell_type": "code",
      "execution_count": null,
      "metadata": {
        "id": "mIE6bI_cJec_"
      },
      "outputs": [],
      "source": [
        "stock_df.drop(columns=['Date'], inplace=True)"
      ]
    },
    {
      "cell_type": "code",
      "execution_count": null,
      "metadata": {
        "id": "H-CgttndJec_",
        "outputId": "de95392b-df1c-4b08-bf46-2d7b804e9b69"
      },
      "outputs": [
        {
          "data": {
            "text/html": [
              "<div>\n",
              "<style scoped>\n",
              "    .dataframe tbody tr th:only-of-type {\n",
              "        vertical-align: middle;\n",
              "    }\n",
              "\n",
              "    .dataframe tbody tr th {\n",
              "        vertical-align: top;\n",
              "    }\n",
              "\n",
              "    .dataframe thead th {\n",
              "        text-align: right;\n",
              "    }\n",
              "</style>\n",
              "<table border=\"1\" class=\"dataframe\">\n",
              "  <thead>\n",
              "    <tr style=\"text-align: right;\">\n",
              "      <th></th>\n",
              "      <th>Open</th>\n",
              "      <th>High</th>\n",
              "      <th>Low</th>\n",
              "      <th>Close</th>\n",
              "      <th>Volume</th>\n",
              "      <th>OpenInt</th>\n",
              "    </tr>\n",
              "  </thead>\n",
              "  <tbody>\n",
              "    <tr>\n",
              "      <th>0</th>\n",
              "      <td>24.333</td>\n",
              "      <td>24.333</td>\n",
              "      <td>23.946</td>\n",
              "      <td>23.946</td>\n",
              "      <td>43321</td>\n",
              "      <td>0</td>\n",
              "    </tr>\n",
              "  </tbody>\n",
              "</table>\n",
              "</div>"
            ],
            "text/plain": [
              "     Open    High     Low   Close  Volume  OpenInt\n",
              "0  24.333  24.333  23.946  23.946   43321        0"
            ]
          },
          "execution_count": 8,
          "metadata": {},
          "output_type": "execute_result"
        }
      ],
      "source": [
        "stock_df.head(1)"
      ]
    },
    {
      "cell_type": "code",
      "execution_count": null,
      "metadata": {
        "id": "uoBxcZ0-JedA"
      },
      "outputs": [],
      "source": [
        "first_column = stock_df.pop('Close')"
      ]
    },
    {
      "cell_type": "code",
      "execution_count": null,
      "metadata": {
        "id": "uhU9rE_uJedA"
      },
      "outputs": [],
      "source": [
        "stock_df.insert(0, 'Close', first_column)"
      ]
    },
    {
      "cell_type": "code",
      "execution_count": null,
      "metadata": {
        "id": "Du7vkfgRJedA",
        "outputId": "e71bcc3e-591d-4c80-91c5-10f4cf82fd3d"
      },
      "outputs": [
        {
          "data": {
            "text/html": [
              "<div>\n",
              "<style scoped>\n",
              "    .dataframe tbody tr th:only-of-type {\n",
              "        vertical-align: middle;\n",
              "    }\n",
              "\n",
              "    .dataframe tbody tr th {\n",
              "        vertical-align: top;\n",
              "    }\n",
              "\n",
              "    .dataframe thead th {\n",
              "        text-align: right;\n",
              "    }\n",
              "</style>\n",
              "<table border=\"1\" class=\"dataframe\">\n",
              "  <thead>\n",
              "    <tr style=\"text-align: right;\">\n",
              "      <th></th>\n",
              "      <th>Close</th>\n",
              "      <th>Open</th>\n",
              "      <th>High</th>\n",
              "      <th>Low</th>\n",
              "      <th>Volume</th>\n",
              "      <th>OpenInt</th>\n",
              "    </tr>\n",
              "  </thead>\n",
              "  <tbody>\n",
              "    <tr>\n",
              "      <th>0</th>\n",
              "      <td>23.946</td>\n",
              "      <td>24.333</td>\n",
              "      <td>24.333</td>\n",
              "      <td>23.946</td>\n",
              "      <td>43321</td>\n",
              "      <td>0</td>\n",
              "    </tr>\n",
              "  </tbody>\n",
              "</table>\n",
              "</div>"
            ],
            "text/plain": [
              "    Close    Open    High     Low  Volume  OpenInt\n",
              "0  23.946  24.333  24.333  23.946   43321        0"
            ]
          },
          "execution_count": 11,
          "metadata": {},
          "output_type": "execute_result"
        }
      ],
      "source": [
        "stock_df.head(1)"
      ]
    },
    {
      "cell_type": "code",
      "execution_count": null,
      "metadata": {
        "id": "4290LgmMJedB"
      },
      "outputs": [],
      "source": [
        "X, y= stock_df.iloc[:,1], stock_df.iloc[:,0]"
      ]
    },
    {
      "cell_type": "code",
      "execution_count": null,
      "metadata": {
        "id": "MFNyhzoVJedF",
        "outputId": "e9c2ed68-c7f2-4119-9e1c-8a3ebe2c1d3a"
      },
      "outputs": [
        {
          "data": {
            "text/plain": [
              "0       24.333\n",
              "1       24.644\n",
              "2       24.759\n",
              "3       24.624\n",
              "4       24.477\n",
              "         ...  \n",
              "1560    57.610\n",
              "1561    57.290\n",
              "1562    57.310\n",
              "1563    57.230\n",
              "1564    56.960\n",
              "Name: Open, Length: 1565, dtype: float64"
            ]
          },
          "execution_count": 13,
          "metadata": {},
          "output_type": "execute_result"
        }
      ],
      "source": [
        "X"
      ]
    },
    {
      "cell_type": "code",
      "execution_count": null,
      "metadata": {
        "id": "1iEpvDNAJedF",
        "outputId": "b8748185-8353-47a3-f9d2-0b078534343e"
      },
      "outputs": [
        {
          "data": {
            "text/plain": [
              "0       23.9460\n",
              "1       24.4870\n",
              "2       24.5070\n",
              "3       24.5950\n",
              "4       24.5170\n",
              "         ...   \n",
              "1560    57.6500\n",
              "1561    57.2850\n",
              "1562    57.4900\n",
              "1563    56.9265\n",
              "1564    56.4000\n",
              "Name: Close, Length: 1565, dtype: float64"
            ]
          },
          "execution_count": 14,
          "metadata": {},
          "output_type": "execute_result"
        }
      ],
      "source": [
        "y"
      ]
    },
    {
      "cell_type": "code",
      "execution_count": null,
      "metadata": {
        "id": "Z9wso2yLJedG",
        "outputId": "83322587-cf56-4cfd-f54d-17fae2b04406"
      },
      "outputs": [
        {
          "data": {
            "text/plain": [
              "1565"
            ]
          },
          "execution_count": 15,
          "metadata": {},
          "output_type": "execute_result"
        }
      ],
      "source": [
        "len(X)"
      ]
    },
    {
      "cell_type": "code",
      "execution_count": null,
      "metadata": {
        "id": "BhFMubspJedG",
        "outputId": "2ad6e3c0-08c8-4a43-a385-f4a677195449"
      },
      "outputs": [
        {
          "name": "stdout",
          "output_type": "stream",
          "text": [
            "1252\n",
            "313\n",
            "True\n"
          ]
        }
      ],
      "source": [
        "# Train and test split\n",
        "num_training = int(0.8 * len(X))\n",
        "print(num_training)\n",
        "num_test = int(0.2 * len(X))\n",
        "print(num_test)\n",
        "print (num_training + num_test == len(X))"
      ]
    },
    {
      "cell_type": "code",
      "execution_count": null,
      "metadata": {
        "id": "Z7k77yCJJedH"
      },
      "outputs": [],
      "source": [
        "# Training data\n",
        "X_train, y_train = X[:num_training], y[:num_training]\n",
        "# Test data\n",
        "X_test, y_test = X[num_training:], y[num_training:]\n"
      ]
    },
    {
      "cell_type": "code",
      "execution_count": null,
      "metadata": {
        "id": "yztrF1h_JedI"
      },
      "outputs": [],
      "source": [
        "# Create linear regressor object\n",
        "regressor = linear_model.LinearRegression()"
      ]
    },
    {
      "cell_type": "code",
      "execution_count": null,
      "metadata": {
        "id": "U6S7S-cdJedI"
      },
      "outputs": [],
      "source": [
        "X_train = np.array(X_train)\n",
        "y_train = np.array(y_train)\n",
        "X_test = np.array(X_test)\n",
        "y_test = np.array(y_test)"
      ]
    },
    {
      "cell_type": "code",
      "execution_count": null,
      "metadata": {
        "id": "da0pMKKEJedJ"
      },
      "outputs": [],
      "source": [
        "X_train = X_train.reshape(-1, 1)\n",
        "y_train = y_train.reshape(-1, 1)\n",
        "X_test = X_test.reshape(-1, 1)\n",
        "y_test = y_test.reshape(-1, 1)"
      ]
    },
    {
      "cell_type": "code",
      "execution_count": null,
      "metadata": {
        "id": "aj03N94aJedJ",
        "outputId": "fcff0a33-6761-457c-9de5-717dcdd61790"
      },
      "outputs": [
        {
          "data": {
            "text/plain": [
              "LinearRegression()"
            ]
          },
          "execution_count": 21,
          "metadata": {},
          "output_type": "execute_result"
        }
      ],
      "source": [
        "# Train the model using the training sets\n",
        "regressor.fit(X_train, y_train)"
      ]
    },
    {
      "cell_type": "code",
      "execution_count": null,
      "metadata": {
        "id": "LIIe2KAeJedJ",
        "outputId": "15f63011-928d-459c-bc77-faf3f5590d09"
      },
      "outputs": [
        {
          "data": {
            "text/plain": [
              "(1252, 1)"
            ]
          },
          "execution_count": 22,
          "metadata": {},
          "output_type": "execute_result"
        }
      ],
      "source": [
        "y_train.shape"
      ]
    },
    {
      "cell_type": "code",
      "execution_count": null,
      "metadata": {
        "id": "8KJogbd8JedJ"
      },
      "outputs": [],
      "source": [
        "# Predict the output\n",
        "y_test_pred = regressor.predict(X_test)"
      ]
    },
    {
      "cell_type": "code",
      "execution_count": null,
      "metadata": {
        "id": "2kBGfsxDJedK",
        "outputId": "db7063e2-4895-45ec-d081-0717e5238e44"
      },
      "outputs": [
        {
          "data": {
            "image/png": "[encoded data removed]",
            "text/plain": [
              "<Figure size 432x288 with 1 Axes>"
            ]
          },
          "metadata": {},
          "output_type": "display_data"
        }
      ],
      "source": [
        "# Plot outputs\n",
        "plt.scatter(X_test, y_test, color='green')\n",
        "plt.plot(X_test, y_test_pred, color='red', linewidth=2)\n",
        "plt.xticks(())\n",
        "plt.yticks(())\n",
        "plt.show()"
      ]
    },
    {
      "cell_type": "markdown",
      "metadata": {
        "id": "QOWV1XB0JedK"
      },
      "source": [
        "### Métricas de precisión"
      ]
    },
    {
      "cell_type": "code",
      "execution_count": null,
      "metadata": {
        "id": "Y2BOtZQ0JedK",
        "outputId": "a8f6530c-bf20-4863-ffc8-c36100522ecb"
      },
      "outputs": [
        {
          "name": "stdout",
          "output_type": "stream",
          "text": [
            "\n",
            "***Métircas de precisión***\n",
            "\n",
            "Linear regressor performance:\n",
            "Mean absolute error = 0.32\n",
            "Mean squared error = 0.18\n",
            "Median absolute error = 0.26\n",
            "Explain variance score = 0.99\n",
            "R2 score = 0.99\n"
          ]
        }
      ],
      "source": [
        "# Compute performance metrics\n",
        "print(\"\\n***Métircas de precisión***\")\n",
        "print(\"\\nLinear regressor performance:\")\n",
        "print(\"Mean absolute error =\", round(sm.mean_absolute_error(y_test, y_test_pred), 2))\n",
        "print(\"Mean squared error =\", round(sm.mean_squared_error(y_test, y_test_pred), 2))\n",
        "print(\"Median absolute error =\", round(sm.median_absolute_error(y_test, y_test_pred), 2))\n",
        "print(\"Explain variance score =\", round(sm.explained_variance_score(y_test, y_test_pred), 2))\n",
        "print(\"R2 score =\", round(sm.r2_score(y_test, y_test_pred), 2))"
      ]
    },
    {
      "cell_type": "markdown",
      "metadata": {
        "id": "0r746cv5JedK"
      },
      "source": [
        "### Guardar el modelo para futuras predicciones"
      ]
    },
    {
      "cell_type": "code",
      "execution_count": null,
      "metadata": {
        "id": "gjF6Xj-xJedL"
      },
      "outputs": [],
      "source": [
        "# Model persistence\n",
        "output_model_file = 'model.pkl'"
      ]
    },
    {
      "cell_type": "code",
      "execution_count": null,
      "metadata": {
        "id": "P3evmSb-JedL"
      },
      "outputs": [],
      "source": [
        "# Save the model\n",
        "with open(output_model_file, 'wb') as f:\n",
        "    pickle.dump(regressor, f)"
      ]
    },
    {
      "cell_type": "code",
      "execution_count": null,
      "metadata": {
        "id": "l6FC6XhsJedL"
      },
      "outputs": [],
      "source": [
        "# Load the model\n",
        "with open(output_model_file, 'rb') as f:\n",
        "    regressor_model = pickle.load(f)\n"
      ]
    },
    {
      "cell_type": "markdown",
      "metadata": {
        "id": "3y0v-W_uJedM"
      },
      "source": [
        "### Predicción con el modelo guardado"
      ]
    },
    {
      "cell_type": "code",
      "execution_count": null,
      "metadata": {
        "id": "GegLSQ54JedM",
        "outputId": "ba7e6ac4-10c3-42b5-9109-d4933b3a3c6d"
      },
      "outputs": [
        {
          "data": {
            "text/plain": [
              "(313, 1)"
            ]
          },
          "execution_count": 52,
          "metadata": {},
          "output_type": "execute_result"
        }
      ],
      "source": [
        "X_test.shape"
      ]
    },
    {
      "cell_type": "code",
      "execution_count": null,
      "metadata": {
        "id": "Xk1l6urwJedM",
        "outputId": "eeaafd93-9bfb-47a0-d895-beb6f908259e"
      },
      "outputs": [
        {
          "name": "stdout",
          "output_type": "stream",
          "text": [
            "\n",
            "A partir de precio Close: [40.612] la predicción de precio stock Open es de: [40.55189212]\n",
            "\n",
            "New mean absolute error = 0.32\n"
          ]
        }
      ],
      "source": [
        "# Perform prediction on test data\n",
        "y_test_pred_new = regressor_model.predict(X_test)\n",
        "print('\\nA partir de precio Close:',X_test[0],'la predicción de precio stock Open es de:',y_test_pred_new[0])\n",
        "\n",
        "print(\"\\nNew mean absolute error =\", round(sm.mean_absolute_error(y_test, y_test_pred_new), 2))\n"
      ]
    },
    {
      "cell_type": "markdown",
      "metadata": {
        "id": "bq8_bDSXJedM"
      },
      "source": [
        "# SVM REGRESSOR"
      ]
    },
    {
      "cell_type": "code",
      "execution_count": null,
      "metadata": {
        "id": "1ZFNCXpKJedM"
      },
      "outputs": [],
      "source": [
        "# Se realiza el SVM Regressor con el mismo dataset anterior para\n",
        "# evidenciar las diferencias entre ambas técnicas"
      ]
    },
    {
      "cell_type": "code",
      "execution_count": null,
      "metadata": {
        "id": "PtEhZLjwJedN"
      },
      "outputs": [],
      "source": [
        "import numpy as np\n",
        "from sklearn import datasets\n",
        "from sklearn.svm import SVR\n",
        "from sklearn.metrics import mean_squared_error, explained_variance_score\n",
        "from sklearn.utils import shuffle"
      ]
    },
    {
      "cell_type": "code",
      "execution_count": null,
      "metadata": {
        "id": "6QgkqtC9JedN"
      },
      "outputs": [],
      "source": [
        "sv_regressor = SVR(kernel='linear', C=1.0, epsilon=0.1)"
      ]
    },
    {
      "cell_type": "code",
      "execution_count": null,
      "metadata": {
        "id": "NhD8VHh1JedN",
        "outputId": "96dc95f1-7e2a-4edc-9f49-cb7c89ee8edb"
      },
      "outputs": [
        {
          "name": "stderr",
          "output_type": "stream",
          "text": [
            "C:\\ProgramData\\Anaconda3\\lib\\site-packages\\sklearn\\utils\\validation.py:72: DataConversionWarning: A column-vector y was passed when a 1d array was expected. Please change the shape of y to (n_samples, ), for example using ravel().\n",
            "  return f(**kwargs)\n"
          ]
        },
        {
          "data": {
            "text/plain": [
              "SVR(kernel='linear')"
            ]
          },
          "execution_count": 44,
          "metadata": {},
          "output_type": "execute_result"
        }
      ],
      "source": [
        "# Train Support Vector Regressor\n",
        "sv_regressor.fit(X_train, y_train)"
      ]
    },
    {
      "cell_type": "code",
      "execution_count": null,
      "metadata": {
        "id": "gi36uffyJedN",
        "outputId": "65a7f10e-f136-46ea-a3bb-639d3a06a718"
      },
      "outputs": [
        {
          "name": "stdout",
          "output_type": "stream",
          "text": [
            "\n",
            "#### Performance ####\n",
            "Mean squared error = 0.18\n",
            "Explained variance score = 0.99\n"
          ]
        }
      ],
      "source": [
        "# Evaluate performance of Support Vector Regressor\n",
        "y_test_pred = sv_regressor.predict(X_test)\n",
        "mse = mean_squared_error(y_test, y_test_pred)\n",
        "evs = explained_variance_score(y_test, y_test_pred)\n",
        "print(\"\\n#### Performance ####\")\n",
        "print(\"Mean squared error =\", round(mse, 2))\n",
        "print(\"Explained variance score =\", round(evs, 2))"
      ]
    },
    {
      "cell_type": "code",
      "execution_count": null,
      "metadata": {
        "id": "y0bPAhtRJedN",
        "outputId": "19bf50d8-f67f-4bae-e26b-3691eb513b81"
      },
      "outputs": [
        {
          "name": "stdout",
          "output_type": "stream",
          "text": [
            "\n",
            "A partir de precio Close: [40.612] la predicción de precio stock Open es de: [40.55189212]\n"
          ]
        }
      ],
      "source": [
        "# Test the regressor on test datapoint\n",
        "test_data = [40.612]\n",
        "print('\\nA partir de precio Close:',X_test[0],'la predicción de precio stock Open es de:',y_test_pred_new[0])\n"
      ]
    },
    {
      "cell_type": "markdown",
      "metadata": {
        "id": "YjsikJIJJedO"
      },
      "source": [
        "# Conclusiones"
      ]
    },
    {
      "cell_type": "markdown",
      "metadata": {
        "id": "rb1VyMw-JedO"
      },
      "source": [
        "1. Se determina que SVM Classifier es una tecnica de predicción para tareas de clasificación que logra predección con escasa precisión una variable target, además que el costo computacional de la creación de un classifier es alto si no se normaliza los datos.\n",
        "\n",
        "2. Se concluye que la utlización de un encoder es necesario para el proceso de SVM Classifier, puesto que permite transformar variables categóricas a numéricas. Adicionalmente, se debe decodificar estas variables para demostrar la efectividad de la predicción.\n",
        "\n",
        "1. Se concluye que para predicciones numéricas, tanto la técnica de Regresión lineal simple y SVM Regressor efectúan un eficiente desempeño e identico lo cual se evidencia en las métricas de precisión y en la predicción con el mismo dato de prueba."
      ]
    },
    {
      "cell_type": "markdown",
      "metadata": {
        "id": "83g5ORhEJedO"
      },
      "source": [
        "# Bibliografía"
      ]
    },
    {
      "cell_type": "markdown",
      "metadata": {
        "id": "yCo8zxPxJedO"
      },
      "source": [
        "1. Polynomial Regression in Python using scikit-learn (with example). (2021, November 16). Data36. https://data36.com/polynomial-regression-python-scikit-learn/\n",
        "\n",
        "1. Find Open Datasets and Machine Learning Projects | Kaggle. (2022). Kaggle.com. https://www.kaggle.com/datasets?tags=13404-Logistic+Regression\n",
        "\n",
        "1. 1.4. Support Vector Machines. (2022). Scikit-Learn. https://scikit-learn.org/stable/modules/svm.html\n",
        "\n"
      ]
    }
  ],
  "metadata": {
    "kernelspec": {
      "display_name": "Python 3",
      "language": "python",
      "name": "python3"
    },
    "language_info": {
      "codemirror_mode": {
        "name": "ipython",
        "version": 3
      },
      "file_extension": ".py",
      "mimetype": "text/x-python",
      "name": "python",
      "nbconvert_exporter": "python",
      "pygments_lexer": "ipython3",
      "version": "3.8.5"
    },
    "colab": {
      "provenance": [],
      "include_colab_link": true
    }
  },
  "nbformat": 4,
  "nbformat_minor": 0
}