{
  "cells": [
    {
      "cell_type": "markdown",
      "metadata": {
        "id": "view-in-github",
        "colab_type": "text"
      },
      "source": [
        "<a href=\"https://colab.research.google.com/github/ferjozsot23/machine-learning/blob/main/Feature_selection_pynb.ipynb\" target=\"_parent\"><img src=\"https://colab.research.google.com/assets/colab-badge.svg\" alt=\"Open In Colab\"/></a>"
      ]
    },
    {
      "cell_type": "markdown",
      "metadata": {
        "id": "Etms43gSAC4O"
      },
      "source": [
        "Fernando José Soto Jácome"
      ]
    },
    {
      "cell_type": "markdown",
      "metadata": {
        "id": "Z6oEU9_vAC4Q"
      },
      "source": [
        "# Objetivos\n",
        "1. Comprender la importancia de la relevancia de las variables de un dataset con la variable target\n",
        "1. Seleccionar las características más importantes a través de tres métodos"
      ]
    },
    {
      "cell_type": "markdown",
      "metadata": {
        "id": "mfeV9AxAAC4R"
      },
      "source": [
        "# Introducción\n",
        "La selección de características es un paso fundamental para el proceso de creación de un modelo de aprendizaje autónomo ya que no solo tiene un gran impacto en el rendimiento del programa, sino que permite lograr predicciones más acertadas basandose en las variables previamente seleccionadas.\n",
        "\n",
        "En este paso, se eliman variables que no representan un valor significativo para el modelo. Dentro de este enfoque, variables redundantes e irrelevantes son eliminadas. La manera en como se llega a determinar el grado de importancia es mediante diferentes métodos que permiten descartar o prevalecer características."
      ]
    },
    {
      "cell_type": "markdown",
      "metadata": {
        "id": "gdA0ZrWkAC4S"
      },
      "source": [
        "# Ejercicios presentados"
      ]
    },
    {
      "cell_type": "code",
      "execution_count": null,
      "metadata": {
        "id": "zCf25HlBAC4T"
      },
      "outputs": [],
      "source": [
        "import pandas as pd\n",
        "from sklearn.ensemble import ExtraTreesRegressor\n",
        "import numpy as np\n",
        "import matplotlib.pyplot as plt"
      ]
    },
    {
      "cell_type": "code",
      "execution_count": null,
      "metadata": {
        "id": "3itSRdLZAC4W",
        "outputId": "740ae28a-8f40-4e42-a1a6-0c639d0bfa71"
      },
      "outputs": [
        {
          "data": {
            "text/html": [
              "<div>\n",
              "<style scoped>\n",
              "    .dataframe tbody tr th:only-of-type {\n",
              "        vertical-align: middle;\n",
              "    }\n",
              "\n",
              "    .dataframe tbody tr th {\n",
              "        vertical-align: top;\n",
              "    }\n",
              "\n",
              "    .dataframe thead th {\n",
              "        text-align: right;\n",
              "    }\n",
              "</style>\n",
              "<table border=\"1\" class=\"dataframe\">\n",
              "  <thead>\n",
              "    <tr style=\"text-align: right;\">\n",
              "      <th></th>\n",
              "      <th>Date</th>\n",
              "      <th>Configuration</th>\n",
              "      <th>Customer Postcode</th>\n",
              "      <th>Store Postcode</th>\n",
              "      <th>Retail Price</th>\n",
              "      <th>Screen Size (Inches)</th>\n",
              "      <th>Battery Life (Hours)</th>\n",
              "      <th>RAM (GB)</th>\n",
              "      <th>Processor Speeds (GHz)</th>\n",
              "      <th>Integrated Wireless?</th>\n",
              "      <th>HD Size (GB)</th>\n",
              "      <th>Bundled Applications?</th>\n",
              "      <th>customer X</th>\n",
              "      <th>customer Y</th>\n",
              "      <th>store X</th>\n",
              "      <th>store Y</th>\n",
              "    </tr>\n",
              "  </thead>\n",
              "  <tbody>\n",
              "    <tr>\n",
              "      <th>0</th>\n",
              "      <td>1/1/2008 0:01</td>\n",
              "      <td>163</td>\n",
              "      <td>EC4V 5BH</td>\n",
              "      <td>SE1 2BN</td>\n",
              "      <td>455.0</td>\n",
              "      <td>15</td>\n",
              "      <td>5</td>\n",
              "      <td>1</td>\n",
              "      <td>2.0</td>\n",
              "      <td>Yes</td>\n",
              "      <td>80</td>\n",
              "      <td>Yes</td>\n",
              "      <td>532041</td>\n",
              "      <td>180995</td>\n",
              "      <td>534057.0</td>\n",
              "      <td>179682.0</td>\n",
              "    </tr>\n",
              "    <tr>\n",
              "      <th>1</th>\n",
              "      <td>1/1/2008 0:02</td>\n",
              "      <td>320</td>\n",
              "      <td>SW4 0JL</td>\n",
              "      <td>SW12 9HD</td>\n",
              "      <td>545.0</td>\n",
              "      <td>15</td>\n",
              "      <td>6</td>\n",
              "      <td>1</td>\n",
              "      <td>2.0</td>\n",
              "      <td>No</td>\n",
              "      <td>300</td>\n",
              "      <td>No</td>\n",
              "      <td>529240</td>\n",
              "      <td>175537</td>\n",
              "      <td>528739.0</td>\n",
              "      <td>173080.0</td>\n",
              "    </tr>\n",
              "    <tr>\n",
              "      <th>2</th>\n",
              "      <td>1/1/2008 0:04</td>\n",
              "      <td>23</td>\n",
              "      <td>EC3V 1LR</td>\n",
              "      <td>E2 0RY</td>\n",
              "      <td>515.0</td>\n",
              "      <td>15</td>\n",
              "      <td>4</td>\n",
              "      <td>1</td>\n",
              "      <td>2.0</td>\n",
              "      <td>Yes</td>\n",
              "      <td>300</td>\n",
              "      <td>Yes</td>\n",
              "      <td>533095</td>\n",
              "      <td>181047</td>\n",
              "      <td>535652.0</td>\n",
              "      <td>182961.0</td>\n",
              "    </tr>\n",
              "    <tr>\n",
              "      <th>3</th>\n",
              "      <td>1/1/2008 0:04</td>\n",
              "      <td>169</td>\n",
              "      <td>SW1P 3AU</td>\n",
              "      <td>SE1 2BN</td>\n",
              "      <td>395.0</td>\n",
              "      <td>15</td>\n",
              "      <td>5</td>\n",
              "      <td>1</td>\n",
              "      <td>2.0</td>\n",
              "      <td>No</td>\n",
              "      <td>40</td>\n",
              "      <td>Yes</td>\n",
              "      <td>529902</td>\n",
              "      <td>179641</td>\n",
              "      <td>534057.0</td>\n",
              "      <td>179682.0</td>\n",
              "    </tr>\n",
              "    <tr>\n",
              "      <th>4</th>\n",
              "      <td>1/1/2008 0:06</td>\n",
              "      <td>365</td>\n",
              "      <td>EC4V 4EG</td>\n",
              "      <td>SW1V 4QQ</td>\n",
              "      <td>585.0</td>\n",
              "      <td>15</td>\n",
              "      <td>6</td>\n",
              "      <td>2</td>\n",
              "      <td>2.0</td>\n",
              "      <td>No</td>\n",
              "      <td>120</td>\n",
              "      <td>Yes</td>\n",
              "      <td>531684</td>\n",
              "      <td>180948</td>\n",
              "      <td>528924.0</td>\n",
              "      <td>178440.0</td>\n",
              "    </tr>\n",
              "  </tbody>\n",
              "</table>\n",
              "</div>"
            ],
            "text/plain": [
              "            Date  Configuration Customer Postcode Store Postcode  \\\n",
              "0  1/1/2008 0:01            163          EC4V 5BH        SE1 2BN   \n",
              "1  1/1/2008 0:02            320           SW4 0JL       SW12 9HD   \n",
              "2  1/1/2008 0:04             23          EC3V 1LR         E2 0RY   \n",
              "3  1/1/2008 0:04            169          SW1P 3AU        SE1 2BN   \n",
              "4  1/1/2008 0:06            365          EC4V 4EG       SW1V 4QQ   \n",
              "\n",
              "   Retail Price  Screen Size (Inches)  Battery Life (Hours)  RAM (GB)  \\\n",
              "0         455.0                    15                     5         1   \n",
              "1         545.0                    15                     6         1   \n",
              "2         515.0                    15                     4         1   \n",
              "3         395.0                    15                     5         1   \n",
              "4         585.0                    15                     6         2   \n",
              "\n",
              "   Processor Speeds (GHz) Integrated Wireless?  HD Size (GB)  \\\n",
              "0                     2.0                  Yes            80   \n",
              "1                     2.0                   No           300   \n",
              "2                     2.0                  Yes           300   \n",
              "3                     2.0                   No            40   \n",
              "4                     2.0                   No           120   \n",
              "\n",
              "  Bundled Applications?  customer X  customer Y   store X   store Y  \n",
              "0                   Yes      532041      180995  534057.0  179682.0  \n",
              "1                    No      529240      175537  528739.0  173080.0  \n",
              "2                   Yes      533095      181047  535652.0  182961.0  \n",
              "3                   Yes      529902      179641  534057.0  179682.0  \n",
              "4                   Yes      531684      180948  528924.0  178440.0  "
            ]
          },
          "execution_count": 56,
          "metadata": {},
          "output_type": "execute_result"
        }
      ],
      "source": [
        "data = pd.read_csv(\"LaptopSales.csv\")\n",
        "data.head()"
      ]
    },
    {
      "cell_type": "markdown",
      "metadata": {
        "id": "GoV1vPynAC4Y"
      },
      "source": [
        "## Importancia de la característica"
      ]
    },
    {
      "cell_type": "code",
      "execution_count": null,
      "metadata": {
        "id": "bZ_S3KfLAC4Z",
        "outputId": "fc7a5a82-4180-4ca9-be52-dceca4f866f3"
      },
      "outputs": [
        {
          "data": {
            "text/plain": [
              "(283787, 16)"
            ]
          },
          "execution_count": 75,
          "metadata": {},
          "output_type": "execute_result"
        }
      ],
      "source": [
        "data.shape"
      ]
    },
    {
      "cell_type": "code",
      "execution_count": null,
      "metadata": {
        "id": "Gzb0GZ0GAC4Z"
      },
      "outputs": [],
      "source": [
        "data = data.rename(columns={'Retail Price': 'Price'})"
      ]
    },
    {
      "cell_type": "code",
      "execution_count": null,
      "metadata": {
        "id": "p3fPQBrrAC4Z"
      },
      "outputs": [],
      "source": [
        "X = data.iloc[:,5:10]   # independent columns\n",
        "y = data.iloc[:]['Price']    # target feature es High Bid"
      ]
    },
    {
      "cell_type": "code",
      "execution_count": null,
      "metadata": {
        "id": "4riCYPH_AC4a",
        "outputId": "342f3561-30e0-4e71-f24a-b92287a856f5"
      },
      "outputs": [
        {
          "data": {
            "text/html": [
              "<div>\n",
              "<style scoped>\n",
              "    .dataframe tbody tr th:only-of-type {\n",
              "        vertical-align: middle;\n",
              "    }\n",
              "\n",
              "    .dataframe tbody tr th {\n",
              "        vertical-align: top;\n",
              "    }\n",
              "\n",
              "    .dataframe thead th {\n",
              "        text-align: right;\n",
              "    }\n",
              "</style>\n",
              "<table border=\"1\" class=\"dataframe\">\n",
              "  <thead>\n",
              "    <tr style=\"text-align: right;\">\n",
              "      <th></th>\n",
              "      <th>Screen Size (Inches)</th>\n",
              "      <th>Battery Life (Hours)</th>\n",
              "      <th>RAM (GB)</th>\n",
              "      <th>Processor Speeds (GHz)</th>\n",
              "      <th>HD Size (GB)</th>\n",
              "    </tr>\n",
              "  </thead>\n",
              "  <tbody>\n",
              "    <tr>\n",
              "      <th>0</th>\n",
              "      <td>15</td>\n",
              "      <td>5</td>\n",
              "      <td>1</td>\n",
              "      <td>2.0</td>\n",
              "      <td>80</td>\n",
              "    </tr>\n",
              "    <tr>\n",
              "      <th>1</th>\n",
              "      <td>15</td>\n",
              "      <td>6</td>\n",
              "      <td>1</td>\n",
              "      <td>2.0</td>\n",
              "      <td>300</td>\n",
              "    </tr>\n",
              "    <tr>\n",
              "      <th>2</th>\n",
              "      <td>15</td>\n",
              "      <td>4</td>\n",
              "      <td>1</td>\n",
              "      <td>2.0</td>\n",
              "      <td>300</td>\n",
              "    </tr>\n",
              "    <tr>\n",
              "      <th>3</th>\n",
              "      <td>15</td>\n",
              "      <td>5</td>\n",
              "      <td>1</td>\n",
              "      <td>2.0</td>\n",
              "      <td>40</td>\n",
              "    </tr>\n",
              "    <tr>\n",
              "      <th>4</th>\n",
              "      <td>15</td>\n",
              "      <td>6</td>\n",
              "      <td>2</td>\n",
              "      <td>2.0</td>\n",
              "      <td>120</td>\n",
              "    </tr>\n",
              "    <tr>\n",
              "      <th>...</th>\n",
              "      <td>...</td>\n",
              "      <td>...</td>\n",
              "      <td>...</td>\n",
              "      <td>...</td>\n",
              "      <td>...</td>\n",
              "    </tr>\n",
              "    <tr>\n",
              "      <th>297567</th>\n",
              "      <td>17</td>\n",
              "      <td>5</td>\n",
              "      <td>4</td>\n",
              "      <td>2.0</td>\n",
              "      <td>300</td>\n",
              "    </tr>\n",
              "    <tr>\n",
              "      <th>297568</th>\n",
              "      <td>17</td>\n",
              "      <td>6</td>\n",
              "      <td>1</td>\n",
              "      <td>1.5</td>\n",
              "      <td>80</td>\n",
              "    </tr>\n",
              "    <tr>\n",
              "      <th>297569</th>\n",
              "      <td>15</td>\n",
              "      <td>6</td>\n",
              "      <td>2</td>\n",
              "      <td>2.4</td>\n",
              "      <td>300</td>\n",
              "    </tr>\n",
              "    <tr>\n",
              "      <th>297570</th>\n",
              "      <td>15</td>\n",
              "      <td>4</td>\n",
              "      <td>4</td>\n",
              "      <td>1.5</td>\n",
              "      <td>120</td>\n",
              "    </tr>\n",
              "    <tr>\n",
              "      <th>297571</th>\n",
              "      <td>15</td>\n",
              "      <td>6</td>\n",
              "      <td>2</td>\n",
              "      <td>1.5</td>\n",
              "      <td>300</td>\n",
              "    </tr>\n",
              "  </tbody>\n",
              "</table>\n",
              "<p>297572 rows × 5 columns</p>\n",
              "</div>"
            ],
            "text/plain": [
              "        Screen Size (Inches)  Battery Life (Hours)  RAM (GB)  \\\n",
              "0                         15                     5         1   \n",
              "1                         15                     6         1   \n",
              "2                         15                     4         1   \n",
              "3                         15                     5         1   \n",
              "4                         15                     6         2   \n",
              "...                      ...                   ...       ...   \n",
              "297567                    17                     5         4   \n",
              "297568                    17                     6         1   \n",
              "297569                    15                     6         2   \n",
              "297570                    15                     4         4   \n",
              "297571                    15                     6         2   \n",
              "\n",
              "        Processor Speeds (GHz)  HD Size (GB)  \n",
              "0                          2.0            80  \n",
              "1                          2.0           300  \n",
              "2                          2.0           300  \n",
              "3                          2.0            40  \n",
              "4                          2.0           120  \n",
              "...                        ...           ...  \n",
              "297567                     2.0           300  \n",
              "297568                     1.5            80  \n",
              "297569                     2.4           300  \n",
              "297570                     1.5           120  \n",
              "297571                     1.5           300  \n",
              "\n",
              "[297572 rows x 5 columns]"
            ]
          },
          "execution_count": 22,
          "metadata": {},
          "output_type": "execute_result"
        }
      ],
      "source": [
        "X"
      ]
    },
    {
      "cell_type": "code",
      "execution_count": null,
      "metadata": {
        "id": "abnUkn1kAC4a",
        "outputId": "c6d7abb3-2940-48cd-b26f-e41010e9847f"
      },
      "outputs": [
        {
          "data": {
            "text/plain": [
              "0         455.0\n",
              "1         545.0\n",
              "2         515.0\n",
              "3         395.0\n",
              "4         585.0\n",
              "          ...  \n",
              "297567      NaN\n",
              "297568    392.0\n",
              "297569    441.0\n",
              "297570    406.0\n",
              "297571    530.0\n",
              "Name: Price, Length: 297572, dtype: float64"
            ]
          },
          "execution_count": 23,
          "metadata": {},
          "output_type": "execute_result"
        }
      ],
      "source": [
        "y"
      ]
    },
    {
      "cell_type": "code",
      "execution_count": null,
      "metadata": {
        "id": "gWmPgRcHAC4a",
        "outputId": "3e5e5701-f008-464b-9309-77973a7ab395"
      },
      "outputs": [
        {
          "data": {
            "text/plain": [
              "Screen Size (Inches)        int64\n",
              "Battery Life (Hours)        int64\n",
              "RAM (GB)                    int64\n",
              "Processor Speeds (GHz)    float64\n",
              "HD Size (GB)                int64\n",
              "dtype: object"
            ]
          },
          "execution_count": 27,
          "metadata": {},
          "output_type": "execute_result"
        }
      ],
      "source": [
        "data.iloc[:,5:10].dtypes"
      ]
    },
    {
      "cell_type": "code",
      "execution_count": null,
      "metadata": {
        "id": "uBMRD1VyAC4b",
        "outputId": "f6c18cbd-8349-4cfc-c636-75e59ba92836"
      },
      "outputs": [
        {
          "data": {
            "text/html": [
              "<div>\n",
              "<style scoped>\n",
              "    .dataframe tbody tr th:only-of-type {\n",
              "        vertical-align: middle;\n",
              "    }\n",
              "\n",
              "    .dataframe tbody tr th {\n",
              "        vertical-align: top;\n",
              "    }\n",
              "\n",
              "    .dataframe thead th {\n",
              "        text-align: right;\n",
              "    }\n",
              "</style>\n",
              "<table border=\"1\" class=\"dataframe\">\n",
              "  <thead>\n",
              "    <tr style=\"text-align: right;\">\n",
              "      <th></th>\n",
              "      <th>Date</th>\n",
              "      <th>Configuration</th>\n",
              "      <th>Customer Postcode</th>\n",
              "      <th>Store Postcode</th>\n",
              "      <th>Price</th>\n",
              "      <th>Screen Size (Inches)</th>\n",
              "      <th>Battery Life (Hours)</th>\n",
              "      <th>RAM (GB)</th>\n",
              "      <th>Processor Speeds (GHz)</th>\n",
              "      <th>HD Size (GB)</th>\n",
              "      <th>Bundled Applications?</th>\n",
              "      <th>customer X</th>\n",
              "      <th>customer Y</th>\n",
              "      <th>store X</th>\n",
              "      <th>store Y</th>\n",
              "      <th>Wireless_Yes</th>\n",
              "    </tr>\n",
              "  </thead>\n",
              "  <tbody>\n",
              "    <tr>\n",
              "      <th>0</th>\n",
              "      <td>1/1/2008 0:01</td>\n",
              "      <td>163</td>\n",
              "      <td>EC4V 5BH</td>\n",
              "      <td>SE1 2BN</td>\n",
              "      <td>455.0</td>\n",
              "      <td>15</td>\n",
              "      <td>5</td>\n",
              "      <td>1</td>\n",
              "      <td>2.0</td>\n",
              "      <td>80</td>\n",
              "      <td>Yes</td>\n",
              "      <td>532041</td>\n",
              "      <td>180995</td>\n",
              "      <td>534057.0</td>\n",
              "      <td>179682.0</td>\n",
              "      <td>1</td>\n",
              "    </tr>\n",
              "    <tr>\n",
              "      <th>1</th>\n",
              "      <td>1/1/2008 0:02</td>\n",
              "      <td>320</td>\n",
              "      <td>SW4 0JL</td>\n",
              "      <td>SW12 9HD</td>\n",
              "      <td>545.0</td>\n",
              "      <td>15</td>\n",
              "      <td>6</td>\n",
              "      <td>1</td>\n",
              "      <td>2.0</td>\n",
              "      <td>300</td>\n",
              "      <td>No</td>\n",
              "      <td>529240</td>\n",
              "      <td>175537</td>\n",
              "      <td>528739.0</td>\n",
              "      <td>173080.0</td>\n",
              "      <td>0</td>\n",
              "    </tr>\n",
              "    <tr>\n",
              "      <th>2</th>\n",
              "      <td>1/1/2008 0:04</td>\n",
              "      <td>23</td>\n",
              "      <td>EC3V 1LR</td>\n",
              "      <td>E2 0RY</td>\n",
              "      <td>515.0</td>\n",
              "      <td>15</td>\n",
              "      <td>4</td>\n",
              "      <td>1</td>\n",
              "      <td>2.0</td>\n",
              "      <td>300</td>\n",
              "      <td>Yes</td>\n",
              "      <td>533095</td>\n",
              "      <td>181047</td>\n",
              "      <td>535652.0</td>\n",
              "      <td>182961.0</td>\n",
              "      <td>1</td>\n",
              "    </tr>\n",
              "    <tr>\n",
              "      <th>3</th>\n",
              "      <td>1/1/2008 0:04</td>\n",
              "      <td>169</td>\n",
              "      <td>SW1P 3AU</td>\n",
              "      <td>SE1 2BN</td>\n",
              "      <td>395.0</td>\n",
              "      <td>15</td>\n",
              "      <td>5</td>\n",
              "      <td>1</td>\n",
              "      <td>2.0</td>\n",
              "      <td>40</td>\n",
              "      <td>Yes</td>\n",
              "      <td>529902</td>\n",
              "      <td>179641</td>\n",
              "      <td>534057.0</td>\n",
              "      <td>179682.0</td>\n",
              "      <td>0</td>\n",
              "    </tr>\n",
              "    <tr>\n",
              "      <th>4</th>\n",
              "      <td>1/1/2008 0:06</td>\n",
              "      <td>365</td>\n",
              "      <td>EC4V 4EG</td>\n",
              "      <td>SW1V 4QQ</td>\n",
              "      <td>585.0</td>\n",
              "      <td>15</td>\n",
              "      <td>6</td>\n",
              "      <td>2</td>\n",
              "      <td>2.0</td>\n",
              "      <td>120</td>\n",
              "      <td>Yes</td>\n",
              "      <td>531684</td>\n",
              "      <td>180948</td>\n",
              "      <td>528924.0</td>\n",
              "      <td>178440.0</td>\n",
              "      <td>0</td>\n",
              "    </tr>\n",
              "    <tr>\n",
              "      <th>...</th>\n",
              "      <td>...</td>\n",
              "      <td>...</td>\n",
              "      <td>...</td>\n",
              "      <td>...</td>\n",
              "      <td>...</td>\n",
              "      <td>...</td>\n",
              "      <td>...</td>\n",
              "      <td>...</td>\n",
              "      <td>...</td>\n",
              "      <td>...</td>\n",
              "      <td>...</td>\n",
              "      <td>...</td>\n",
              "      <td>...</td>\n",
              "      <td>...</td>\n",
              "      <td>...</td>\n",
              "      <td>...</td>\n",
              "    </tr>\n",
              "    <tr>\n",
              "      <th>297566</th>\n",
              "      <td>12/30/2008 23:54</td>\n",
              "      <td>854</td>\n",
              "      <td>SW19 3NW</td>\n",
              "      <td>SW12 9HD</td>\n",
              "      <td>780.0</td>\n",
              "      <td>17</td>\n",
              "      <td>6</td>\n",
              "      <td>4</td>\n",
              "      <td>2.4</td>\n",
              "      <td>120</td>\n",
              "      <td>No</td>\n",
              "      <td>524772</td>\n",
              "      <td>169692</td>\n",
              "      <td>528739.0</td>\n",
              "      <td>173080.0</td>\n",
              "      <td>1</td>\n",
              "    </tr>\n",
              "    <tr>\n",
              "      <th>297568</th>\n",
              "      <td>12/30/2008 23:55</td>\n",
              "      <td>731</td>\n",
              "      <td>N13 4JD</td>\n",
              "      <td>N3 1DH</td>\n",
              "      <td>392.0</td>\n",
              "      <td>17</td>\n",
              "      <td>6</td>\n",
              "      <td>1</td>\n",
              "      <td>1.5</td>\n",
              "      <td>80</td>\n",
              "      <td>Yes</td>\n",
              "      <td>531165</td>\n",
              "      <td>192973</td>\n",
              "      <td>525109.0</td>\n",
              "      <td>190628.0</td>\n",
              "      <td>0</td>\n",
              "    </tr>\n",
              "    <tr>\n",
              "      <th>297569</th>\n",
              "      <td>12/30/2008 23:57</td>\n",
              "      <td>375</td>\n",
              "      <td>SE25 6EF</td>\n",
              "      <td>CR7 8LE</td>\n",
              "      <td>441.0</td>\n",
              "      <td>15</td>\n",
              "      <td>6</td>\n",
              "      <td>2</td>\n",
              "      <td>2.4</td>\n",
              "      <td>300</td>\n",
              "      <td>Yes</td>\n",
              "      <td>534086</td>\n",
              "      <td>168521</td>\n",
              "      <td>532714.0</td>\n",
              "      <td>168302.0</td>\n",
              "      <td>1</td>\n",
              "    </tr>\n",
              "    <tr>\n",
              "      <th>297570</th>\n",
              "      <td>12/30/2008 23:58</td>\n",
              "      <td>101</td>\n",
              "      <td>SW8 1LA</td>\n",
              "      <td>SW1P 3AU</td>\n",
              "      <td>406.0</td>\n",
              "      <td>15</td>\n",
              "      <td>4</td>\n",
              "      <td>4</td>\n",
              "      <td>1.5</td>\n",
              "      <td>120</td>\n",
              "      <td>Yes</td>\n",
              "      <td>530716</td>\n",
              "      <td>177488</td>\n",
              "      <td>529902.0</td>\n",
              "      <td>179641.0</td>\n",
              "      <td>1</td>\n",
              "    </tr>\n",
              "    <tr>\n",
              "      <th>297571</th>\n",
              "      <td>12/30/2008 23:58</td>\n",
              "      <td>343</td>\n",
              "      <td>SE16 4QZ</td>\n",
              "      <td>SE8 3JD</td>\n",
              "      <td>530.0</td>\n",
              "      <td>15</td>\n",
              "      <td>6</td>\n",
              "      <td>2</td>\n",
              "      <td>1.5</td>\n",
              "      <td>300</td>\n",
              "      <td>Yes</td>\n",
              "      <td>534348</td>\n",
              "      <td>179162</td>\n",
              "      <td>537175.0</td>\n",
              "      <td>177885.0</td>\n",
              "      <td>1</td>\n",
              "    </tr>\n",
              "  </tbody>\n",
              "</table>\n",
              "<p>283787 rows × 16 columns</p>\n",
              "</div>"
            ],
            "text/plain": [
              "                    Date  Configuration Customer Postcode Store Postcode  \\\n",
              "0          1/1/2008 0:01            163          EC4V 5BH        SE1 2BN   \n",
              "1          1/1/2008 0:02            320           SW4 0JL       SW12 9HD   \n",
              "2          1/1/2008 0:04             23          EC3V 1LR         E2 0RY   \n",
              "3          1/1/2008 0:04            169          SW1P 3AU        SE1 2BN   \n",
              "4          1/1/2008 0:06            365          EC4V 4EG       SW1V 4QQ   \n",
              "...                  ...            ...               ...            ...   \n",
              "297566  12/30/2008 23:54            854          SW19 3NW       SW12 9HD   \n",
              "297568  12/30/2008 23:55            731           N13 4JD         N3 1DH   \n",
              "297569  12/30/2008 23:57            375          SE25 6EF        CR7 8LE   \n",
              "297570  12/30/2008 23:58            101           SW8 1LA       SW1P 3AU   \n",
              "297571  12/30/2008 23:58            343          SE16 4QZ        SE8 3JD   \n",
              "\n",
              "        Price  Screen Size (Inches)  Battery Life (Hours)  RAM (GB)  \\\n",
              "0       455.0                    15                     5         1   \n",
              "1       545.0                    15                     6         1   \n",
              "2       515.0                    15                     4         1   \n",
              "3       395.0                    15                     5         1   \n",
              "4       585.0                    15                     6         2   \n",
              "...       ...                   ...                   ...       ...   \n",
              "297566  780.0                    17                     6         4   \n",
              "297568  392.0                    17                     6         1   \n",
              "297569  441.0                    15                     6         2   \n",
              "297570  406.0                    15                     4         4   \n",
              "297571  530.0                    15                     6         2   \n",
              "\n",
              "        Processor Speeds (GHz)  HD Size (GB) Bundled Applications?  \\\n",
              "0                          2.0            80                   Yes   \n",
              "1                          2.0           300                    No   \n",
              "2                          2.0           300                   Yes   \n",
              "3                          2.0            40                   Yes   \n",
              "4                          2.0           120                   Yes   \n",
              "...                        ...           ...                   ...   \n",
              "297566                     2.4           120                    No   \n",
              "297568                     1.5            80                   Yes   \n",
              "297569                     2.4           300                   Yes   \n",
              "297570                     1.5           120                   Yes   \n",
              "297571                     1.5           300                   Yes   \n",
              "\n",
              "        customer X  customer Y   store X   store Y  Wireless_Yes  \n",
              "0           532041      180995  534057.0  179682.0             1  \n",
              "1           529240      175537  528739.0  173080.0             0  \n",
              "2           533095      181047  535652.0  182961.0             1  \n",
              "3           529902      179641  534057.0  179682.0             0  \n",
              "4           531684      180948  528924.0  178440.0             0  \n",
              "...            ...         ...       ...       ...           ...  \n",
              "297566      524772      169692  528739.0  173080.0             1  \n",
              "297568      531165      192973  525109.0  190628.0             0  \n",
              "297569      534086      168521  532714.0  168302.0             1  \n",
              "297570      530716      177488  529902.0  179641.0             1  \n",
              "297571      534348      179162  537175.0  177885.0             1  \n",
              "\n",
              "[283787 rows x 16 columns]"
            ]
          },
          "execution_count": 34,
          "metadata": {},
          "output_type": "execute_result"
        }
      ],
      "source": [
        "data.dropna()"
      ]
    },
    {
      "cell_type": "code",
      "execution_count": null,
      "metadata": {
        "id": "QtER4L8nAC4b"
      },
      "outputs": [],
      "source": [
        "data.replace([np.inf, -np.inf], np.nan, inplace=True)"
      ]
    },
    {
      "cell_type": "code",
      "execution_count": null,
      "metadata": {
        "id": "y6LAZjVcAC4c"
      },
      "outputs": [],
      "source": [
        "data = data.dropna()"
      ]
    },
    {
      "cell_type": "code",
      "execution_count": null,
      "metadata": {
        "id": "hEgGI21bAC4c",
        "outputId": "dccc3b2c-fa07-4ff2-c467-dfcf64c3808f"
      },
      "outputs": [
        {
          "name": "stdout",
          "output_type": "stream",
          "text": [
            "[0.21662732 0.16223376 0.38773106 0.06057864 0.17282922]\n"
          ]
        }
      ],
      "source": [
        "model = ExtraTreesRegressor()\n",
        "model.fit(X,y)\n",
        "print(model.feature_importances_) #use inbuilt class"
      ]
    },
    {
      "cell_type": "code",
      "execution_count": null,
      "metadata": {
        "id": "P5X-FJL2AC4d",
        "outputId": "9c757123-8889-4abf-eaf8-52d9609f5f00"
      },
      "outputs": [
        {
          "data": {
            "image/png": "[encoded data removed]",
            "text/plain": [
              "<Figure size 432x288 with 1 Axes>"
            ]
          },
          "metadata": {
            "needs_background": "light"
          },
          "output_type": "display_data"
        }
      ],
      "source": [
        "#feature_importances of tree based classifiers\n",
        "#plot graph of feature importances for better visualization\n",
        "feat_importances = pd.Series(model.feature_importances_, index=X.columns)\n",
        "feat_importances.nlargest(5).plot(kind='barh')\n",
        "plt.show()"
      ]
    },
    {
      "cell_type": "markdown",
      "metadata": {
        "id": "jN-rTlcRAC4d"
      },
      "source": [
        "## Selección univariada"
      ]
    },
    {
      "cell_type": "code",
      "execution_count": null,
      "metadata": {
        "id": "q26g7lqZAC4d"
      },
      "outputs": [],
      "source": [
        "from sklearn.feature_selection import SelectKBest\n",
        "from sklearn.feature_selection import f_regression  ##chi2"
      ]
    },
    {
      "cell_type": "code",
      "execution_count": null,
      "metadata": {
        "id": "9V_juLW3AC4d",
        "outputId": "090b4cf2-f73e-4812-a1a4-c006faec9728"
      },
      "outputs": [
        {
          "data": {
            "text/html": [
              "<div>\n",
              "<style scoped>\n",
              "    .dataframe tbody tr th:only-of-type {\n",
              "        vertical-align: middle;\n",
              "    }\n",
              "\n",
              "    .dataframe tbody tr th {\n",
              "        vertical-align: top;\n",
              "    }\n",
              "\n",
              "    .dataframe thead th {\n",
              "        text-align: right;\n",
              "    }\n",
              "</style>\n",
              "<table border=\"1\" class=\"dataframe\">\n",
              "  <thead>\n",
              "    <tr style=\"text-align: right;\">\n",
              "      <th></th>\n",
              "      <th>Date</th>\n",
              "      <th>Configuration</th>\n",
              "      <th>Customer Postcode</th>\n",
              "      <th>Store Postcode</th>\n",
              "      <th>Retail Price</th>\n",
              "      <th>Screen Size (Inches)</th>\n",
              "      <th>Battery Life (Hours)</th>\n",
              "      <th>RAM (GB)</th>\n",
              "      <th>Processor Speeds (GHz)</th>\n",
              "      <th>Integrated Wireless?</th>\n",
              "      <th>HD Size (GB)</th>\n",
              "      <th>Bundled Applications?</th>\n",
              "      <th>customer X</th>\n",
              "      <th>customer Y</th>\n",
              "      <th>store X</th>\n",
              "      <th>store Y</th>\n",
              "    </tr>\n",
              "  </thead>\n",
              "  <tbody>\n",
              "    <tr>\n",
              "      <th>0</th>\n",
              "      <td>1/1/2008 0:01</td>\n",
              "      <td>163</td>\n",
              "      <td>EC4V 5BH</td>\n",
              "      <td>SE1 2BN</td>\n",
              "      <td>455.0</td>\n",
              "      <td>15</td>\n",
              "      <td>5</td>\n",
              "      <td>1</td>\n",
              "      <td>2.0</td>\n",
              "      <td>Yes</td>\n",
              "      <td>80</td>\n",
              "      <td>Yes</td>\n",
              "      <td>532041</td>\n",
              "      <td>180995</td>\n",
              "      <td>534057.0</td>\n",
              "      <td>179682.0</td>\n",
              "    </tr>\n",
              "    <tr>\n",
              "      <th>1</th>\n",
              "      <td>1/1/2008 0:02</td>\n",
              "      <td>320</td>\n",
              "      <td>SW4 0JL</td>\n",
              "      <td>SW12 9HD</td>\n",
              "      <td>545.0</td>\n",
              "      <td>15</td>\n",
              "      <td>6</td>\n",
              "      <td>1</td>\n",
              "      <td>2.0</td>\n",
              "      <td>No</td>\n",
              "      <td>300</td>\n",
              "      <td>No</td>\n",
              "      <td>529240</td>\n",
              "      <td>175537</td>\n",
              "      <td>528739.0</td>\n",
              "      <td>173080.0</td>\n",
              "    </tr>\n",
              "    <tr>\n",
              "      <th>2</th>\n",
              "      <td>1/1/2008 0:04</td>\n",
              "      <td>23</td>\n",
              "      <td>EC3V 1LR</td>\n",
              "      <td>E2 0RY</td>\n",
              "      <td>515.0</td>\n",
              "      <td>15</td>\n",
              "      <td>4</td>\n",
              "      <td>1</td>\n",
              "      <td>2.0</td>\n",
              "      <td>Yes</td>\n",
              "      <td>300</td>\n",
              "      <td>Yes</td>\n",
              "      <td>533095</td>\n",
              "      <td>181047</td>\n",
              "      <td>535652.0</td>\n",
              "      <td>182961.0</td>\n",
              "    </tr>\n",
              "    <tr>\n",
              "      <th>3</th>\n",
              "      <td>1/1/2008 0:04</td>\n",
              "      <td>169</td>\n",
              "      <td>SW1P 3AU</td>\n",
              "      <td>SE1 2BN</td>\n",
              "      <td>395.0</td>\n",
              "      <td>15</td>\n",
              "      <td>5</td>\n",
              "      <td>1</td>\n",
              "      <td>2.0</td>\n",
              "      <td>No</td>\n",
              "      <td>40</td>\n",
              "      <td>Yes</td>\n",
              "      <td>529902</td>\n",
              "      <td>179641</td>\n",
              "      <td>534057.0</td>\n",
              "      <td>179682.0</td>\n",
              "    </tr>\n",
              "    <tr>\n",
              "      <th>4</th>\n",
              "      <td>1/1/2008 0:06</td>\n",
              "      <td>365</td>\n",
              "      <td>EC4V 4EG</td>\n",
              "      <td>SW1V 4QQ</td>\n",
              "      <td>585.0</td>\n",
              "      <td>15</td>\n",
              "      <td>6</td>\n",
              "      <td>2</td>\n",
              "      <td>2.0</td>\n",
              "      <td>No</td>\n",
              "      <td>120</td>\n",
              "      <td>Yes</td>\n",
              "      <td>531684</td>\n",
              "      <td>180948</td>\n",
              "      <td>528924.0</td>\n",
              "      <td>178440.0</td>\n",
              "    </tr>\n",
              "  </tbody>\n",
              "</table>\n",
              "</div>"
            ],
            "text/plain": [
              "            Date  Configuration Customer Postcode Store Postcode  \\\n",
              "0  1/1/2008 0:01            163          EC4V 5BH        SE1 2BN   \n",
              "1  1/1/2008 0:02            320           SW4 0JL       SW12 9HD   \n",
              "2  1/1/2008 0:04             23          EC3V 1LR         E2 0RY   \n",
              "3  1/1/2008 0:04            169          SW1P 3AU        SE1 2BN   \n",
              "4  1/1/2008 0:06            365          EC4V 4EG       SW1V 4QQ   \n",
              "\n",
              "   Retail Price  Screen Size (Inches)  Battery Life (Hours)  RAM (GB)  \\\n",
              "0         455.0                    15                     5         1   \n",
              "1         545.0                    15                     6         1   \n",
              "2         515.0                    15                     4         1   \n",
              "3         395.0                    15                     5         1   \n",
              "4         585.0                    15                     6         2   \n",
              "\n",
              "   Processor Speeds (GHz) Integrated Wireless?  HD Size (GB)  \\\n",
              "0                     2.0                  Yes            80   \n",
              "1                     2.0                   No           300   \n",
              "2                     2.0                  Yes           300   \n",
              "3                     2.0                   No            40   \n",
              "4                     2.0                   No           120   \n",
              "\n",
              "  Bundled Applications?  customer X  customer Y   store X   store Y  \n",
              "0                   Yes      532041      180995  534057.0  179682.0  \n",
              "1                    No      529240      175537  528739.0  173080.0  \n",
              "2                   Yes      533095      181047  535652.0  182961.0  \n",
              "3                   Yes      529902      179641  534057.0  179682.0  \n",
              "4                   Yes      531684      180948  528924.0  178440.0  "
            ]
          },
          "execution_count": 77,
          "metadata": {},
          "output_type": "execute_result"
        }
      ],
      "source": [
        "data.head()"
      ]
    },
    {
      "cell_type": "code",
      "execution_count": null,
      "metadata": {
        "id": "mp92eOJkAC4e",
        "outputId": "43058d4b-c6a6-4af1-b198-b1f43bbd18f5"
      },
      "outputs": [
        {
          "data": {
            "text/plain": [
              "(283787, 16)"
            ]
          },
          "execution_count": 78,
          "metadata": {},
          "output_type": "execute_result"
        }
      ],
      "source": [
        "data.shape"
      ]
    },
    {
      "cell_type": "code",
      "execution_count": null,
      "metadata": {
        "id": "sWzTYiu8AC4e"
      },
      "outputs": [],
      "source": [
        "X = data.iloc[:,5:10]   # independent columns\n",
        "y = data.iloc[:]['Price']    # target feature es Price"
      ]
    },
    {
      "cell_type": "code",
      "execution_count": null,
      "metadata": {
        "id": "BD6O6E0UAC4e",
        "outputId": "f57da4bd-736f-4dc7-8442-2b3eedb728c3"
      },
      "outputs": [
        {
          "data": {
            "text/html": [
              "<div>\n",
              "<style scoped>\n",
              "    .dataframe tbody tr th:only-of-type {\n",
              "        vertical-align: middle;\n",
              "    }\n",
              "\n",
              "    .dataframe tbody tr th {\n",
              "        vertical-align: top;\n",
              "    }\n",
              "\n",
              "    .dataframe thead th {\n",
              "        text-align: right;\n",
              "    }\n",
              "</style>\n",
              "<table border=\"1\" class=\"dataframe\">\n",
              "  <thead>\n",
              "    <tr style=\"text-align: right;\">\n",
              "      <th></th>\n",
              "      <th>Screen Size (Inches)</th>\n",
              "      <th>Battery Life (Hours)</th>\n",
              "      <th>RAM (GB)</th>\n",
              "      <th>Processor Speeds (GHz)</th>\n",
              "      <th>HD Size (GB)</th>\n",
              "    </tr>\n",
              "  </thead>\n",
              "  <tbody>\n",
              "    <tr>\n",
              "      <th>0</th>\n",
              "      <td>15</td>\n",
              "      <td>5</td>\n",
              "      <td>1</td>\n",
              "      <td>2.0</td>\n",
              "      <td>80</td>\n",
              "    </tr>\n",
              "    <tr>\n",
              "      <th>1</th>\n",
              "      <td>15</td>\n",
              "      <td>6</td>\n",
              "      <td>1</td>\n",
              "      <td>2.0</td>\n",
              "      <td>300</td>\n",
              "    </tr>\n",
              "    <tr>\n",
              "      <th>2</th>\n",
              "      <td>15</td>\n",
              "      <td>4</td>\n",
              "      <td>1</td>\n",
              "      <td>2.0</td>\n",
              "      <td>300</td>\n",
              "    </tr>\n",
              "    <tr>\n",
              "      <th>3</th>\n",
              "      <td>15</td>\n",
              "      <td>5</td>\n",
              "      <td>1</td>\n",
              "      <td>2.0</td>\n",
              "      <td>40</td>\n",
              "    </tr>\n",
              "    <tr>\n",
              "      <th>4</th>\n",
              "      <td>15</td>\n",
              "      <td>6</td>\n",
              "      <td>2</td>\n",
              "      <td>2.0</td>\n",
              "      <td>120</td>\n",
              "    </tr>\n",
              "    <tr>\n",
              "      <th>...</th>\n",
              "      <td>...</td>\n",
              "      <td>...</td>\n",
              "      <td>...</td>\n",
              "      <td>...</td>\n",
              "      <td>...</td>\n",
              "    </tr>\n",
              "    <tr>\n",
              "      <th>297566</th>\n",
              "      <td>17</td>\n",
              "      <td>6</td>\n",
              "      <td>4</td>\n",
              "      <td>2.4</td>\n",
              "      <td>120</td>\n",
              "    </tr>\n",
              "    <tr>\n",
              "      <th>297568</th>\n",
              "      <td>17</td>\n",
              "      <td>6</td>\n",
              "      <td>1</td>\n",
              "      <td>1.5</td>\n",
              "      <td>80</td>\n",
              "    </tr>\n",
              "    <tr>\n",
              "      <th>297569</th>\n",
              "      <td>15</td>\n",
              "      <td>6</td>\n",
              "      <td>2</td>\n",
              "      <td>2.4</td>\n",
              "      <td>300</td>\n",
              "    </tr>\n",
              "    <tr>\n",
              "      <th>297570</th>\n",
              "      <td>15</td>\n",
              "      <td>4</td>\n",
              "      <td>4</td>\n",
              "      <td>1.5</td>\n",
              "      <td>120</td>\n",
              "    </tr>\n",
              "    <tr>\n",
              "      <th>297571</th>\n",
              "      <td>15</td>\n",
              "      <td>6</td>\n",
              "      <td>2</td>\n",
              "      <td>1.5</td>\n",
              "      <td>300</td>\n",
              "    </tr>\n",
              "  </tbody>\n",
              "</table>\n",
              "<p>283787 rows × 5 columns</p>\n",
              "</div>"
            ],
            "text/plain": [
              "        Screen Size (Inches)  Battery Life (Hours)  RAM (GB)  \\\n",
              "0                         15                     5         1   \n",
              "1                         15                     6         1   \n",
              "2                         15                     4         1   \n",
              "3                         15                     5         1   \n",
              "4                         15                     6         2   \n",
              "...                      ...                   ...       ...   \n",
              "297566                    17                     6         4   \n",
              "297568                    17                     6         1   \n",
              "297569                    15                     6         2   \n",
              "297570                    15                     4         4   \n",
              "297571                    15                     6         2   \n",
              "\n",
              "        Processor Speeds (GHz)  HD Size (GB)  \n",
              "0                          2.0            80  \n",
              "1                          2.0           300  \n",
              "2                          2.0           300  \n",
              "3                          2.0            40  \n",
              "4                          2.0           120  \n",
              "...                        ...           ...  \n",
              "297566                     2.4           120  \n",
              "297568                     1.5            80  \n",
              "297569                     2.4           300  \n",
              "297570                     1.5           120  \n",
              "297571                     1.5           300  \n",
              "\n",
              "[283787 rows x 5 columns]"
            ]
          },
          "execution_count": 84,
          "metadata": {},
          "output_type": "execute_result"
        }
      ],
      "source": [
        "X"
      ]
    },
    {
      "cell_type": "code",
      "execution_count": null,
      "metadata": {
        "id": "7AKY3FwiAC4f",
        "outputId": "a5c9f4be-0ad1-4dc4-e9c4-9a9c153a7c30"
      },
      "outputs": [
        {
          "data": {
            "text/plain": [
              "0         455.0\n",
              "1         545.0\n",
              "2         515.0\n",
              "3         395.0\n",
              "4         585.0\n",
              "          ...  \n",
              "297566    780.0\n",
              "297568    392.0\n",
              "297569    441.0\n",
              "297570    406.0\n",
              "297571    530.0\n",
              "Name: Price, Length: 283787, dtype: float64"
            ]
          },
          "execution_count": 85,
          "metadata": {},
          "output_type": "execute_result"
        }
      ],
      "source": [
        "y"
      ]
    },
    {
      "cell_type": "code",
      "execution_count": null,
      "metadata": {
        "id": "JZrAyfXpAC4f",
        "outputId": "657d6089-af96-4bcb-b9a0-df2931cc5cd0"
      },
      "outputs": [
        {
          "name": "stdout",
          "output_type": "stream",
          "text": [
            "                    specs         score\n",
            "2                RAM (GB)  90197.702146\n",
            "0    Screen Size (Inches)  50075.863551\n",
            "4            HD Size (GB)  18472.514536\n",
            "1    Battery Life (Hours)  15999.261411\n",
            "3  Processor Speeds (GHz)  10964.154993\n"
          ]
        }
      ],
      "source": [
        "#apply SelectKBest class to extract top k best features, para todas: k='all'\n",
        "#bestfeatures = SelectKBest(score_func=chi2, k=5)\n",
        "bestfeatures = SelectKBest(score_func=f_regression, k=5)\n",
        "fit = bestfeatures.fit(X,y)\n",
        "dfscores = pd.DataFrame(fit.scores_)\n",
        "dfcolumns = pd.DataFrame(X.columns)\n",
        "scores = pd.concat([dfcolumns,dfscores],axis=1)\n",
        "scores.columns = ['specs','score']\n",
        "print(scores.nlargest(8,'score'))"
      ]
    },
    {
      "cell_type": "markdown",
      "metadata": {
        "id": "i3rLZRpIAC4f"
      },
      "source": [
        "##  Matriz de correlación con mapa de calor"
      ]
    },
    {
      "cell_type": "code",
      "execution_count": null,
      "metadata": {
        "id": "lP-vLhLDAC4f"
      },
      "outputs": [],
      "source": [
        "import pandas as pd\n",
        "import numpy as np\n",
        "import seaborn as sns\n",
        "import matplotlib.pyplot as plt"
      ]
    },
    {
      "cell_type": "code",
      "execution_count": null,
      "metadata": {
        "id": "zf3vaE81AC4g"
      },
      "outputs": [],
      "source": [
        "X = data.iloc[:,5:10]   # independent columns\n",
        "y = data.iloc[:]['Price']    # target feature es Price"
      ]
    },
    {
      "cell_type": "code",
      "execution_count": null,
      "metadata": {
        "id": "j3AMdKjvAC4g",
        "outputId": "98ce2043-8818-43c3-b411-f6334c64b239"
      },
      "outputs": [
        {
          "data": {
            "text/html": [
              "<div>\n",
              "<style scoped>\n",
              "    .dataframe tbody tr th:only-of-type {\n",
              "        vertical-align: middle;\n",
              "    }\n",
              "\n",
              "    .dataframe tbody tr th {\n",
              "        vertical-align: top;\n",
              "    }\n",
              "\n",
              "    .dataframe thead th {\n",
              "        text-align: right;\n",
              "    }\n",
              "</style>\n",
              "<table border=\"1\" class=\"dataframe\">\n",
              "  <thead>\n",
              "    <tr style=\"text-align: right;\">\n",
              "      <th></th>\n",
              "      <th>Screen Size (Inches)</th>\n",
              "      <th>Battery Life (Hours)</th>\n",
              "      <th>RAM (GB)</th>\n",
              "      <th>Processor Speeds (GHz)</th>\n",
              "      <th>HD Size (GB)</th>\n",
              "    </tr>\n",
              "  </thead>\n",
              "  <tbody>\n",
              "    <tr>\n",
              "      <th>0</th>\n",
              "      <td>15</td>\n",
              "      <td>5</td>\n",
              "      <td>1</td>\n",
              "      <td>2.0</td>\n",
              "      <td>80</td>\n",
              "    </tr>\n",
              "    <tr>\n",
              "      <th>1</th>\n",
              "      <td>15</td>\n",
              "      <td>6</td>\n",
              "      <td>1</td>\n",
              "      <td>2.0</td>\n",
              "      <td>300</td>\n",
              "    </tr>\n",
              "    <tr>\n",
              "      <th>2</th>\n",
              "      <td>15</td>\n",
              "      <td>4</td>\n",
              "      <td>1</td>\n",
              "      <td>2.0</td>\n",
              "      <td>300</td>\n",
              "    </tr>\n",
              "    <tr>\n",
              "      <th>3</th>\n",
              "      <td>15</td>\n",
              "      <td>5</td>\n",
              "      <td>1</td>\n",
              "      <td>2.0</td>\n",
              "      <td>40</td>\n",
              "    </tr>\n",
              "    <tr>\n",
              "      <th>4</th>\n",
              "      <td>15</td>\n",
              "      <td>6</td>\n",
              "      <td>2</td>\n",
              "      <td>2.0</td>\n",
              "      <td>120</td>\n",
              "    </tr>\n",
              "    <tr>\n",
              "      <th>...</th>\n",
              "      <td>...</td>\n",
              "      <td>...</td>\n",
              "      <td>...</td>\n",
              "      <td>...</td>\n",
              "      <td>...</td>\n",
              "    </tr>\n",
              "    <tr>\n",
              "      <th>297567</th>\n",
              "      <td>17</td>\n",
              "      <td>5</td>\n",
              "      <td>4</td>\n",
              "      <td>2.0</td>\n",
              "      <td>300</td>\n",
              "    </tr>\n",
              "    <tr>\n",
              "      <th>297568</th>\n",
              "      <td>17</td>\n",
              "      <td>6</td>\n",
              "      <td>1</td>\n",
              "      <td>1.5</td>\n",
              "      <td>80</td>\n",
              "    </tr>\n",
              "    <tr>\n",
              "      <th>297569</th>\n",
              "      <td>15</td>\n",
              "      <td>6</td>\n",
              "      <td>2</td>\n",
              "      <td>2.4</td>\n",
              "      <td>300</td>\n",
              "    </tr>\n",
              "    <tr>\n",
              "      <th>297570</th>\n",
              "      <td>15</td>\n",
              "      <td>4</td>\n",
              "      <td>4</td>\n",
              "      <td>1.5</td>\n",
              "      <td>120</td>\n",
              "    </tr>\n",
              "    <tr>\n",
              "      <th>297571</th>\n",
              "      <td>15</td>\n",
              "      <td>6</td>\n",
              "      <td>2</td>\n",
              "      <td>1.5</td>\n",
              "      <td>300</td>\n",
              "    </tr>\n",
              "  </tbody>\n",
              "</table>\n",
              "<p>297572 rows × 5 columns</p>\n",
              "</div>"
            ],
            "text/plain": [
              "        Screen Size (Inches)  Battery Life (Hours)  RAM (GB)  \\\n",
              "0                         15                     5         1   \n",
              "1                         15                     6         1   \n",
              "2                         15                     4         1   \n",
              "3                         15                     5         1   \n",
              "4                         15                     6         2   \n",
              "...                      ...                   ...       ...   \n",
              "297567                    17                     5         4   \n",
              "297568                    17                     6         1   \n",
              "297569                    15                     6         2   \n",
              "297570                    15                     4         4   \n",
              "297571                    15                     6         2   \n",
              "\n",
              "        Processor Speeds (GHz)  HD Size (GB)  \n",
              "0                          2.0            80  \n",
              "1                          2.0           300  \n",
              "2                          2.0           300  \n",
              "3                          2.0            40  \n",
              "4                          2.0           120  \n",
              "...                        ...           ...  \n",
              "297567                     2.0           300  \n",
              "297568                     1.5            80  \n",
              "297569                     2.4           300  \n",
              "297570                     1.5           120  \n",
              "297571                     1.5           300  \n",
              "\n",
              "[297572 rows x 5 columns]"
            ]
          },
          "execution_count": 13,
          "metadata": {},
          "output_type": "execute_result"
        }
      ],
      "source": [
        "X"
      ]
    },
    {
      "cell_type": "code",
      "execution_count": null,
      "metadata": {
        "id": "3pYcMCBUAC4g",
        "outputId": "1624cb20-8aea-4564-9288-0a910aeadfcd"
      },
      "outputs": [
        {
          "data": {
            "text/plain": [
              "0         455.0\n",
              "1         545.0\n",
              "2         515.0\n",
              "3         395.0\n",
              "4         585.0\n",
              "          ...  \n",
              "297567      NaN\n",
              "297568    392.0\n",
              "297569    441.0\n",
              "297570    406.0\n",
              "297571    530.0\n",
              "Name: Price, Length: 297572, dtype: float64"
            ]
          },
          "execution_count": 14,
          "metadata": {},
          "output_type": "execute_result"
        }
      ],
      "source": [
        "y"
      ]
    },
    {
      "cell_type": "code",
      "execution_count": null,
      "metadata": {
        "id": "c0DEyPvIAC4g",
        "outputId": "549e78d0-f25e-49d9-c277-707a3a3656bb"
      },
      "outputs": [
        {
          "data": {
            "image/png": "[encoded data removed]",
            "text/plain": [
              "<Figure size 1440x1440 with 2 Axes>"
            ]
          },
          "metadata": {
            "needs_background": "light"
          },
          "output_type": "display_data"
        }
      ],
      "source": [
        "#get the correlations of each feature in the dataset\n",
        "correlation_matrix = data.corr()\n",
        "top_corr_features = correlation_matrix.index\n",
        "plt.figure(figsize=(20,20))\n",
        "#plot heat map\n",
        "g=sns.heatmap(data[top_corr_features].corr(),annot=True,cmap=\"YlGnBu\")"
      ]
    },
    {
      "cell_type": "markdown",
      "metadata": {
        "id": "MmTT7a1vAC4h"
      },
      "source": [
        "# Conclusiones"
      ]
    },
    {
      "cell_type": "markdown",
      "metadata": {
        "id": "FS6s-wkGAC4h"
      },
      "source": [
        "1. Se concluye que la selección de caracterísiticas permite determinar aquellas variables más relevantes dentro de un data frame\n",
        "1. Se determina que los tres métodos logran seleccionar las características más relevantes"
      ]
    },
    {
      "cell_type": "markdown",
      "metadata": {
        "id": "ft35PJOJAC4h"
      },
      "source": [
        "# Bibliografía"
      ]
    },
    {
      "cell_type": "markdown",
      "metadata": {
        "id": "IdeYIUNzAC4h"
      },
      "source": [
        "Gupta, A. (10 de Octubre de 2020). eature Selection Techniques in Machine Learning. Obtenido de https://www.analyticsvidhya.com/blog/2020/10/feature-selection-techniques-in-machine-learning/\n",
        "\n"
      ]
    }
  ],
  "metadata": {
    "kernelspec": {
      "display_name": "Python 3",
      "language": "python",
      "name": "python3"
    },
    "language_info": {
      "codemirror_mode": {
        "name": "ipython",
        "version": 3
      },
      "file_extension": ".py",
      "mimetype": "text/x-python",
      "name": "python",
      "nbconvert_exporter": "python",
      "pygments_lexer": "ipython3",
      "version": "3.8.5"
    },
    "colab": {
      "provenance": [],
      "include_colab_link": true
    }
  },
  "nbformat": 4,
  "nbformat_minor": 0
}