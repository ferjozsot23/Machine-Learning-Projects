{
  "cells": [
    {
      "cell_type": "markdown",
      "metadata": {
        "id": "view-in-github",
        "colab_type": "text"
      },
      "source": [
        "<a href=\"https://colab.research.google.com/github/ferjozsot23/machine-learning/blob/main/K_Nearest_Neighbors.ipynb\" target=\"_parent\"><img src=\"https://colab.research.google.com/assets/colab-badge.svg\" alt=\"Open In Colab\"/></a>"
      ]
    },
    {
      "cell_type": "markdown",
      "metadata": {
        "id": "Y792mF-fHRIx"
      },
      "source": [
        "Fernando José Soto Jácome"
      ]
    },
    {
      "cell_type": "markdown",
      "metadata": {
        "id": "fkQEsM4jHRI3"
      },
      "source": [
        "# Objetivos\n",
        "1. Utilizar Naïve Bayes como modelo de aprendizaje automático para resolver tareas de clasificación\n",
        "1. Utilizar K-Nearest Neighbors como modelo de clasificación\n",
        "1. Analizar el valor de precisión de cada técnica de clasificación"
      ]
    },
    {
      "cell_type": "markdown",
      "metadata": {
        "id": "_b8o3Fi2HRI5"
      },
      "source": [
        "# Introducción\n",
        "Clasificar una observación se puede lograr analizando sus características propias o también comparándola con otras observaciones similares. Estas son una de las maneras en cómo se puede predecir la pertenencia de una observación a una clase. Afortunadamente, existen métodos y técnicas que nos permite realizar estas predicciones.\n",
        "Por un lado se tiene a Naive Bayes, que analiza las características de una observación y las evalúa independientemente, es decir, que cada feature no influye en el resultado de otro. Por otra parte, la técnica KNN permite fijarse en los vecinos más cercanos de la observación y clasificarlo de manera precisa.\n",
        "\n",
        "En esta práctica se realizará los dos procesos haciendo uso de dos datasets diferentes, los cuales disponen de variables taget con dos o más categorías. Se analizará el proceso para la predicción y los resultados de precisión en cada uno de ellos."
      ]
    },
    {
      "cell_type": "markdown",
      "metadata": {
        "id": "hneWZhlOHRI7"
      },
      "source": [
        "# Ejercicios presentados"
      ]
    },
    {
      "cell_type": "markdown",
      "metadata": {
        "id": "WR4p2qg4HRI9"
      },
      "source": [
        "# Diferencia entre usar un modelo MultinomialNB() y GaussianNB()"
      ]
    },
    {
      "cell_type": "markdown",
      "metadata": {
        "id": "z47WhWmqHRI_"
      },
      "source": [
        "Cada algoritmo de Naïve Bayes (NB) espera diferentes tipos de datos.\n",
        "\n",
        "1. GaussianNB: cuando tiene funciones continuas.\n",
        "1. CategoricalNB: cuando tiene datos categóricos\n",
        "1. MultinomialNB: cuando se aplica a datos de texto.\n",
        "\n",
        "Cuando un dataset contiene características continuas, características categóricas y datos de texto, se debe ajustar las características categóricas en CategoricalNB, las características continuas en GaussianNB y los datos de texto en MultinomialNB."
      ]
    },
    {
      "cell_type": "markdown",
      "metadata": {
        "id": "58U9bQuaHRJA"
      },
      "source": [
        "# Ejercicios Python"
      ]
    },
    {
      "cell_type": "code",
      "execution_count": null,
      "metadata": {
        "id": "a4uWtIzSHRJC"
      },
      "outputs": [],
      "source": [
        "import numpy as np\n",
        "import matplotlib.pyplot as plt\n",
        "from sklearn.naive_bayes import GaussianNB\n",
        "from sklearn.model_selection import train_test_split\n",
        "from sklearn.model_selection import cross_val_score\n",
        "from sklearn.metrics import confusion_matrix, multilabel_confusion_matrix,accuracy_score\n",
        "from sklearn import preprocessing\n",
        "from sklearn.neighbors import NearestNeighbors, KNeighborsClassifier\n",
        "\n",
        "from utilities import visualize_classifier\n",
        "from pathlib import Path\n",
        "\n",
        "import pandas as pd\n",
        "from sklearn.model_selection import train_test_split\n",
        "from sklearn.naive_bayes import MultinomialNB\n",
        "from metric import classificationSummary"
      ]
    },
    {
      "cell_type": "markdown",
      "metadata": {
        "id": "3VIbWZB7HRJE"
      },
      "source": [
        "# Naïve Bayes"
      ]
    },
    {
      "cell_type": "markdown",
      "metadata": {
        "id": "Hy90rx4lHRJF"
      },
      "source": [
        "## Gaussian Naïve Bayes Algorithm"
      ]
    },
    {
      "cell_type": "code",
      "execution_count": null,
      "metadata": {
        "id": "1tG6q9oRHRJF",
        "outputId": "71f5b076-6a95-4fef-b107-fd64c3912981"
      },
      "outputs": [
        {
          "data": {
            "text/html": [
              "<div>\n",
              "<style scoped>\n",
              "    .dataframe tbody tr th:only-of-type {\n",
              "        vertical-align: middle;\n",
              "    }\n",
              "\n",
              "    .dataframe tbody tr th {\n",
              "        vertical-align: top;\n",
              "    }\n",
              "\n",
              "    .dataframe thead th {\n",
              "        text-align: right;\n",
              "    }\n",
              "</style>\n",
              "<table border=\"1\" class=\"dataframe\">\n",
              "  <thead>\n",
              "    <tr style=\"text-align: right;\">\n",
              "      <th></th>\n",
              "      <th>satisfaction</th>\n",
              "      <th>Gender</th>\n",
              "      <th>Customer Type</th>\n",
              "      <th>Age</th>\n",
              "      <th>Type of Travel</th>\n",
              "      <th>Class</th>\n",
              "      <th>Flight Distance</th>\n",
              "      <th>Seat comfort</th>\n",
              "      <th>Departure/Arrival time convenient</th>\n",
              "      <th>Food and drink</th>\n",
              "      <th>...</th>\n",
              "      <th>Online support</th>\n",
              "      <th>Ease of Online booking</th>\n",
              "      <th>On-board service</th>\n",
              "      <th>Leg room service</th>\n",
              "      <th>Baggage handling</th>\n",
              "      <th>Checkin service</th>\n",
              "      <th>Cleanliness</th>\n",
              "      <th>Online boarding</th>\n",
              "      <th>Departure Delay in Minutes</th>\n",
              "      <th>Arrival Delay in Minutes</th>\n",
              "    </tr>\n",
              "  </thead>\n",
              "  <tbody>\n",
              "    <tr>\n",
              "      <th>0</th>\n",
              "      <td>satisfied</td>\n",
              "      <td>Female</td>\n",
              "      <td>Loyal Customer</td>\n",
              "      <td>65</td>\n",
              "      <td>Personal Travel</td>\n",
              "      <td>Eco</td>\n",
              "      <td>265</td>\n",
              "      <td>0</td>\n",
              "      <td>0</td>\n",
              "      <td>0</td>\n",
              "      <td>...</td>\n",
              "      <td>2</td>\n",
              "      <td>3</td>\n",
              "      <td>3</td>\n",
              "      <td>0</td>\n",
              "      <td>3</td>\n",
              "      <td>5</td>\n",
              "      <td>3</td>\n",
              "      <td>2</td>\n",
              "      <td>0</td>\n",
              "      <td>0.0</td>\n",
              "    </tr>\n",
              "    <tr>\n",
              "      <th>1</th>\n",
              "      <td>satisfied</td>\n",
              "      <td>Male</td>\n",
              "      <td>Loyal Customer</td>\n",
              "      <td>47</td>\n",
              "      <td>Personal Travel</td>\n",
              "      <td>Business</td>\n",
              "      <td>2464</td>\n",
              "      <td>0</td>\n",
              "      <td>0</td>\n",
              "      <td>0</td>\n",
              "      <td>...</td>\n",
              "      <td>2</td>\n",
              "      <td>3</td>\n",
              "      <td>4</td>\n",
              "      <td>4</td>\n",
              "      <td>4</td>\n",
              "      <td>2</td>\n",
              "      <td>3</td>\n",
              "      <td>2</td>\n",
              "      <td>310</td>\n",
              "      <td>305.0</td>\n",
              "    </tr>\n",
              "    <tr>\n",
              "      <th>2</th>\n",
              "      <td>satisfied</td>\n",
              "      <td>Female</td>\n",
              "      <td>Loyal Customer</td>\n",
              "      <td>15</td>\n",
              "      <td>Personal Travel</td>\n",
              "      <td>Eco</td>\n",
              "      <td>2138</td>\n",
              "      <td>0</td>\n",
              "      <td>0</td>\n",
              "      <td>0</td>\n",
              "      <td>...</td>\n",
              "      <td>2</td>\n",
              "      <td>2</td>\n",
              "      <td>3</td>\n",
              "      <td>3</td>\n",
              "      <td>4</td>\n",
              "      <td>4</td>\n",
              "      <td>4</td>\n",
              "      <td>2</td>\n",
              "      <td>0</td>\n",
              "      <td>0.0</td>\n",
              "    </tr>\n",
              "    <tr>\n",
              "      <th>3</th>\n",
              "      <td>satisfied</td>\n",
              "      <td>Female</td>\n",
              "      <td>Loyal Customer</td>\n",
              "      <td>60</td>\n",
              "      <td>Personal Travel</td>\n",
              "      <td>Eco</td>\n",
              "      <td>623</td>\n",
              "      <td>0</td>\n",
              "      <td>0</td>\n",
              "      <td>0</td>\n",
              "      <td>...</td>\n",
              "      <td>3</td>\n",
              "      <td>1</td>\n",
              "      <td>1</td>\n",
              "      <td>0</td>\n",
              "      <td>1</td>\n",
              "      <td>4</td>\n",
              "      <td>1</td>\n",
              "      <td>3</td>\n",
              "      <td>0</td>\n",
              "      <td>0.0</td>\n",
              "    </tr>\n",
              "    <tr>\n",
              "      <th>4</th>\n",
              "      <td>satisfied</td>\n",
              "      <td>Female</td>\n",
              "      <td>Loyal Customer</td>\n",
              "      <td>70</td>\n",
              "      <td>Personal Travel</td>\n",
              "      <td>Eco</td>\n",
              "      <td>354</td>\n",
              "      <td>0</td>\n",
              "      <td>0</td>\n",
              "      <td>0</td>\n",
              "      <td>...</td>\n",
              "      <td>4</td>\n",
              "      <td>2</td>\n",
              "      <td>2</td>\n",
              "      <td>0</td>\n",
              "      <td>2</td>\n",
              "      <td>4</td>\n",
              "      <td>2</td>\n",
              "      <td>5</td>\n",
              "      <td>0</td>\n",
              "      <td>0.0</td>\n",
              "    </tr>\n",
              "  </tbody>\n",
              "</table>\n",
              "<p>5 rows × 23 columns</p>\n",
              "</div>"
            ],
            "text/plain": [
              "  satisfaction  Gender   Customer Type  Age   Type of Travel     Class  \\\n",
              "0    satisfied  Female  Loyal Customer   65  Personal Travel       Eco   \n",
              "1    satisfied    Male  Loyal Customer   47  Personal Travel  Business   \n",
              "2    satisfied  Female  Loyal Customer   15  Personal Travel       Eco   \n",
              "3    satisfied  Female  Loyal Customer   60  Personal Travel       Eco   \n",
              "4    satisfied  Female  Loyal Customer   70  Personal Travel       Eco   \n",
              "\n",
              "   Flight Distance  Seat comfort  Departure/Arrival time convenient  \\\n",
              "0              265             0                                  0   \n",
              "1             2464             0                                  0   \n",
              "2             2138             0                                  0   \n",
              "3              623             0                                  0   \n",
              "4              354             0                                  0   \n",
              "\n",
              "   Food and drink  ...  Online support  Ease of Online booking  \\\n",
              "0               0  ...               2                       3   \n",
              "1               0  ...               2                       3   \n",
              "2               0  ...               2                       2   \n",
              "3               0  ...               3                       1   \n",
              "4               0  ...               4                       2   \n",
              "\n",
              "   On-board service  Leg room service  Baggage handling  Checkin service  \\\n",
              "0                 3                 0                 3                5   \n",
              "1                 4                 4                 4                2   \n",
              "2                 3                 3                 4                4   \n",
              "3                 1                 0                 1                4   \n",
              "4                 2                 0                 2                4   \n",
              "\n",
              "   Cleanliness  Online boarding  Departure Delay in Minutes  \\\n",
              "0            3                2                           0   \n",
              "1            3                2                         310   \n",
              "2            4                2                           0   \n",
              "3            1                3                           0   \n",
              "4            2                5                           0   \n",
              "\n",
              "   Arrival Delay in Minutes  \n",
              "0                       0.0  \n",
              "1                     305.0  \n",
              "2                       0.0  \n",
              "3                       0.0  \n",
              "4                       0.0  \n",
              "\n",
              "[5 rows x 23 columns]"
            ]
          },
          "execution_count": 5,
          "metadata": {},
          "output_type": "execute_result"
        }
      ],
      "source": [
        "#Se carga el dataset obtenido de https://www.kaggle.com/datasets/sjleshrac/airlines-customer-satisfaction\n",
        "fly_df = pd.read_csv('Invistico_Airline.csv')\n",
        "fly_df.head()"
      ]
    },
    {
      "cell_type": "code",
      "execution_count": null,
      "metadata": {
        "id": "XOcsh-r9HRJH",
        "outputId": "b87d6aae-c43f-4807-841f-043c3b62d58f"
      },
      "outputs": [
        {
          "data": {
            "text/plain": [
              "satisfaction                          object\n",
              "Gender                                object\n",
              "Customer Type                         object\n",
              "Age                                    int64\n",
              "Type of Travel                        object\n",
              "Class                                 object\n",
              "Flight Distance                        int64\n",
              "Seat comfort                           int64\n",
              "Departure/Arrival time convenient      int64\n",
              "Food and drink                         int64\n",
              "Gate location                          int64\n",
              "Inflight wifi service                  int64\n",
              "Inflight entertainment                 int64\n",
              "Online support                         int64\n",
              "Ease of Online booking                 int64\n",
              "On-board service                       int64\n",
              "Leg room service                       int64\n",
              "Baggage handling                       int64\n",
              "Checkin service                        int64\n",
              "Cleanliness                            int64\n",
              "Online boarding                        int64\n",
              "Departure Delay in Minutes             int64\n",
              "Arrival Delay in Minutes             float64\n",
              "dtype: object"
            ]
          },
          "execution_count": 6,
          "metadata": {},
          "output_type": "execute_result"
        }
      ],
      "source": [
        "fly_df.dtypes"
      ]
    },
    {
      "cell_type": "markdown",
      "metadata": {
        "id": "cX590rbFHRJH"
      },
      "source": [
        "### Future Selection: variables relevantes"
      ]
    },
    {
      "cell_type": "code",
      "execution_count": null,
      "metadata": {
        "id": "7APQdodjHRJI"
      },
      "outputs": [],
      "source": [
        "fly_df.drop(columns=['Type of Travel','Class', 'Customer Type', 'Gender', 'Arrival Delay in Minutes'], inplace=True)"
      ]
    },
    {
      "cell_type": "code",
      "execution_count": null,
      "metadata": {
        "id": "3ANtX-owHRJI",
        "outputId": "45ea6bc8-1a9b-4362-d761-0713232ef6fd"
      },
      "outputs": [
        {
          "data": {
            "text/html": [
              "<div>\n",
              "<style scoped>\n",
              "    .dataframe tbody tr th:only-of-type {\n",
              "        vertical-align: middle;\n",
              "    }\n",
              "\n",
              "    .dataframe tbody tr th {\n",
              "        vertical-align: top;\n",
              "    }\n",
              "\n",
              "    .dataframe thead th {\n",
              "        text-align: right;\n",
              "    }\n",
              "</style>\n",
              "<table border=\"1\" class=\"dataframe\">\n",
              "  <thead>\n",
              "    <tr style=\"text-align: right;\">\n",
              "      <th></th>\n",
              "      <th>satisfaction</th>\n",
              "      <th>Age</th>\n",
              "      <th>Flight Distance</th>\n",
              "      <th>Seat comfort</th>\n",
              "      <th>Departure/Arrival time convenient</th>\n",
              "      <th>Food and drink</th>\n",
              "      <th>Gate location</th>\n",
              "      <th>Inflight wifi service</th>\n",
              "      <th>Inflight entertainment</th>\n",
              "      <th>Online support</th>\n",
              "      <th>Ease of Online booking</th>\n",
              "      <th>On-board service</th>\n",
              "      <th>Leg room service</th>\n",
              "      <th>Baggage handling</th>\n",
              "      <th>Checkin service</th>\n",
              "      <th>Cleanliness</th>\n",
              "      <th>Online boarding</th>\n",
              "      <th>Departure Delay in Minutes</th>\n",
              "    </tr>\n",
              "  </thead>\n",
              "  <tbody>\n",
              "    <tr>\n",
              "      <th>0</th>\n",
              "      <td>satisfied</td>\n",
              "      <td>65</td>\n",
              "      <td>265</td>\n",
              "      <td>0</td>\n",
              "      <td>0</td>\n",
              "      <td>0</td>\n",
              "      <td>2</td>\n",
              "      <td>2</td>\n",
              "      <td>4</td>\n",
              "      <td>2</td>\n",
              "      <td>3</td>\n",
              "      <td>3</td>\n",
              "      <td>0</td>\n",
              "      <td>3</td>\n",
              "      <td>5</td>\n",
              "      <td>3</td>\n",
              "      <td>2</td>\n",
              "      <td>0</td>\n",
              "    </tr>\n",
              "    <tr>\n",
              "      <th>1</th>\n",
              "      <td>satisfied</td>\n",
              "      <td>47</td>\n",
              "      <td>2464</td>\n",
              "      <td>0</td>\n",
              "      <td>0</td>\n",
              "      <td>0</td>\n",
              "      <td>3</td>\n",
              "      <td>0</td>\n",
              "      <td>2</td>\n",
              "      <td>2</td>\n",
              "      <td>3</td>\n",
              "      <td>4</td>\n",
              "      <td>4</td>\n",
              "      <td>4</td>\n",
              "      <td>2</td>\n",
              "      <td>3</td>\n",
              "      <td>2</td>\n",
              "      <td>310</td>\n",
              "    </tr>\n",
              "    <tr>\n",
              "      <th>2</th>\n",
              "      <td>satisfied</td>\n",
              "      <td>15</td>\n",
              "      <td>2138</td>\n",
              "      <td>0</td>\n",
              "      <td>0</td>\n",
              "      <td>0</td>\n",
              "      <td>3</td>\n",
              "      <td>2</td>\n",
              "      <td>0</td>\n",
              "      <td>2</td>\n",
              "      <td>2</td>\n",
              "      <td>3</td>\n",
              "      <td>3</td>\n",
              "      <td>4</td>\n",
              "      <td>4</td>\n",
              "      <td>4</td>\n",
              "      <td>2</td>\n",
              "      <td>0</td>\n",
              "    </tr>\n",
              "    <tr>\n",
              "      <th>3</th>\n",
              "      <td>satisfied</td>\n",
              "      <td>60</td>\n",
              "      <td>623</td>\n",
              "      <td>0</td>\n",
              "      <td>0</td>\n",
              "      <td>0</td>\n",
              "      <td>3</td>\n",
              "      <td>3</td>\n",
              "      <td>4</td>\n",
              "      <td>3</td>\n",
              "      <td>1</td>\n",
              "      <td>1</td>\n",
              "      <td>0</td>\n",
              "      <td>1</td>\n",
              "      <td>4</td>\n",
              "      <td>1</td>\n",
              "      <td>3</td>\n",
              "      <td>0</td>\n",
              "    </tr>\n",
              "    <tr>\n",
              "      <th>4</th>\n",
              "      <td>satisfied</td>\n",
              "      <td>70</td>\n",
              "      <td>354</td>\n",
              "      <td>0</td>\n",
              "      <td>0</td>\n",
              "      <td>0</td>\n",
              "      <td>3</td>\n",
              "      <td>4</td>\n",
              "      <td>3</td>\n",
              "      <td>4</td>\n",
              "      <td>2</td>\n",
              "      <td>2</td>\n",
              "      <td>0</td>\n",
              "      <td>2</td>\n",
              "      <td>4</td>\n",
              "      <td>2</td>\n",
              "      <td>5</td>\n",
              "      <td>0</td>\n",
              "    </tr>\n",
              "  </tbody>\n",
              "</table>\n",
              "</div>"
            ],
            "text/plain": [
              "  satisfaction  Age  Flight Distance  Seat comfort  \\\n",
              "0    satisfied   65              265             0   \n",
              "1    satisfied   47             2464             0   \n",
              "2    satisfied   15             2138             0   \n",
              "3    satisfied   60              623             0   \n",
              "4    satisfied   70              354             0   \n",
              "\n",
              "   Departure/Arrival time convenient  Food and drink  Gate location  \\\n",
              "0                                  0               0              2   \n",
              "1                                  0               0              3   \n",
              "2                                  0               0              3   \n",
              "3                                  0               0              3   \n",
              "4                                  0               0              3   \n",
              "\n",
              "   Inflight wifi service  Inflight entertainment  Online support  \\\n",
              "0                      2                       4               2   \n",
              "1                      0                       2               2   \n",
              "2                      2                       0               2   \n",
              "3                      3                       4               3   \n",
              "4                      4                       3               4   \n",
              "\n",
              "   Ease of Online booking  On-board service  Leg room service  \\\n",
              "0                       3                 3                 0   \n",
              "1                       3                 4                 4   \n",
              "2                       2                 3                 3   \n",
              "3                       1                 1                 0   \n",
              "4                       2                 2                 0   \n",
              "\n",
              "   Baggage handling  Checkin service  Cleanliness  Online boarding  \\\n",
              "0                 3                5            3                2   \n",
              "1                 4                2            3                2   \n",
              "2                 4                4            4                2   \n",
              "3                 1                4            1                3   \n",
              "4                 2                4            2                5   \n",
              "\n",
              "   Departure Delay in Minutes  \n",
              "0                           0  \n",
              "1                         310  \n",
              "2                           0  \n",
              "3                           0  \n",
              "4                           0  "
            ]
          },
          "execution_count": 8,
          "metadata": {},
          "output_type": "execute_result"
        }
      ],
      "source": [
        "fly_df.head()"
      ]
    },
    {
      "cell_type": "code",
      "execution_count": null,
      "metadata": {
        "id": "tBR8J5asHRJI"
      },
      "outputs": [],
      "source": [
        "# Variables predictoras y variable target\n",
        "y = fly_df['satisfaction']\n",
        "X = fly_df.drop(columns=['satisfaction'])"
      ]
    },
    {
      "cell_type": "code",
      "execution_count": null,
      "metadata": {
        "id": "wUk9JExaHRJI"
      },
      "outputs": [],
      "source": [
        "classifier = GaussianNB()"
      ]
    },
    {
      "cell_type": "code",
      "execution_count": null,
      "metadata": {
        "id": "VFZSU8aDHRJJ",
        "outputId": "43616be0-d5ae-4fb3-b9ca-b451881e189f"
      },
      "outputs": [
        {
          "data": {
            "text/plain": [
              "GaussianNB()"
            ]
          },
          "execution_count": 113,
          "metadata": {},
          "output_type": "execute_result"
        }
      ],
      "source": [
        "# Entrenar a classifier\n",
        "classifier.fit(X, y)"
      ]
    },
    {
      "cell_type": "code",
      "execution_count": null,
      "metadata": {
        "id": "EhK1PAHyHRJJ"
      },
      "outputs": [],
      "source": [
        "y_pred = classifier.predict(X)"
      ]
    },
    {
      "cell_type": "code",
      "execution_count": null,
      "metadata": {
        "id": "6N0kOZOaHRJJ",
        "outputId": "20e5fd49-8505-45e5-c429-76214cc1665c"
      },
      "outputs": [
        {
          "name": "stdout",
          "output_type": "stream",
          "text": [
            "Accuracy of Naïve Bayes classifier = 79.23 %\n"
          ]
        }
      ],
      "source": [
        "accuracy = 100.0 * (y == y_pred).sum() / X.shape[0]\n",
        "print(\"Accuracy of Naïve Bayes classifier =\", round(accuracy, 2), \"%\")"
      ]
    },
    {
      "cell_type": "markdown",
      "metadata": {
        "id": "wcSJugdrHRJK"
      },
      "source": [
        "#### Dado que no se hizo split data, el accuracy de Naive Bayes Classifier es bajo, por tanto se realizará la validación cruzada. Dividir los datos en subconjuntos de entrenamiento y prueba"
      ]
    },
    {
      "cell_type": "code",
      "execution_count": null,
      "metadata": {
        "id": "y1ruIWU7HRJO"
      },
      "outputs": [],
      "source": [
        "X_train, X_test, y_train, y_test = train_test_split(X, y, test_size=0.2, random_state=3)\n",
        "\n",
        "classifier_new = GaussianNB()\n",
        "classifier_new.fit(X_train, y_train)\n",
        "\n",
        "y_test_pred = classifier_new.predict(X_test)"
      ]
    },
    {
      "cell_type": "code",
      "execution_count": null,
      "metadata": {
        "id": "XO5JXvTZHRJP",
        "outputId": "8ffa9dc6-89fe-4566-b3f0-df9987287fff"
      },
      "outputs": [
        {
          "name": "stdout",
          "output_type": "stream",
          "text": [
            "Accuracy of the new classifier = 79.3 %\n"
          ]
        }
      ],
      "source": [
        "# compute accuracy of the classifier\n",
        "accuracy = 100.0 * (y_test == y_test_pred).sum() / X_test.shape[0]\n",
        "print(\"Accuracy of the new classifier =\", round(accuracy, 2), \"%\")\n"
      ]
    },
    {
      "cell_type": "markdown",
      "metadata": {
        "id": "GbFWAnKhHRJP"
      },
      "source": [
        "#### El accuracy incrementó después de split data"
      ]
    },
    {
      "cell_type": "code",
      "execution_count": null,
      "metadata": {
        "id": "s7qEa_KRHRJP",
        "outputId": "f98f0474-fef5-47e7-c533-390df115b31d"
      },
      "outputs": [
        {
          "data": {
            "text/plain": [
              "array([[ 8909,  2900],\n",
              "       [ 2477, 11690]], dtype=int64)"
            ]
          },
          "execution_count": 16,
          "metadata": {},
          "output_type": "execute_result"
        }
      ],
      "source": [
        "confusion_matrix(y_test, y_test_pred)"
      ]
    },
    {
      "cell_type": "code",
      "execution_count": null,
      "metadata": {
        "id": "TFRZ5ff-HRJQ",
        "outputId": "b9393b91-fab5-4415-cc21-12437f7e4ef2"
      },
      "outputs": [
        {
          "name": "stdout",
          "output_type": "stream",
          "text": [
            "25976 0 0 0\n"
          ]
        }
      ],
      "source": [
        "# Clase 0\n",
        "MCM_0 = multilabel_confusion_matrix(y_test, y_test_pred, labels=[0])\n",
        "tn, fp, fn, tp = MCM_0.ravel()\n",
        "print(tn, fp, fn, tp)"
      ]
    },
    {
      "cell_type": "code",
      "execution_count": null,
      "metadata": {
        "id": "remiDRcsHRJQ",
        "outputId": "ff957a4c-571e-45be-a00f-654523a91821"
      },
      "outputs": [
        {
          "name": "stdout",
          "output_type": "stream",
          "text": [
            "25976 0 0 0\n"
          ]
        }
      ],
      "source": [
        "# Clase 1\n",
        "MCM_1 = multilabel_confusion_matrix(y_test, y_test_pred, labels=[1])\n",
        "tn, fp, fn, tp = MCM_1.ravel()\n",
        "print(tn, fp, fn, tp)"
      ]
    },
    {
      "cell_type": "code",
      "execution_count": null,
      "metadata": {
        "id": "K3qOBjSnHRJT",
        "outputId": "e421127d-ac02-49e9-acca-69a4117677f5"
      },
      "outputs": [
        {
          "name": "stdout",
          "output_type": "stream",
          "text": [
            "Accuracy: 74.91%\n"
          ]
        }
      ],
      "source": [
        "# Cálculo de accuracy\n",
        "num_folds = 3\n",
        "accuracy_values = cross_val_score(classifier, X, y, scoring='accuracy', cv=num_folds)\n",
        "print(\"Accuracy: \" + str(round(100*accuracy_values.mean(), 2)) + \"%\")"
      ]
    },
    {
      "cell_type": "code",
      "execution_count": null,
      "metadata": {
        "id": "J8cUGaQzHRJX",
        "outputId": "92364ebd-8980-4093-aa15-b91dc6784f6f"
      },
      "outputs": [
        {
          "name": "stdout",
          "output_type": "stream",
          "text": [
            "[0.69295234 0.71277951 0.85726337]\n",
            "Precision: 75.43%\n"
          ]
        }
      ],
      "source": [
        "# Cálculo de precisión\n",
        "precision_values = cross_val_score(classifier, X, y, scoring='precision_weighted', cv=num_folds)\n",
        "print(precision_values)\n",
        "print(\"Precision: \" + str(round(100*precision_values.mean(), 2)) + \"%\")"
      ]
    },
    {
      "cell_type": "code",
      "execution_count": null,
      "metadata": {
        "id": "F8K_kkKxHRJZ",
        "outputId": "35b3da94-537d-4ea4-ac0c-ef817ae0e474"
      },
      "outputs": [
        {
          "name": "stdout",
          "output_type": "stream",
          "text": [
            "Recall: 74.91%\n"
          ]
        }
      ],
      "source": [
        "# Cálculo de Recall\n",
        "recall_values = cross_val_score(classifier, X, y, scoring='recall_weighted', cv=num_folds)\n",
        "print(\"Recall: \" + str(round(100*recall_values.mean(), 2)) + \"%\")\n"
      ]
    },
    {
      "cell_type": "code",
      "execution_count": null,
      "metadata": {
        "id": "JxXE_OXrHRJa",
        "outputId": "f936718a-9fd1-4a5a-f75d-dfef16d2dd34"
      },
      "outputs": [
        {
          "name": "stdout",
          "output_type": "stream",
          "text": [
            "F1: 74.81%\n"
          ]
        }
      ],
      "source": [
        "# Cáculo de F1\n",
        "f1_values = cross_val_score(classifier, X, y, scoring='f1_weighted', cv=num_folds)\n",
        "print(\"F1: \" + str(round(100*f1_values.mean(), 2)) + \"%\")"
      ]
    },
    {
      "cell_type": "markdown",
      "metadata": {
        "id": "CAPfEgL8HRJa"
      },
      "source": [
        "## Multinomial Naïve Bayes Algorithm\n"
      ]
    },
    {
      "cell_type": "code",
      "execution_count": null,
      "metadata": {
        "id": "V7L9atLQHRJa"
      },
      "outputs": [],
      "source": [
        "X_train, X_valid, y_train, y_valid = train_test_split(X, y, test_size=0.40, random_state=1)\n",
        "\n",
        "# run naive Bayes\n",
        "delays_nb = MultinomialNB(alpha=0.01)\n",
        "delays_nb.fit(X_train, y_train)\n",
        "\n",
        "# predict probabilities\n",
        "predProb_train = delays_nb.predict_proba(X_train)\n",
        "predProb_valid = delays_nb.predict_proba(X_valid)\n",
        "\n",
        "# predict class membership\n",
        "y_train_pred = delays_nb.predict(X_train)\n",
        "y_valid_pred = delays_nb.predict(X_valid)\n"
      ]
    },
    {
      "cell_type": "code",
      "execution_count": null,
      "metadata": {
        "id": "yWNxTnOlHRJb",
        "outputId": "a33bb293-f462-4871-d1c4-38e117c29074"
      },
      "outputs": [
        {
          "name": "stdout",
          "output_type": "stream",
          "text": [
            "Confusion Matrix (Accuracy 0.5897)\n",
            "\n",
            "              Prediction\n",
            "       Actual    Satisfecho No Satisfecho\n",
            "   Satisfecho         15743         19461\n",
            "No Satisfecho         12516         30208\n",
            "\n",
            "Confusion Matrix (Accuracy 0.5926)\n",
            "\n",
            "              Prediction\n",
            "       Actual    Satisfecho No Satisfecho\n",
            "   Satisfecho         10592         12997\n",
            "No Satisfecho          8169         20194\n"
          ]
        }
      ],
      "source": [
        "# Matriz de confusión con data training\n",
        "\n",
        "classificationSummary(y_train, y_train_pred, class_names= ['Satisfecho', 'No Satisfecho'])\n",
        "\n",
        "print()\n",
        "\n",
        "# Matriz de confusión con valid data\n",
        "\n",
        "classificationSummary(y_valid, y_valid_pred, class_names= ['Satisfecho', 'No Satisfecho'])"
      ]
    },
    {
      "cell_type": "code",
      "execution_count": null,
      "metadata": {
        "id": "A9Vs0wNCHRJb",
        "outputId": "be18603b-cd43-4c16-c153-a5fcbc407f8e"
      },
      "outputs": [
        {
          "data": {
            "text/html": [
              "<div>\n",
              "<style scoped>\n",
              "    .dataframe tbody tr th:only-of-type {\n",
              "        vertical-align: middle;\n",
              "    }\n",
              "\n",
              "    .dataframe tbody tr th {\n",
              "        vertical-align: top;\n",
              "    }\n",
              "\n",
              "    .dataframe thead th {\n",
              "        text-align: right;\n",
              "    }\n",
              "</style>\n",
              "<table border=\"1\" class=\"dataframe\">\n",
              "  <thead>\n",
              "    <tr style=\"text-align: right;\">\n",
              "      <th></th>\n",
              "      <th>actual</th>\n",
              "      <th>predicted</th>\n",
              "      <th>0</th>\n",
              "      <th>1</th>\n",
              "    </tr>\n",
              "  </thead>\n",
              "  <tbody>\n",
              "    <tr>\n",
              "      <th>24303</th>\n",
              "      <td>dissatisfied</td>\n",
              "      <td>satisfied</td>\n",
              "      <td>4.788267e-03</td>\n",
              "      <td>9.952117e-01</td>\n",
              "    </tr>\n",
              "    <tr>\n",
              "      <th>59503</th>\n",
              "      <td>satisfied</td>\n",
              "      <td>satisfied</td>\n",
              "      <td>4.700579e-02</td>\n",
              "      <td>9.529942e-01</td>\n",
              "    </tr>\n",
              "    <tr>\n",
              "      <th>63836</th>\n",
              "      <td>satisfied</td>\n",
              "      <td>satisfied</td>\n",
              "      <td>3.718067e-01</td>\n",
              "      <td>6.281933e-01</td>\n",
              "    </tr>\n",
              "    <tr>\n",
              "      <th>2451</th>\n",
              "      <td>dissatisfied</td>\n",
              "      <td>satisfied</td>\n",
              "      <td>2.697150e-02</td>\n",
              "      <td>9.730285e-01</td>\n",
              "    </tr>\n",
              "    <tr>\n",
              "      <th>124012</th>\n",
              "      <td>satisfied</td>\n",
              "      <td>dissatisfied</td>\n",
              "      <td>9.943655e-01</td>\n",
              "      <td>5.634477e-03</td>\n",
              "    </tr>\n",
              "    <tr>\n",
              "      <th>80207</th>\n",
              "      <td>satisfied</td>\n",
              "      <td>dissatisfied</td>\n",
              "      <td>1.000000e+00</td>\n",
              "      <td>5.034904e-31</td>\n",
              "    </tr>\n",
              "    <tr>\n",
              "      <th>84779</th>\n",
              "      <td>satisfied</td>\n",
              "      <td>satisfied</td>\n",
              "      <td>5.297016e-07</td>\n",
              "      <td>9.999995e-01</td>\n",
              "    </tr>\n",
              "    <tr>\n",
              "      <th>16537</th>\n",
              "      <td>satisfied</td>\n",
              "      <td>satisfied</td>\n",
              "      <td>1.717133e-06</td>\n",
              "      <td>9.999983e-01</td>\n",
              "    </tr>\n",
              "    <tr>\n",
              "      <th>123038</th>\n",
              "      <td>satisfied</td>\n",
              "      <td>dissatisfied</td>\n",
              "      <td>1.000000e+00</td>\n",
              "      <td>4.744657e-09</td>\n",
              "    </tr>\n",
              "    <tr>\n",
              "      <th>118534</th>\n",
              "      <td>satisfied</td>\n",
              "      <td>satisfied</td>\n",
              "      <td>3.853285e-08</td>\n",
              "      <td>1.000000e+00</td>\n",
              "    </tr>\n",
              "    <tr>\n",
              "      <th>63350</th>\n",
              "      <td>satisfied</td>\n",
              "      <td>dissatisfied</td>\n",
              "      <td>1.000000e+00</td>\n",
              "      <td>7.110422e-25</td>\n",
              "    </tr>\n",
              "    <tr>\n",
              "      <th>2776</th>\n",
              "      <td>satisfied</td>\n",
              "      <td>satisfied</td>\n",
              "      <td>2.978736e-04</td>\n",
              "      <td>9.997021e-01</td>\n",
              "    </tr>\n",
              "    <tr>\n",
              "      <th>122540</th>\n",
              "      <td>satisfied</td>\n",
              "      <td>satisfied</td>\n",
              "      <td>3.325107e-07</td>\n",
              "      <td>9.999997e-01</td>\n",
              "    </tr>\n",
              "    <tr>\n",
              "      <th>41299</th>\n",
              "      <td>dissatisfied</td>\n",
              "      <td>dissatisfied</td>\n",
              "      <td>9.988767e-01</td>\n",
              "      <td>1.123285e-03</td>\n",
              "    </tr>\n",
              "    <tr>\n",
              "      <th>120796</th>\n",
              "      <td>satisfied</td>\n",
              "      <td>dissatisfied</td>\n",
              "      <td>7.683593e-01</td>\n",
              "      <td>2.316407e-01</td>\n",
              "    </tr>\n",
              "    <tr>\n",
              "      <th>56854</th>\n",
              "      <td>satisfied</td>\n",
              "      <td>satisfied</td>\n",
              "      <td>2.232578e-02</td>\n",
              "      <td>9.776742e-01</td>\n",
              "    </tr>\n",
              "    <tr>\n",
              "      <th>40948</th>\n",
              "      <td>dissatisfied</td>\n",
              "      <td>dissatisfied</td>\n",
              "      <td>1.000000e+00</td>\n",
              "      <td>2.072870e-10</td>\n",
              "    </tr>\n",
              "    <tr>\n",
              "      <th>43008</th>\n",
              "      <td>dissatisfied</td>\n",
              "      <td>dissatisfied</td>\n",
              "      <td>9.821458e-01</td>\n",
              "      <td>1.785423e-02</td>\n",
              "    </tr>\n",
              "    <tr>\n",
              "      <th>2736</th>\n",
              "      <td>satisfied</td>\n",
              "      <td>satisfied</td>\n",
              "      <td>2.600613e-06</td>\n",
              "      <td>9.999974e-01</td>\n",
              "    </tr>\n",
              "    <tr>\n",
              "      <th>106681</th>\n",
              "      <td>satisfied</td>\n",
              "      <td>satisfied</td>\n",
              "      <td>3.682554e-06</td>\n",
              "      <td>9.999963e-01</td>\n",
              "    </tr>\n",
              "  </tbody>\n",
              "</table>\n",
              "</div>"
            ],
            "text/plain": [
              "              actual     predicted             0             1\n",
              "24303   dissatisfied     satisfied  4.788267e-03  9.952117e-01\n",
              "59503      satisfied     satisfied  4.700579e-02  9.529942e-01\n",
              "63836      satisfied     satisfied  3.718067e-01  6.281933e-01\n",
              "2451    dissatisfied     satisfied  2.697150e-02  9.730285e-01\n",
              "124012     satisfied  dissatisfied  9.943655e-01  5.634477e-03\n",
              "80207      satisfied  dissatisfied  1.000000e+00  5.034904e-31\n",
              "84779      satisfied     satisfied  5.297016e-07  9.999995e-01\n",
              "16537      satisfied     satisfied  1.717133e-06  9.999983e-01\n",
              "123038     satisfied  dissatisfied  1.000000e+00  4.744657e-09\n",
              "118534     satisfied     satisfied  3.853285e-08  1.000000e+00\n",
              "63350      satisfied  dissatisfied  1.000000e+00  7.110422e-25\n",
              "2776       satisfied     satisfied  2.978736e-04  9.997021e-01\n",
              "122540     satisfied     satisfied  3.325107e-07  9.999997e-01\n",
              "41299   dissatisfied  dissatisfied  9.988767e-01  1.123285e-03\n",
              "120796     satisfied  dissatisfied  7.683593e-01  2.316407e-01\n",
              "56854      satisfied     satisfied  2.232578e-02  9.776742e-01\n",
              "40948   dissatisfied  dissatisfied  1.000000e+00  2.072870e-10\n",
              "43008   dissatisfied  dissatisfied  9.821458e-01  1.785423e-02\n",
              "2736       satisfied     satisfied  2.600613e-06  9.999974e-01\n",
              "106681     satisfied     satisfied  3.682554e-06  9.999963e-01"
            ]
          },
          "execution_count": 115,
          "metadata": {},
          "output_type": "execute_result"
        }
      ],
      "source": [
        "# Comparativa cuantitativa entre resultados actual y predicted\n",
        "df = pd.concat([pd.DataFrame({'actual': y_valid, 'predicted': y_valid_pred}),\n",
        "                pd.DataFrame(predProb_valid, index=y_valid.index)], axis=1)\n",
        "df.head(20)"
      ]
    },
    {
      "cell_type": "markdown",
      "metadata": {
        "id": "NACkAm-dHRJc"
      },
      "source": [
        "# Clasificación: K vecinos más cercanos - KNN"
      ]
    },
    {
      "cell_type": "code",
      "execution_count": null,
      "metadata": {
        "jupyter": {
          "outputs_hidden": false
        },
        "id": "0yC0eDvLHRJc",
        "outputId": "2896f776-a1f5-4961-c210-39c1ede244fd"
      },
      "outputs": [
        {
          "data": {
            "text/html": [
              "<div>\n",
              "<style scoped>\n",
              "    .dataframe tbody tr th:only-of-type {\n",
              "        vertical-align: middle;\n",
              "    }\n",
              "\n",
              "    .dataframe tbody tr th {\n",
              "        vertical-align: top;\n",
              "    }\n",
              "\n",
              "    .dataframe thead th {\n",
              "        text-align: right;\n",
              "    }\n",
              "</style>\n",
              "<table border=\"1\" class=\"dataframe\">\n",
              "  <thead>\n",
              "    <tr style=\"text-align: right;\">\n",
              "      <th></th>\n",
              "      <th>User ID</th>\n",
              "      <th>Gender</th>\n",
              "      <th>Age</th>\n",
              "      <th>AnnualSalary</th>\n",
              "      <th>Purchased</th>\n",
              "    </tr>\n",
              "  </thead>\n",
              "  <tbody>\n",
              "    <tr>\n",
              "      <th>0</th>\n",
              "      <td>385</td>\n",
              "      <td>Male</td>\n",
              "      <td>35</td>\n",
              "      <td>20000</td>\n",
              "      <td>0</td>\n",
              "    </tr>\n",
              "    <tr>\n",
              "      <th>1</th>\n",
              "      <td>681</td>\n",
              "      <td>Male</td>\n",
              "      <td>40</td>\n",
              "      <td>43500</td>\n",
              "      <td>0</td>\n",
              "    </tr>\n",
              "    <tr>\n",
              "      <th>2</th>\n",
              "      <td>353</td>\n",
              "      <td>Male</td>\n",
              "      <td>49</td>\n",
              "      <td>74000</td>\n",
              "      <td>0</td>\n",
              "    </tr>\n",
              "    <tr>\n",
              "      <th>3</th>\n",
              "      <td>895</td>\n",
              "      <td>Male</td>\n",
              "      <td>40</td>\n",
              "      <td>107500</td>\n",
              "      <td>1</td>\n",
              "    </tr>\n",
              "    <tr>\n",
              "      <th>4</th>\n",
              "      <td>661</td>\n",
              "      <td>Male</td>\n",
              "      <td>25</td>\n",
              "      <td>79000</td>\n",
              "      <td>0</td>\n",
              "    </tr>\n",
              "  </tbody>\n",
              "</table>\n",
              "</div>"
            ],
            "text/plain": [
              "   User ID Gender  Age  AnnualSalary  Purchased\n",
              "0      385   Male   35         20000          0\n",
              "1      681   Male   40         43500          0\n",
              "2      353   Male   49         74000          0\n",
              "3      895   Male   40        107500          1\n",
              "4      661   Male   25         79000          0"
            ]
          },
          "execution_count": 116,
          "metadata": {},
          "output_type": "execute_result"
        }
      ],
      "source": [
        "# Dataset obtenido de https://www.kaggle.com/datasets/gabrielsantello/cars-purchase-decision-dataset?resource=download\n",
        "car_df = pd.read_csv('car_data.csv')\n",
        "car_df.head()"
      ]
    },
    {
      "cell_type": "code",
      "execution_count": null,
      "metadata": {
        "id": "b5jkUuvmHRJd",
        "outputId": "08f2b2a9-74a6-49ef-ca3d-8b903b3edac6"
      },
      "outputs": [
        {
          "data": {
            "text/plain": [
              "(1000, 5)"
            ]
          },
          "execution_count": 72,
          "metadata": {},
          "output_type": "execute_result"
        }
      ],
      "source": [
        "car_df.shape"
      ]
    },
    {
      "cell_type": "markdown",
      "metadata": {
        "id": "uYLvgKK_HRJe"
      },
      "source": [
        "### Future Selection: variables relevantes"
      ]
    },
    {
      "cell_type": "code",
      "execution_count": null,
      "metadata": {
        "id": "ObpVN2IhHRJn"
      },
      "outputs": [],
      "source": [
        "car_df.drop(columns=['User ID','Gender'], inplace=True)"
      ]
    },
    {
      "cell_type": "code",
      "execution_count": null,
      "metadata": {
        "id": "Rwcbjc2qHRJo",
        "outputId": "42aaf331-8ce8-4ec5-9648-55c6e8a3fc93"
      },
      "outputs": [
        {
          "data": {
            "text/plain": [
              "Age             int64\n",
              "AnnualSalary    int64\n",
              "Purchased       int64\n",
              "dtype: object"
            ]
          },
          "execution_count": 74,
          "metadata": {},
          "output_type": "execute_result"
        }
      ],
      "source": [
        "car_df.dtypes"
      ]
    },
    {
      "cell_type": "code",
      "execution_count": null,
      "metadata": {
        "id": "L-7oXgr_HRJo",
        "outputId": "8242bf12-3338-4367-f284-67fcf0cd65e4"
      },
      "outputs": [
        {
          "data": {
            "text/html": [
              "<div>\n",
              "<style scoped>\n",
              "    .dataframe tbody tr th:only-of-type {\n",
              "        vertical-align: middle;\n",
              "    }\n",
              "\n",
              "    .dataframe tbody tr th {\n",
              "        vertical-align: top;\n",
              "    }\n",
              "\n",
              "    .dataframe thead th {\n",
              "        text-align: right;\n",
              "    }\n",
              "</style>\n",
              "<table border=\"1\" class=\"dataframe\">\n",
              "  <thead>\n",
              "    <tr style=\"text-align: right;\">\n",
              "      <th></th>\n",
              "      <th>Age</th>\n",
              "      <th>AnnualSalary</th>\n",
              "      <th>Purchased</th>\n",
              "    </tr>\n",
              "  </thead>\n",
              "  <tbody>\n",
              "    <tr>\n",
              "      <th>0</th>\n",
              "      <td>35</td>\n",
              "      <td>20000</td>\n",
              "      <td>0</td>\n",
              "    </tr>\n",
              "    <tr>\n",
              "      <th>1</th>\n",
              "      <td>40</td>\n",
              "      <td>43500</td>\n",
              "      <td>0</td>\n",
              "    </tr>\n",
              "    <tr>\n",
              "      <th>2</th>\n",
              "      <td>49</td>\n",
              "      <td>74000</td>\n",
              "      <td>0</td>\n",
              "    </tr>\n",
              "    <tr>\n",
              "      <th>3</th>\n",
              "      <td>40</td>\n",
              "      <td>107500</td>\n",
              "      <td>1</td>\n",
              "    </tr>\n",
              "    <tr>\n",
              "      <th>4</th>\n",
              "      <td>25</td>\n",
              "      <td>79000</td>\n",
              "      <td>0</td>\n",
              "    </tr>\n",
              "  </tbody>\n",
              "</table>\n",
              "</div>"
            ],
            "text/plain": [
              "   Age  AnnualSalary  Purchased\n",
              "0   35         20000          0\n",
              "1   40         43500          0\n",
              "2   49         74000          0\n",
              "3   40        107500          1\n",
              "4   25         79000          0"
            ]
          },
          "execution_count": 75,
          "metadata": {},
          "output_type": "execute_result"
        }
      ],
      "source": [
        "car_df.head()"
      ]
    },
    {
      "cell_type": "code",
      "execution_count": null,
      "metadata": {
        "id": "oe56ornZHRJp",
        "outputId": "ecf24f80-7bb2-4a05-906d-8da86b44e4ac"
      },
      "outputs": [
        {
          "data": {
            "text/plain": [
              "72000.0"
            ]
          },
          "execution_count": 80,
          "metadata": {},
          "output_type": "execute_result"
        }
      ],
      "source": [
        "car_df.AnnualSalary.median()"
      ]
    },
    {
      "cell_type": "code",
      "execution_count": null,
      "metadata": {
        "id": "Ysunsy3LHRJq",
        "outputId": "f9e6d63e-985f-4562-f220-7c5858462892"
      },
      "outputs": [
        {
          "data": {
            "text/plain": [
              "40.0"
            ]
          },
          "execution_count": 77,
          "metadata": {},
          "output_type": "execute_result"
        }
      ],
      "source": [
        "car_df.Age.median()"
      ]
    },
    {
      "cell_type": "code",
      "execution_count": null,
      "metadata": {
        "id": "o9904IQ4HRJq",
        "outputId": "36034423-8a8a-4651-f2f6-11743e2718ac"
      },
      "outputs": [
        {
          "name": "stdout",
          "output_type": "stream",
          "text": [
            "(600, 3) (400, 3)\n"
          ]
        },
        {
          "data": {
            "text/html": [
              "<div>\n",
              "<style scoped>\n",
              "    .dataframe tbody tr th:only-of-type {\n",
              "        vertical-align: middle;\n",
              "    }\n",
              "\n",
              "    .dataframe tbody tr th {\n",
              "        vertical-align: top;\n",
              "    }\n",
              "\n",
              "    .dataframe thead th {\n",
              "        text-align: right;\n",
              "    }\n",
              "</style>\n",
              "<table border=\"1\" class=\"dataframe\">\n",
              "  <thead>\n",
              "    <tr style=\"text-align: right;\">\n",
              "      <th></th>\n",
              "      <th>Age</th>\n",
              "      <th>AnnualSalary</th>\n",
              "    </tr>\n",
              "  </thead>\n",
              "  <tbody>\n",
              "    <tr>\n",
              "      <th>0</th>\n",
              "      <td>30</td>\n",
              "      <td>72000.0</td>\n",
              "    </tr>\n",
              "  </tbody>\n",
              "</table>\n",
              "</div>"
            ],
            "text/plain": [
              "   Age  AnnualSalary\n",
              "0   30       72000.0"
            ]
          },
          "execution_count": 83,
          "metadata": {},
          "output_type": "execute_result"
        }
      ],
      "source": [
        "trainData, validData = train_test_split(car_df, test_size=0.4, random_state=26)\n",
        "print(trainData.shape, validData.shape)\n",
        "newBuyer = pd.DataFrame([{'Age': 30, 'AnnualSalary': 72000.0}]) #esta es una nueva observación a predecir la clase\n",
        "newBuyer"
      ]
    },
    {
      "cell_type": "code",
      "execution_count": null,
      "metadata": {
        "id": "4sVAiSwFHRJr",
        "outputId": "f8ad44b1-0674-4fd4-9555-0d8875584c48"
      },
      "outputs": [
        {
          "name": "stdout",
          "output_type": "stream",
          "text": [
            "     Age  AnnualSalary  Purchased\n",
            "587   18         82000          0\n",
            "877   41         58500          0\n",
            "878   35         47000          0\n",
            "548   36         51500          0\n",
            "434   41         66500          0\n",
            "..   ...           ...        ...\n",
            "102   26         80000          0\n",
            "961   40         75000          0\n",
            "432   38         65000          0\n",
            "774   29         60500          0\n",
            "318   36         73500          0\n",
            "\n",
            "[364 rows x 3 columns]\n",
            "     Age  AnnualSalary  Purchased\n",
            "473   58         47000          1\n",
            "891   47         30000          1\n",
            "61    48         26500          1\n",
            "82    42         88500          1\n",
            "601   53         72000          1\n",
            "..   ...           ...        ...\n",
            "217   61         43500          1\n",
            "695   35         91000          1\n",
            "160   30        135000          1\n",
            "986   48         33000          1\n",
            "821   58         27500          1\n",
            "\n",
            "[236 rows x 3 columns]\n",
            "\n"
          ]
        },
        {
          "data": {
            "text/plain": [
              "<matplotlib.legend.Legend at 0x2474fd26c10>"
            ]
          },
          "execution_count": 117,
          "metadata": {},
          "output_type": "execute_result"
        },
        {
          "data": {
            "image/png": "[encoded data removed]",
            "text/plain": [
              "<Figure size 432x288 with 1 Axes>"
            ]
          },
          "metadata": {
            "needs_background": "light"
          },
          "output_type": "display_data"
        }
      ],
      "source": [
        "fig, ax = plt.subplots()\n",
        "\n",
        "#Agrupación de NoComprado\n",
        "subset = trainData.loc[trainData['Purchased']== 0]\n",
        "print(subset)\n",
        "ax.scatter(subset.Age, subset.AnnualSalary, marker='o', label='NoComprado', color='C1')\n",
        "\n",
        "#Agrupación de Comprado\n",
        "subset = trainData.loc[trainData['Purchased']==1]\n",
        "print(subset)\n",
        "print()\n",
        "ax.scatter(subset.Age, subset.AnnualSalary, marker='D', label='Comprado', color='C0')\n",
        "\n",
        "# Observación a predecir\n",
        "ax.scatter(newBuyer.Age, newBuyer.AnnualSalary, marker='*', label='New Buyer', color='green', s=150)\n",
        "\n",
        "plt.xlabel('Age')\n",
        "plt.ylabel('AnnualSalary')\n",
        "\n",
        "handles, labels = ax.get_legend_handles_labels()\n",
        "\n",
        "\n",
        "ax.legend(handles, labels, loc=4)"
      ]
    },
    {
      "cell_type": "markdown",
      "metadata": {
        "id": "bSKV276THRJr"
      },
      "source": [
        "#### Como se puede observar la estrella verde, un comprador (buyer) que tiene edad de 30años y su ingreso anual de 72000$, tiene vecinos cercanos que no compran. \"NoComprado\""
      ]
    },
    {
      "cell_type": "code",
      "execution_count": null,
      "metadata": {
        "id": "jjDE2U33HRJr",
        "outputId": "2836eef8-8f17-4ba0-d8b8-d9ebc923f3f6"
      },
      "outputs": [
        {
          "name": "stdout",
          "output_type": "stream",
          "text": [
            "       zAge  zAnnualSalary  Purchased\n",
            "0 -0.440970      -1.519365          0\n",
            "1  0.028147      -0.843484          0\n",
            "2  0.872557       0.033722          0\n",
            "3  0.028147       0.997211          1\n",
            "4 -1.379203       0.177526          0\n",
            "(1000, 3)\n",
            "Ejemplo de entrenamiento:\n",
            "         zAge  zAnnualSalary  Purchased\n",
            "473  1.716967      -0.742821          1\n",
            "891  0.684910      -1.231756          1\n",
            "587 -2.035966       0.263809          0\n",
            "61   0.778734      -1.332419          1\n",
            "877  0.121970      -0.412071          0\n",
            "878 -0.440970      -0.742821          0\n",
            "82   0.215794       0.450755          1\n",
            "548 -0.347146      -0.613397          0\n",
            "434  0.121970      -0.181984          0\n",
            "395 -1.566850      -1.289278          0\n",
            "933 -0.534793      -0.584637          0\n",
            "601  1.247850      -0.023800          1\n",
            "115 -0.159500       1.126635          0\n",
            "\n",
            "Nueva obs:\n",
            "   Age  AnnualSalary\n",
            "0   30       72000.0\n",
            "Nueva obs escalada:\n",
            "       zAge  zAnnualSalary\n",
            "0 -0.910086        -0.0238\n"
          ]
        }
      ],
      "source": [
        "scaler = preprocessing.StandardScaler()\n",
        "scaler.fit(trainData[['Age', 'AnnualSalary']])  # Note the use of an array of column names\n",
        "\n",
        "# Transform the full dataset\n",
        "carNorm = pd.concat([pd.DataFrame(scaler.transform(car_df[['Age', 'AnnualSalary']]),\n",
        "                                    columns=['zAge', 'zAnnualSalary']),\n",
        "                       car_df[['Purchased']]], axis=1)\n",
        "print(carNorm.head())\n",
        "print(carNorm.shape)\n",
        "\n",
        "trainNorm = carNorm.iloc[trainData.index]\n",
        "validNorm = carNorm.iloc[validData.index]\n",
        "print('Ejemplo de entrenamiento:')\n",
        "print(trainNorm.iloc[:13, :])\n",
        "\n",
        "\n",
        "newBuyerNorm = pd.DataFrame(scaler.transform(newBuyer), columns=['zAge', 'zAnnualSalary'])\n",
        "print('\\nNueva obs:')\n",
        "print(newBuyer)\n",
        "print('Nueva obs escalada:')\n",
        "print(newBuyerNorm)"
      ]
    },
    {
      "cell_type": "code",
      "execution_count": null,
      "metadata": {
        "id": "QqC6OZRdHRJr",
        "outputId": "7f45603c-3245-40a1-dc3e-33bf14e00d1f"
      },
      "outputs": [
        {
          "data": {
            "text/plain": [
              "(1000, 5)"
            ]
          },
          "execution_count": 118,
          "metadata": {},
          "output_type": "execute_result"
        }
      ],
      "source": [
        "car_df.shape"
      ]
    },
    {
      "cell_type": "code",
      "execution_count": null,
      "metadata": {
        "id": "TKI6juOwHRJs",
        "outputId": "14892998-04c0-4342-935a-2e507da439e1"
      },
      "outputs": [
        {
          "name": "stdout",
          "output_type": "stream",
          "text": [
            "Máximo accuracy:  0.915 cuyo k =  6\n"
          ]
        }
      ],
      "source": [
        "train_X = trainNorm[['zAge', 'zAnnualSalary']]\n",
        "train_y = trainNorm['Purchased']\n",
        "valid_X = validNorm[['zAge', 'zAnnualSalary']]\n",
        "valid_y = validNorm['Purchased']\n",
        "\n",
        "# 600 iteraciones para calcular el valor más preciso de k\n",
        "results = []\n",
        "for k in range(1, 601):\n",
        "    knn = KNeighborsClassifier(n_neighbors=k).fit(train_X, train_y)\n",
        "    results.append({\n",
        "        'k': k,\n",
        "        'accuracy': accuracy_score(valid_y, knn.predict(valid_X))\n",
        "    })\n",
        "\n",
        "#Resultados de k con su respectivo accuracy\n",
        "results = pd.DataFrame(results)\n",
        "\n",
        "# Cálculo de k con más accuracy\n",
        "k_max = results['accuracy'].idxmax() + 1\n",
        "print(\"Máximo accuracy: \", results['accuracy'].max(), 'cuyo k = ', k_max)"
      ]
    },
    {
      "cell_type": "markdown",
      "metadata": {
        "id": "z0eT5RH1HRJs"
      },
      "source": [
        "## Como se puede visualizar, el número de vecinos que arroja una mayor precisión de predicción es k=6"
      ]
    },
    {
      "cell_type": "markdown",
      "metadata": {
        "id": "oDSfbY09HRJt"
      },
      "source": [
        "# Conclusiones"
      ]
    },
    {
      "cell_type": "markdown",
      "metadata": {
        "id": "kLUdrtCFHRJu"
      },
      "source": [
        "1. Se concluye que La clasificación: K vecinos más cercanos - KNN, permite predecir la si una observación es parte de una clase utilizando el número preciso de vecinos más cercanos  \n",
        "\n",
        "1. Se concluye Naïve Bayes es una técnica que permite clasificar una observación mediante diferentes algoritmos como Gaussian o Multinomial que se acoplan al tipo de las variables independientes"
      ]
    },
    {
      "cell_type": "markdown",
      "metadata": {
        "id": "CHIj8Yo1HRJv"
      },
      "source": [
        "# Bibliografía"
      ]
    },
    {
      "cell_type": "markdown",
      "metadata": {
        "id": "niVvF2GqHRJv"
      },
      "source": [
        "1. sklearn.naive_bayes.MultinomialNB. (2022). Scikit-Learn. https://scikit-learn.org/stable/modules/generated/sklearn.naive_bayes.MultinomialNB.html\n",
        "1. Roy, B. (2021, January 8). MultinomialNB or GaussianNB or CategoricalNB what to use here? Stack Overflow. https://stackoverflow.com/questions/65627712/multinomialnb-or-gaussiannb-or-categoricalnb-what-to-use-here\n",
        "\n",
        "‌\n"
      ]
    },
    {
      "cell_type": "code",
      "execution_count": null,
      "metadata": {
        "id": "g4eeJF4RHRJw"
      },
      "outputs": [],
      "source": []
    }
  ],
  "metadata": {
    "kernelspec": {
      "display_name": "Python 3",
      "language": "python",
      "name": "python3"
    },
    "language_info": {
      "codemirror_mode": {
        "name": "ipython",
        "version": 3
      },
      "file_extension": ".py",
      "mimetype": "text/x-python",
      "name": "python",
      "nbconvert_exporter": "python",
      "pygments_lexer": "ipython3",
      "version": "3.8.5"
    },
    "colab": {
      "provenance": [],
      "include_colab_link": true
    }
  },
  "nbformat": 4,
  "nbformat_minor": 0
}